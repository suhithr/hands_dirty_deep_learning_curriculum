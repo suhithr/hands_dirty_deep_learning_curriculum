{
 "cells": [
  {
   "cell_type": "code",
   "execution_count": 2,
   "metadata": {},
   "outputs": [
    {
     "data": {
      "text/plain": [
       "<torch._C.Generator at 0x7d6269eb4c50>"
      ]
     },
     "execution_count": 2,
     "metadata": {},
     "output_type": "execute_result"
    }
   ],
   "source": [
    "from typing import Optional\n",
    "import math\n",
    "from collections import OrderedDict\n",
    "\n",
    "import matplotlib\n",
    "import numpy as np\n",
    "import torch\n",
    "from torch import nn\n",
    "import torch.nn.functional as F\n",
    "from torch.utils.data import DataLoader\n",
    "from einops import rearrange, einsum\n",
    "\n",
    "torch.manual_seed(1234)"
   ]
  },
  {
   "cell_type": "markdown",
   "metadata": {},
   "source": [
    "### Sinusoidal Positional Encodings\n",
    "\n",
    "This is used to inject some positional information into the embeddings of the token sequence. Since we compute the next token for every single token in parallel, we want some info about the position of a token within a sequence to be represented as well.\n",
    "1. Unique encoding for each position (across all sequences)\n",
    "2. Generalize to longer sequence than seen in training\n",
    "3. Generated deterministically (so the model can learn it)\n",
    "4. Linear relation between 2 encoded positions (again to help the model learn relationships)\n",
    "\n",
    "\n",
    "Given a position $pos$ output a vector $d_{model}$ such that for each location $i$ in the vector the output is $$PE_{pos,2i} = \\sin(pos/10000^{2i/d_{model}})$$ $$PE_{pos,2i+1} = \\cos(pos/10000^{2i/d_{model}})$$\n",
    "for even and odd indices respectively\n",
    "\n",
    "we refactor as $$PE_{pos,2i} = \\sin(pos.w)$$ $$PE_{pos,2i+1} = \\cos(pos.w)$$ where $w=1/(10000^{2i/d_{model}}) for 0 <= 2i <= d_{model}$\n",
    "\n",
    "![Sinusoidal PE visualization](fleetwood_sinusoidal.png \"https://fleetwood.dev/posts/you-could-have-designed-SOTA-positional-encoding\")\n",
    "Look at the functions. For a dimension $i$ the $sin/cos$ function's wave starts out extremely quickly changing values for small $i$, and slows down a lot up to a wavelength of $10000*2\\pi$.\n",
    "\n",
    "#### Derivation to use tensor ops\n",
    "$$\\frac{1}{10000^{k/d_{model}}} = 10000^{-k/d_{model}} = \\exp(\\log(10000^{-k/d_{model}}))$$\n",
    "$$ = \\exp(-k/d_{model} * \\log(10000))$$\n",
    "this is basically\n",
    "$$torch.exp(k * (-\\frac{1}{d_{model}}) * \\log(10000))$$"
   ]
  },
  {
   "cell_type": "code",
   "execution_count": 3,
   "metadata": {},
   "outputs": [],
   "source": [
    "class SinusoidalPositionalEncoding(nn.Module):\n",
    "    def __init__(self, d_model: int, max_len: int = 5000) -> None:\n",
    "        \"\"\"Construct the entire positional encoding.\"\"\"\n",
    "        super().__init__()\n",
    "        w = torch.exp(torch.arange(0, d_model, 2) * (-1/d_model) * math.log(10000))\n",
    "        PE = torch.zeros([max_len, d_model])\n",
    "        positions = torch.arange(0, max_len)\n",
    "        # We have 2 vectors\n",
    "        assert (positions.shape == (max_len,))\n",
    "        assert (w.shape == (d_model // 2,))\n",
    "        # If we reshape positions into a row of columns [[0], [1], [2], ...] then \n",
    "        # positions @ w -> gives us a matrix of shape [max_len, d_model/2 ]\n",
    "        positions = rearrange(positions, \"(len column) -> len column\", column=1)\n",
    "        PE[:, 0::2] = torch.sin(positions * w)\n",
    "        PE[:, 1::2] = torch.cos(positions * w)\n",
    "        self.register_buffer(\"PE\", PE) # this is not to be a learnable parameter\n",
    "        # However we do want it to be moved along with model.to(device) \n",
    "    \n",
    "    def forward(self):\n",
    "        return self.PE"
   ]
  },
  {
   "cell_type": "markdown",
   "metadata": {},
   "source": [
    "Just a reference implementation with for-loops to demonstrate speedup of torch ops."
   ]
  },
  {
   "cell_type": "code",
   "execution_count": 4,
   "metadata": {},
   "outputs": [],
   "source": [
    "# output pe -> [d_model]\n",
    "def sinusoidal_position_encoding(pos: int, d_model: int = 512) -> torch.Tensor:\n",
    "    # w = 1/10000**(2i/d_model)\n",
    "    w = torch.tensor([1/(10_000**(k/d_model)) for k in range(0, d_model, 2)])\n",
    "    x_indices = pos * w \n",
    "    PE_even = torch.sin(x_indices)\n",
    "    PE_odd = torch.cos(x_indices)\n",
    "    PE_even = rearrange(PE_even, \"(new_dim l) -> l new_dim\", new_dim=1)\n",
    "    PE_odd = rearrange(PE_odd, \"(new_dim l) -> l new_dim\", new_dim=1)\n",
    "    interleaved_result = rearrange([PE_even, PE_odd], \"function d_model element -> (d_model element function)\")\n",
    "    assert (interleaved_result.shape == (d_model,))\n",
    "    return interleaved_result\n",
    "\n",
    "def generate_position_encoding(max_len: int = 5000, d_model: int = 512) -> torch.Tensor:\n",
    "    all_positions_encoding = torch.zeros([max_len, d_model], dtype=torch.float32)\n",
    "    for position in range(max_len):\n",
    "        all_positions_encoding[position, :] += sinusoidal_position_encoding(position, d_model)\n",
    "    return all_positions_encoding"
   ]
  },
  {
   "cell_type": "markdown",
   "metadata": {},
   "source": [
    "#### Note below the speed differential of the vectorized pytorch ops. Eye the units 👀"
   ]
  },
  {
   "cell_type": "code",
   "execution_count": 5,
   "metadata": {},
   "outputs": [
    {
     "name": "stdout",
     "output_type": "stream",
     "text": [
      "241 ms ± 2.45 ms per loop (mean ± std. dev. of 7 runs, 1 loop each)\n"
     ]
    }
   ],
   "source": [
    "%%timeit\n",
    "generate_position_encoding()"
   ]
  },
  {
   "cell_type": "code",
   "execution_count": 6,
   "metadata": {},
   "outputs": [
    {
     "name": "stdout",
     "output_type": "stream",
     "text": [
      "354 μs ± 31.1 μs per loop (mean ± std. dev. of 7 runs, 1,000 loops each)\n"
     ]
    }
   ],
   "source": [
    "%%timeit\n",
    "SinusoidalPositionalEncoding(512)"
   ]
  },
  {
   "cell_type": "code",
   "execution_count": 7,
   "metadata": {},
   "outputs": [
    {
     "name": "stdout",
     "output_type": "stream",
     "text": [
      "torch.Size([5000, 512])\n"
     ]
    }
   ],
   "source": [
    "print(SinusoidalPositionalEncoding(d_model=512).PE.shape)"
   ]
  },
  {
   "cell_type": "code",
   "execution_count": 8,
   "metadata": {},
   "outputs": [],
   "source": [
    "def test_sinusoidal_positional_encoding_class():\n",
    "    max_len = 5000\n",
    "    d_model = 512\n",
    "    pe_class = SinusoidalPositionalEncoding(d_model=d_model, max_len=max_len)\n",
    "    \n",
    "    torch.allclose(pe_class.forward(), generate_position_encoding(max_len=max_len, d_model=d_model))\n",
    "\n",
    "test_sinusoidal_positional_encoding_class()"
   ]
  },
  {
   "cell_type": "markdown",
   "metadata": {},
   "source": [
    "#### Function that calculates attention (single-headed for now)."
   ]
  },
  {
   "cell_type": "markdown",
   "metadata": {},
   "source": [
    "#### A Decoder-Only Transformer Language Model\n",
    "\n",
    "For now we are implementing it with single headed attention"
   ]
  },
  {
   "cell_type": "code",
   "execution_count": 9,
   "metadata": {},
   "outputs": [
    {
     "data": {
      "text/plain": [
       "\"\\nDimension key:\\nL: sequence length\\nD: model dimension (d_model)\\nV: vocabulary size\\nF: feed-forward subnetwork's hidden size\\nK: size of each attention key or value (d_k,d_v,d_kv)\\n\""
      ]
     },
     "execution_count": 9,
     "metadata": {},
     "output_type": "execute_result"
    }
   ],
   "source": [
    "\"\"\"\n",
    "Dimension key:\n",
    "L: sequence length\n",
    "D: model dimension (d_model)\n",
    "V: vocabulary size\n",
    "F: feed-forward subnetwork's hidden size\n",
    "K: size of each attention key or value (d_k,d_v,d_kv)\n",
    "\"\"\""
   ]
  },
  {
   "cell_type": "code",
   "execution_count": 10,
   "metadata": {},
   "outputs": [],
   "source": [
    "class EmbeddingLayer(nn.Module):\n",
    "    def __init__(self, vector_size: int, vocab_size: int):\n",
    "        super().__init__()\n",
    "        self.d_model = vector_size\n",
    "        self.scaling_factor = math.sqrt(self.d_model) # a detail in the paper\n",
    "        self.lut = nn.Embedding(vocab_size, vector_size)\n",
    "    \n",
    "    def forward(self, input_indices: torch.Tensor):\n",
    "        return self.lut(input_indices) * self.scaling_factor\n",
    "\n",
    "    def get_weights(self):\n",
    "        return self.lut.weight"
   ]
  },
  {
   "cell_type": "code",
   "execution_count": 11,
   "metadata": {},
   "outputs": [],
   "source": [
    "class FeedForward(nn.Module):\n",
    "    def __init__(self, D: int, H: int = 2048):\n",
    "        super().__init__()\n",
    "        self.layers = nn.Sequential(OrderedDict([\n",
    "            (\"linear1\", nn.Linear(D, H)),\n",
    "            (\"relu1\", nn.ReLU()),\n",
    "            (\"linear2\", nn.Linear(H, D)),\n",
    "        ]))\n",
    "    \n",
    "    def forward(self, x):\n",
    "        return self.layers.forward(x)\n",
    "\n",
    "\n",
    "\n",
    "class Decoder(nn.Module):\n",
    "    def __init__(self, d_model: int, d_k: int, d_v: int, P_drop: int):\n",
    "        super().__init__()\n",
    "        # attention function\n",
    "        self.d_model = d_model\n",
    "        self.d_k = d_k\n",
    "        self.d_v = d_v\n",
    "        self.P_drop = P_drop\n",
    "        self.W_query_DK = nn.Parameter(torch.randn([self.d_model, self.d_k]), requires_grad=True)\n",
    "        self.W_key_DK = nn.Parameter(torch.randn([self.d_model, self.d_k]), requires_grad=True)\n",
    "        self.W_value_DK = nn.Parameter(torch.randn([self.d_model, self.d_v]), requires_grad=True)\n",
    "\n",
    "        # normalize over the last dimension in shape [N, d_v], so each layer\n",
    "        self.dropout1 = nn.Dropout(p=self.P_drop)\n",
    "        self.layernorm1 = nn.LayerNorm(self.d_v)\n",
    "        self.feedforward = FeedForward(D=self.d_model)\n",
    "        self.dropout2 = nn.Dropout(p=self.P_drop)\n",
    "        self.layernorm2 = nn.LayerNorm(self.d_model)\n",
    "    \n",
    "    def forward(self, input_BLD: torch.Tensor) -> torch.Tensor:\n",
    "        assert(input_BLD.dim() == 3 and input_BLD.shape[-1] == self.d_model)\n",
    "        input_token_length = input_BLD.shape[1]\n",
    "\n",
    "        Query_BLK = torch.matmul(input_BLD, self.W_query_DK)\n",
    "        Key_BLK = torch.matmul(input_BLD, self.W_key_DK)\n",
    "        Value_BLK = torch.matmul(input_BLD, self.W_value_DK)\n",
    "\n",
    "        attn_values_BLV = self.scaled_dot_prd_attention(Query_BLK, Key_BLK, Value_BLK, visualize_attn=False)\n",
    "        reg_attn_values_BLV = self.dropout1(attn_values_BLV)\n",
    "        normalized_attn_values_BLV = self.layernorm1(reg_attn_values_BLV + input_BLD)\n",
    "        assert(normalized_attn_values_BLV.shape == attn_values_BLV.shape)\n",
    "        assert(normalized_attn_values_BLV.dim() == 3 and normalized_attn_values_BLV.shape[-1] == self.d_model)\n",
    "\n",
    "        # print(normalized_attn_values.shape)\n",
    "        ffn_BLD = self.feedforward(normalized_attn_values_BLV)\n",
    "        reg_ffn_BLD = self.dropout1(ffn_BLD)\n",
    "\n",
    "        normalized_ffn_BLD = self.layernorm2(reg_ffn_BLD + normalized_attn_values_BLV)\n",
    "        return normalized_ffn_BLD\n",
    "    \n",
    "    def scaled_dot_prd_attention(self, Query_BLK, Key_BLK, Value_BLK, mask: bool = True, visualize_attn: bool = False) -> torch.Tensor:\n",
    "        assert (Query_BLK.shape == Key_BLK.shape)\n",
    "\n",
    "        Key_BKL = rearrange(Key_BLK, \"B L K -> B K L\")\n",
    "\n",
    "        qk_BLL = einsum(Query_BLK, Key_BKL, \"B S_Q K, B K S_K -> B S_Q S_K\")\n",
    "        scaled_qk_BLL = qk_BLL / math.sqrt(self.d_model)\n",
    "        # since we want to average the attended keys between the dimension d_k\n",
    "        if mask:\n",
    "            tril_qk = torch.tril(scaled_qk_BLL)\n",
    "            scaled_qk_BLL = torch.where(tril_qk == 0, float(\"-inf\"), scaled_qk_BLL)\n",
    "        # print(scaled_QK_t_LL)\n",
    "        # print(scaled_QK_t_LL.shape)\n",
    "        # raise Exception\n",
    "        if visualize_attn:\n",
    "            matplotlib.pyplot.matshow(scaled_qk_BLL[0].cpu().detach().numpy())\n",
    "\n",
    "        weighted_keys_BLL = torch.softmax(scaled_qk_BLL, dim=-1)\n",
    "        # print(weighted_keys)\n",
    "        # raise Exception\n",
    "        attention_output_BLV = einsum(weighted_keys_BLL, Value_BLK, \"B S_Q L , B L D_V -> B S_Q D_V\") \n",
    "        return attention_output_BLV\n",
    "\n"
   ]
  },
  {
   "cell_type": "code",
   "execution_count": 12,
   "metadata": {},
   "outputs": [],
   "source": [
    "def visualize_attention_values():\n",
    "    d_model, d_k, d_v = 16, 16, 16\n",
    "    P_drop = 0.1\n",
    "    dec = Decoder(d_model=16, d_k=d_k, d_v=d_v, P_drop=0.1)\n",
    "    "
   ]
  },
  {
   "cell_type": "code",
   "execution_count": 13,
   "metadata": {},
   "outputs": [],
   "source": [
    "class Transformer(nn.Module):\n",
    "    def __init__(self, d_model: int = 512, num_decoders: int = 6, maximum_sequence_length: int = 5000, P_drop: float = 0.1, vocabulary_size: int = 10000):\n",
    "\n",
    "        super().__init__()\n",
    "        assert (num_decoders >= 1)\n",
    "        self.d_model = d_model\n",
    "        self.d_k, self.d_v = d_model, d_model\n",
    "        self.max_sequence_length = maximum_sequence_length\n",
    "        self.vocabulary_size = vocabulary_size\n",
    "\n",
    "        self.P_drop = P_drop\n",
    "\n",
    "        self.positional_encodings = SinusoidalPositionalEncoding(d_model=self.d_model)\n",
    "\n",
    "        self.emb_dropout = nn.Dropout(p = self.P_drop)\n",
    "        self.embedding = EmbeddingLayer(vector_size=self.d_model, vocab_size=self.vocabulary_size)\n",
    "        # print(\"embed info\", self.embedding.get_weights().shape)\n",
    "        self.decoder_stack = nn.Sequential()\n",
    "        for _ in range(num_decoders):\n",
    "            self.decoder_stack.append(Decoder(d_model = self.d_model, d_k = self.d_k, d_v = self.d_v, P_drop = self.P_drop))\n",
    "\n",
    "        self.linear = nn.Linear(self.d_model, self.vocabulary_size)\n",
    "        # make the loss reduce without shared matrixes for now.\n",
    "        # with torch.no_grad():\n",
    "        #     self.linear.weight = self.embedding.get_weights()\n",
    "        self.softmax = nn.LogSoftmax(dim=1) # this is LogSoftmax so we can get the NLLLoss\n",
    "    \n",
    "    def forward(self, input_tokens_BL: torch.Tensor):\n",
    "        assert(input_tokens_BL.dim() == 2 and input_tokens_BL.dtype == torch.int)\n",
    "        B, L = input_tokens_BL.shape\n",
    "        # how do we get from input tokens to indices?\n",
    "        embed_tokens_BLD = self.embedding(input_tokens_BL)\n",
    "        assert(embed_tokens_BLD.dim() == 3 and embed_tokens_BLD.shape == torch.Size([B, L, self.d_model]))\n",
    "\n",
    "        # Add positional encoding information\n",
    "        # pos_enc = torch.zeros_like(embed_tokens)\n",
    "        # for position in range(sequence_length):\n",
    "        pos_enc_LD = self.positional_encodings()[None, :L, ...]\n",
    "        embed_tokens_BLD += pos_enc_LD\n",
    "\n",
    "        decoder_output_BLD = self.decoder_stack(embed_tokens_BLD)\n",
    "\n",
    "        assert(decoder_output_BLD.dim() == 3 and decoder_output_BLD.shape == torch.Size([B, L, self.d_model]))\n",
    "        linear_output_BLV = self.linear(decoder_output_BLD)\n",
    "        next_token_probabilities_BLV = self.softmax(linear_output_BLV)\n",
    "\n",
    "        return next_token_probabilities_BLV # this is of shape [seq_len, vocab_size] (each token has computed a probabilistic next token)\n",
    "        \"\"\"Now we map these back to the words based on the maximum token.\"\"\"\n"
   ]
  },
  {
   "cell_type": "code",
   "execution_count": 14,
   "metadata": {},
   "outputs": [
    {
     "name": "stdout",
     "output_type": "stream",
     "text": [
      "torch.Size([2, 5, 10000])\n"
     ]
    }
   ],
   "source": [
    "%matplotlib inline\n",
    "def test_transformer_runs():\n",
    "    \"\"\"With a dummy input lets just test if the components of the transformer fit together\"\"\"\n",
    "    # input_ints = torch.tensor([1, 2, 3, 4, 3, 6, 5, 7, 8], dtype=torch.int).to(\"cuda\")\n",
    "    input_ints = torch.tensor([1, 1, 1, 1, 1], dtype=torch.int).to(\"cuda\")\n",
    "    batched_input = torch.stack((input_ints, input_ints))\n",
    "    model = Transformer(d_model=8).to(\"cuda\")\n",
    "    print(model.forward(batched_input).shape)\n",
    "\n",
    "test_transformer_runs()"
   ]
  },
  {
   "cell_type": "markdown",
   "metadata": {},
   "source": [
    "Dataset sample generation"
   ]
  },
  {
   "cell_type": "code",
   "execution_count": 15,
   "metadata": {},
   "outputs": [],
   "source": [
    "import random\n",
    "\n",
    "def create_reversed_training_sample(vocab_size: int, max_sequence_length):\n",
    "    \"\"\"Generate a palindromic tensor of token indices.\n",
    "    Returns: [A,Rev(A)]\n",
    "    \"\"\"\n",
    "    random_sample_L = torch.randint(2, vocab_size-1, (max_sequence_length,), dtype=torch.int)\n",
    "    return torch.cat((random_sample_L, torch.flip(random_sample_L, dims=(0,))))\n",
    "\n",
    "def test_training_sample_generation():\n",
    "    test_vocab_size=1000\n",
    "    sample_length = 40\n",
    "    gen_sample_L = create_reversed_training_sample(test_vocab_size, sample_length//2)\n",
    "    assert gen_sample_L.shape == torch.Size([sample_length])\n",
    "    orig_L, rev_L = torch.tensor_split(gen_sample_L, 2, dim=0)\n",
    "    assert torch.allclose(orig_L, torch.flip(rev_L, dims=(0,)))\n",
    "\n",
    "test_training_sample_generation()"
   ]
  },
  {
   "cell_type": "code",
   "execution_count": 16,
   "metadata": {},
   "outputs": [],
   "source": [
    "START_TOKEN, END_TOKEN = torch.tensor(0, dtype=torch.int32), torch.tensor(1, dtype=torch.int32)\n",
    "\n",
    "def shift_decoder_input_right(sample_BL: torch.Tensor, start_token: torch.Tensor) -> torch.Tensor:\n",
    "    st_B = torch.zeros([sample_BL.shape[0], 1]).to(sample_BL.get_device(), dtype=torch.int32)\n",
    "    return torch.cat([st_B, sample_BL], dim=1)\n",
    "\n",
    "def pad_input_right(sample_BL: torch.Tensor, end_token: torch.Tensor) -> torch.Tensor:\n",
    "    ed_B = torch.ones([sample_BL.shape[0], 1]).to(sample_BL.get_device(), dtype=torch.int32)\n",
    "    return torch.cat([sample_BL, ed_B], dim=1)"
   ]
  },
  {
   "cell_type": "code",
   "execution_count": 17,
   "metadata": {},
   "outputs": [],
   "source": [
    "def train_loop(dataloader, model: torch.nn.Module, loss_fn, optimizer, device, epochs):\n",
    "    model.train()\n",
    "    # for idx, sequence_2L in enumerate(dataset):\n",
    "    for ep in range(epochs):\n",
    "        print(f\"Epoch {ep}\\n\")\n",
    "        for idx, batch in enumerate(dataloader):\n",
    "            batch_BL = batch.to(device)\n",
    "\n",
    "            start_input_BL = shift_decoder_input_right(batch_BL, START_TOKEN)\n",
    "            seq_next_token_probabilities_LV = model(start_input_BL)\n",
    "\n",
    "            end_input_L = pad_input_right(batch_BL, END_TOKEN)\n",
    "\n",
    "            palindrome_seq_len = batch_BL[0].numel()\n",
    "            second_half_outputs_Vocab = rearrange(seq_next_token_probabilities_LV[:, palindrome_seq_len//2:, ...], \"B L V -> (B L) V\")\n",
    "            second_half_targets_BxL = rearrange(end_input_L[:, palindrome_seq_len//2:, ...], \"B L -> (B L)\").to(torch.long)\n",
    "            output = loss_fn(second_half_outputs_Vocab, second_half_targets_BxL)\n",
    "            output.backward()\n",
    "            optimizer.step()\n",
    "            optimizer.zero_grad()\n",
    "            if idx % 200 == 0:\n",
    "                print(f\"Step {idx}: Loss = {output}\\n\")\n",
    "\n"
   ]
  },
  {
   "cell_type": "code",
   "execution_count": 18,
   "metadata": {},
   "outputs": [],
   "source": [
    "def test_loop(dataloader, model: torch.nn.Module, loss_fn, device):\n",
    "    size = len(dataloader)\n",
    "    print(f\"Test set samples: {size}\")\n",
    "    model.eval()\n",
    "    test_loss, correct = 0, 0\n",
    "    total_tokens = 0\n",
    "    with torch.no_grad():\n",
    "        for idx, batch in enumerate(dataloader):\n",
    "            total_tokens += batch.numel()\n",
    "            batch_BL = batch.to(device)\n",
    "            # Let's test full sequence matching, then test half sequence matching\n",
    "            # if it fully matches the model has just memorized the test data.\n",
    "            start_input_BL = shift_decoder_input_right(batch_BL, START_TOKEN)\n",
    "            seq_next_token_probabilities_LV = model(start_input_BL)\n",
    "\n",
    "            end_input_BL = pad_input_right(batch_BL, END_TOKEN)\n",
    "            palindrome_seq_len = batch_BL.shape[1]\n",
    "            second_half_outputs_Vocab = rearrange(seq_next_token_probabilities_LV[:, palindrome_seq_len//2:, ...], \"B L V -> (B L) V\")\n",
    "            second_half_targets_BxL = rearrange(end_input_BL[:, palindrome_seq_len//2:, ...], \"B L -> (B L)\").to(torch.long)\n",
    "\n",
    "            test_loss += loss_fn(second_half_outputs_Vocab, second_half_targets_BxL).item()\n",
    "            correct += (seq_next_token_probabilities_LV.argmax(dim=-1) == end_input_BL).sum().item()\n",
    "    \n",
    "    test_loss /= total_tokens\n",
    "    correct /= total_tokens\n",
    "    print(f\"Test error: Accuracy: {100*correct}, Avg loss: {test_loss}\\n\")"
   ]
  },
  {
   "cell_type": "markdown",
   "metadata": {},
   "source": [
    "### Train loop"
   ]
  },
  {
   "cell_type": "code",
   "execution_count": 19,
   "metadata": {},
   "outputs": [
    {
     "name": "stdout",
     "output_type": "stream",
     "text": [
      "Epoch 0\n",
      "\n",
      "Step 0: Loss = 2.6086771488189697\n",
      "\n",
      "Step 200: Loss = 2.341695547103882\n",
      "\n",
      "Step 400: Loss = 2.2958011627197266\n",
      "\n",
      "Step 600: Loss = 2.312364339828491\n",
      "\n",
      "Step 800: Loss = 2.2863755226135254\n",
      "\n",
      "Step 1000: Loss = 2.2236130237579346\n",
      "\n",
      "Step 1200: Loss = 2.1477458477020264\n",
      "\n",
      "Step 1400: Loss = 2.2892110347747803\n",
      "\n",
      "Step 1600: Loss = 2.2281224727630615\n",
      "\n",
      "Step 1800: Loss = 2.1219983100891113\n",
      "\n",
      "Step 2000: Loss = 2.287189245223999\n",
      "\n",
      "Step 2200: Loss = 2.249865770339966\n",
      "\n",
      "Step 2400: Loss = 2.183014154434204\n",
      "\n",
      "Step 2600: Loss = 2.2842373847961426\n",
      "\n",
      "Step 2800: Loss = 2.1581289768218994\n",
      "\n",
      "Step 3000: Loss = 2.134657621383667\n",
      "\n",
      "Step 3200: Loss = 2.055222988128662\n",
      "\n",
      "Step 3400: Loss = 2.2327208518981934\n",
      "\n",
      "Step 3600: Loss = 2.222090244293213\n",
      "\n",
      "Step 3800: Loss = 2.2505252361297607\n",
      "\n",
      "Step 4000: Loss = 2.251492738723755\n",
      "\n",
      "Step 4200: Loss = 2.2076034545898438\n",
      "\n",
      "Step 4400: Loss = 2.190673351287842\n",
      "\n",
      "Step 4600: Loss = 2.1798856258392334\n",
      "\n",
      "Step 4800: Loss = 2.149798631668091\n",
      "\n",
      "Step 5000: Loss = 2.2304739952087402\n",
      "\n",
      "Step 5200: Loss = 2.151528835296631\n",
      "\n",
      "Step 5400: Loss = 2.1720802783966064\n",
      "\n",
      "Step 5600: Loss = 2.172412157058716\n",
      "\n",
      "Step 5800: Loss = 2.1911730766296387\n",
      "\n",
      "Step 6000: Loss = 2.202735424041748\n",
      "\n",
      "Step 6200: Loss = 2.1818814277648926\n",
      "\n",
      "Step 6400: Loss = 2.179079055786133\n",
      "\n",
      "Step 6600: Loss = 2.1757500171661377\n",
      "\n",
      "Step 6800: Loss = 2.144986152648926\n",
      "\n",
      "Step 7000: Loss = 2.120408296585083\n",
      "\n",
      "Step 7200: Loss = 2.162576198577881\n",
      "\n",
      "Step 7400: Loss = 2.16054630279541\n",
      "\n",
      "Step 7600: Loss = 2.134533643722534\n",
      "\n",
      "Step 7800: Loss = 2.1737160682678223\n",
      "\n",
      "Step 8000: Loss = 2.1543827056884766\n",
      "\n",
      "Step 8200: Loss = 2.110844850540161\n",
      "\n",
      "Step 8400: Loss = 2.1651391983032227\n",
      "\n",
      "Step 8600: Loss = 2.1817948818206787\n",
      "\n",
      "Step 8800: Loss = 2.1304495334625244\n",
      "\n",
      "Step 9000: Loss = 2.160982370376587\n",
      "\n",
      "Step 9200: Loss = 2.1781861782073975\n",
      "\n",
      "Step 9400: Loss = 2.1764073371887207\n",
      "\n",
      "Step 9600: Loss = 2.1861186027526855\n",
      "\n",
      "Step 9800: Loss = 2.1606972217559814\n",
      "\n",
      "Step 10000: Loss = 2.139364719390869\n",
      "\n",
      "Step 10200: Loss = 2.196397542953491\n",
      "\n",
      "Step 10400: Loss = 2.170410394668579\n",
      "\n",
      "Step 10600: Loss = 2.1629555225372314\n",
      "\n",
      "Step 10800: Loss = 2.117509365081787\n",
      "\n",
      "Step 11000: Loss = 2.18143892288208\n",
      "\n",
      "Step 11200: Loss = 2.194261074066162\n",
      "\n",
      "Step 11400: Loss = 2.1307027339935303\n",
      "\n",
      "Step 11600: Loss = 2.0859925746917725\n",
      "\n",
      "Step 11800: Loss = 2.116359233856201\n",
      "\n",
      "Step 12000: Loss = 2.1791696548461914\n",
      "\n",
      "Step 12200: Loss = 2.1514437198638916\n",
      "\n",
      "Step 12400: Loss = 2.1502010822296143\n",
      "\n",
      "Step 12600: Loss = 2.2095134258270264\n",
      "\n",
      "Step 12800: Loss = 2.1798360347747803\n",
      "\n",
      "Step 13000: Loss = 2.156273126602173\n",
      "\n",
      "Step 13200: Loss = 2.151188850402832\n",
      "\n",
      "Step 13400: Loss = 2.160172700881958\n",
      "\n",
      "Step 13600: Loss = 2.1836469173431396\n",
      "\n",
      "Step 13800: Loss = 2.1403841972351074\n",
      "\n",
      "Step 14000: Loss = 2.0856893062591553\n",
      "\n",
      "Step 14200: Loss = 2.106436014175415\n",
      "\n",
      "Step 14400: Loss = 2.1444499492645264\n",
      "\n",
      "Step 14600: Loss = 2.1079652309417725\n",
      "\n",
      "Step 14800: Loss = 2.113600254058838\n",
      "\n",
      "Step 15000: Loss = 2.077352285385132\n",
      "\n",
      "Step 15200: Loss = 2.0981478691101074\n",
      "\n",
      "Step 15400: Loss = 2.1170694828033447\n",
      "\n",
      "Step 15600: Loss = 2.167219877243042\n",
      "\n",
      "Step 15800: Loss = 2.1084272861480713\n",
      "\n",
      "Step 16000: Loss = 2.0698533058166504\n",
      "\n",
      "Step 16200: Loss = 2.084411144256592\n",
      "\n",
      "Step 16400: Loss = 2.1044301986694336\n",
      "\n",
      "Step 16600: Loss = 2.0669901371002197\n",
      "\n",
      "Step 16800: Loss = 2.065631151199341\n",
      "\n",
      "Step 17000: Loss = 2.0730645656585693\n",
      "\n",
      "Step 17200: Loss = 2.194688558578491\n",
      "\n",
      "Step 17400: Loss = 2.140695571899414\n",
      "\n",
      "Step 17600: Loss = 2.1760168075561523\n",
      "\n",
      "Step 17800: Loss = 2.1529974937438965\n",
      "\n",
      "Step 18000: Loss = 2.1894967555999756\n",
      "\n",
      "Step 18200: Loss = 2.1967458724975586\n",
      "\n",
      "Step 18400: Loss = 2.1211235523223877\n",
      "\n",
      "Step 18600: Loss = 2.082672595977783\n",
      "\n",
      "Step 18800: Loss = 2.0564284324645996\n",
      "\n",
      "Step 19000: Loss = 2.1547789573669434\n",
      "\n",
      "Step 19200: Loss = 2.089975595474243\n",
      "\n",
      "Step 19400: Loss = 2.137225389480591\n",
      "\n",
      "Step 19600: Loss = 2.141044855117798\n",
      "\n",
      "Step 19800: Loss = 2.120225667953491\n",
      "\n",
      "Step 20000: Loss = 2.1259796619415283\n",
      "\n",
      "Step 20200: Loss = 2.1105763912200928\n",
      "\n",
      "Step 20400: Loss = 2.1087958812713623\n",
      "\n",
      "Step 20600: Loss = 2.115288019180298\n",
      "\n",
      "Step 20800: Loss = 2.120786190032959\n",
      "\n",
      "Step 21000: Loss = 2.083458423614502\n",
      "\n",
      "Step 21200: Loss = 2.089097738265991\n",
      "\n",
      "Step 21400: Loss = 2.033327341079712\n",
      "\n",
      "Step 21600: Loss = 2.0598723888397217\n",
      "\n",
      "Step 21800: Loss = 2.0617477893829346\n",
      "\n"
     ]
    }
   ],
   "source": [
    "vocab_size = 100\n",
    "max_sequence_length = 6\n",
    "dataset_size = 1_000_000\n",
    "epochs = 1\n",
    "\n",
    "device = torch.device(\"cuda\")\n",
    "train_dataset = [create_reversed_training_sample(vocab_size, max_sequence_length) for _ in range(int(dataset_size*.7))]\n",
    "train_dataloader = DataLoader(train_dataset, batch_size=32, shuffle=True, num_workers=0)\n",
    "\n",
    "model = Transformer(num_decoders=6, maximum_sequence_length=max_sequence_length, vocabulary_size=vocab_size).to(device)\n",
    "loss = F.nll_loss\n",
    "adam_opt = torch.optim.Adam(model.parameters(), betas=(0.9, 0.98), eps=1e-09, lr=0.001) # parameters from paper. No LR schedule, default 0.001\n",
    "train_loop(dataloader=train_dataloader, model=model, loss_fn=loss, optimizer=adam_opt, device=device, epochs=epochs)"
   ]
  },
  {
   "cell_type": "markdown",
   "metadata": {},
   "source": [
    "Accuracy should be 50% ish since the model should only know the second half of the tokens."
   ]
  },
  {
   "cell_type": "code",
   "execution_count": 20,
   "metadata": {},
   "outputs": [
    {
     "name": "stdout",
     "output_type": "stream",
     "text": [
      "Test set samples: 9375\n",
      "Test error: Accuracy: 8.499583333333334, Avg loss: 0.006726423106789589\n",
      "\n"
     ]
    }
   ],
   "source": [
    "test_dataset = [create_reversed_training_sample(vocab_size, max_sequence_length) for _ in range(int(dataset_size*.3))]\n",
    "test_dataloader = DataLoader(test_dataset, batch_size=32, shuffle=True, num_workers=0)\n",
    "test_loop(test_dataloader, model, loss, device)"
   ]
  },
  {
   "cell_type": "code",
   "execution_count": 30,
   "metadata": {},
   "outputs": [
    {
     "name": "stdout",
     "output_type": "stream",
     "text": [
      "torch.Size([1, 12])\n",
      "Sample tensor([[63, 66, 61, 67, 53,  7,  7, 53, 67, 61, 66, 63]], dtype=torch.int32)\n",
      "\n",
      "Total Sample length 12\n",
      "\n",
      "tensor([[False, False, False, False, False, False, False, False, False, False,\n",
      "         False, False,  True]], device='cuda:0')\n",
      "tensor([[99, 99, 99, 99, 59,  1,  1,  1,  1,  1,  1,  1,  1]], device='cuda:0')\n"
     ]
    },
    {
     "name": "stderr",
     "output_type": "stream",
     "text": [
      "/tmp/ipykernel_3100605/1502003688.py:26: UserWarning: To copy construct from a tensor, it is recommended to use sourceTensor.clone().detach() or sourceTensor.clone().detach().requires_grad_(True), rather than torch.tensor(sourceTensor).\n",
      "  result = torch.tensor(inference(model, random_sample_BL, device))\n"
     ]
    }
   ],
   "source": [
    "def inference(model, sample, device: torch.device):\n",
    "    model.eval()\n",
    "    print(f\"Sample {sample}\\n\")\n",
    "    input_BL = sample.to(device)\n",
    "    result_BL = []\n",
    "    with torch.no_grad():\n",
    "        total_tokens = sample.numel()\n",
    "        print(f\"Total Sample length {total_tokens}\\n\")\n",
    "\n",
    "        \n",
    "        start_input_BL = shift_decoder_input_right(input_BL, START_TOKEN)\n",
    "        seq_next_token_probabilities_BLV = model(start_input_BL)\n",
    "        end_input_BL = pad_input_right(input_BL, END_TOKEN)\n",
    "\n",
    "        result_BL = seq_next_token_probabilities_BLV.argmax(dim=-1)\n",
    "\n",
    "    print(result_BL == end_input_BL)\n",
    "    print(result_BL)\n",
    "    return result_BL\n",
    "\n",
    "random_sample_L = create_reversed_training_sample(vocab_size, max_sequence_length)\n",
    "random_sample_BL = rearrange(random_sample_L, \"(B L) -> B L\", B = 1)\n",
    "print(random_sample_BL.shape)\n",
    "# print(random_sample)\n",
    "# print(random_sample[:2])\n",
    "result = torch.tensor(inference(model, random_sample_BL, device))\n",
    "        \n",
    "\n"
   ]
  },
  {
   "cell_type": "code",
   "execution_count": null,
   "metadata": {},
   "outputs": [],
   "source": []
  },
  {
   "cell_type": "code",
   "execution_count": null,
   "metadata": {},
   "outputs": [],
   "source": []
  }
 ],
 "metadata": {
  "kernelspec": {
   "display_name": "transformers_torch_kernel",
   "language": "python",
   "name": "transformers_torch_kernel"
  },
  "language_info": {
   "codemirror_mode": {
    "name": "ipython",
    "version": 3
   },
   "file_extension": ".py",
   "mimetype": "text/x-python",
   "name": "python",
   "nbconvert_exporter": "python",
   "pygments_lexer": "ipython3",
   "version": "3.10.12"
  }
 },
 "nbformat": 4,
 "nbformat_minor": 2
}
