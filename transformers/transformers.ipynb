{
 "cells": [
  {
   "cell_type": "code",
   "execution_count": 1,
   "metadata": {},
   "outputs": [],
   "source": [
    "from typing import Optional\n",
    "import math\n",
    "from collections import OrderedDict\n",
    "import re\n",
    "import urllib\n",
    "\n",
    "import matplotlib\n",
    "import numpy as np\n",
    "import torch\n",
    "from torch import nn\n",
    "import torch.nn.functional as F\n",
    "from torch.utils.data import DataLoader\n",
    "from einops import rearrange, einsum\n",
    "\n",
    "torch.manual_seed(1234)\n",
    "device = torch.device(\"mps\") if torch.mps.is_available() else torch.device(\"cpu\")\n",
    "device = torch.device(\"cuda\") if torch.cuda.is_available() else device"
   ]
  },
  {
   "cell_type": "markdown",
   "metadata": {},
   "source": [
    "### Sinusoidal Positional Encodings\n",
    "\n",
    "This is used to inject some positional information into the embeddings of the token sequence. Since we compute the next token for every single token in parallel, we want some info about the position of a token within a sequence to be represented as well.\n",
    "1. Unique encoding for each position (across all sequences)\n",
    "2. Generalize to longer sequence than seen in training\n",
    "3. Generated deterministically (so the model can learn it)\n",
    "4. Linear relation between 2 encoded positions (again to help the model learn relationships)\n",
    "\n",
    "\n",
    "Given a position $pos$ output a vector $d_{model}$ such that for each location $i$ in the vector the output is $$PE_{pos,2i} = \\sin(pos/10000^{2i/d_{model}})$$ $$PE_{pos,2i+1} = \\cos(pos/10000^{2i/d_{model}})$$\n",
    "for even and odd indices respectively\n",
    "\n",
    "we refactor as $$PE_{pos,2i} = \\sin(pos.w)$$ $$PE_{pos,2i+1} = \\cos(pos.w)$$ where $w=1/(10000^{2i/d_{model}}) for 0 <= 2i <= d_{model}$\n",
    "\n",
    "![Sinusoidal PE visualization](fleetwood_sinusoidal.png \"https://fleetwood.dev/posts/you-could-have-designed-SOTA-positional-encoding\")\n",
    "Look at the functions. For a dimension $i$ the $sin/cos$ function's wave starts out extremely quickly changing values for small $i$, and slows down a lot up to a wavelength of $10000*2\\pi$.\n",
    "\n",
    "#### Derivation to use tensor ops\n",
    "$$\\frac{1}{10000^{k/d_{model}}} = 10000^{-k/d_{model}} = \\exp(\\log(10000^{-k/d_{model}}))$$\n",
    "$$ = \\exp(-k/d_{model} * \\log(10000))$$\n",
    "this is basically\n",
    "$$torch.exp(k * (-\\frac{1}{d_{model}}) * \\log(10000))$$"
   ]
  },
  {
   "cell_type": "code",
   "execution_count": 2,
   "metadata": {},
   "outputs": [],
   "source": [
    "class SinusoidalPositionalEncoding(nn.Module):\n",
    "    def __init__(self, d_model: int, max_len: int = 5000) -> None:\n",
    "        \"\"\"Construct the entire positional encoding.\"\"\"\n",
    "        super().__init__()\n",
    "        w = torch.exp(torch.arange(0, d_model, 2) * ((-1/d_model) * math.log(10000)))\n",
    "        PE = torch.zeros([max_len, d_model])\n",
    "        positions = torch.arange(0, max_len)\n",
    "        # We have 2 vectors\n",
    "        assert (positions.shape == (max_len,))\n",
    "        assert (w.shape == (d_model // 2,))\n",
    "        # If we reshape positions into a row of columns [[0], [1], [2], ...] then \n",
    "        # positions @ w -> gives us a matrix of shape [max_len, d_model/2 ]\n",
    "        positions = rearrange(positions, \"(len column) -> len column\", column=1)\n",
    "        PE[:, 0::2] = torch.sin(positions * w)\n",
    "        PE[:, 1::2] = torch.cos(positions * w)\n",
    "        self.register_buffer(\"PE\", PE) # this is not to be a learnable parameter\n",
    "        # However we do want it to be moved along with model.to(device) \n",
    "    \n",
    "    def forward(self, x):\n",
    "        _, L, D = x.shape\n",
    "        x += self.PE[:L, :D]\n",
    "        return x"
   ]
  },
  {
   "cell_type": "markdown",
   "metadata": {},
   "source": [
    "Just a reference implementation with for-loops to demonstrate speedup of torch ops."
   ]
  },
  {
   "cell_type": "code",
   "execution_count": 3,
   "metadata": {},
   "outputs": [],
   "source": [
    "# output pe -> [d_model]\n",
    "def sinusoidal_position_encoding(pos: int, d_model: int = 512) -> torch.Tensor:\n",
    "    # w = 1/10000**(2i/d_model)\n",
    "    w = torch.tensor([1/(10_000**(k/d_model)) for k in range(0, d_model, 2)])\n",
    "    x_indices = pos * w \n",
    "    PE_even = torch.sin(x_indices)\n",
    "    PE_odd = torch.cos(x_indices)\n",
    "    PE_even = rearrange(PE_even, \"(new_dim l) -> l new_dim\", new_dim=1)\n",
    "    PE_odd = rearrange(PE_odd, \"(new_dim l) -> l new_dim\", new_dim=1)\n",
    "    interleaved_result = rearrange([PE_even, PE_odd], \"function d_model element -> (d_model element function)\")\n",
    "    assert (interleaved_result.shape == (d_model,))\n",
    "    return interleaved_result\n",
    "\n",
    "def generate_position_encoding(max_len: int = 5000, d_model: int = 512) -> torch.Tensor:\n",
    "    all_positions_encoding = torch.zeros([max_len, d_model], dtype=torch.float32)\n",
    "    for position in range(max_len):\n",
    "        all_positions_encoding[position, :] += sinusoidal_position_encoding(position, d_model)\n",
    "    return all_positions_encoding"
   ]
  },
  {
   "cell_type": "markdown",
   "metadata": {},
   "source": [
    "#### Note below the speed differential of the vectorized pytorch ops. Eye the units 👀"
   ]
  },
  {
   "cell_type": "code",
   "execution_count": 4,
   "metadata": {},
   "outputs": [
    {
     "name": "stdout",
     "output_type": "stream",
     "text": [
      "247 ms ± 1.29 ms per loop (mean ± std. dev. of 7 runs, 1 loop each)\n"
     ]
    }
   ],
   "source": [
    "%%timeit\n",
    "generate_position_encoding()"
   ]
  },
  {
   "cell_type": "code",
   "execution_count": 5,
   "metadata": {},
   "outputs": [
    {
     "name": "stdout",
     "output_type": "stream",
     "text": [
      "1.21 ms ± 40.2 μs per loop (mean ± std. dev. of 7 runs, 1,000 loops each)\n"
     ]
    }
   ],
   "source": [
    "%%timeit\n",
    "SinusoidalPositionalEncoding(512)"
   ]
  },
  {
   "cell_type": "code",
   "execution_count": 6,
   "metadata": {},
   "outputs": [
    {
     "name": "stdout",
     "output_type": "stream",
     "text": [
      "tensor([[[ True,  True,  True,  ...,  True,  True,  True],\n",
      "         [ True,  True,  True,  ...,  True, False,  True],\n",
      "         [ True,  True,  True,  ...,  True, False,  True],\n",
      "         ...,\n",
      "         [ True,  True,  True,  ...,  True, False,  True],\n",
      "         [ True,  True,  True,  ...,  True, False,  True],\n",
      "         [ True,  True,  True,  ...,  True, False,  True]]])\n"
     ]
    },
    {
     "ename": "AssertionError",
     "evalue": "",
     "output_type": "error",
     "traceback": [
      "\u001b[0;31m---------------------------------------------------------------------------\u001b[0m",
      "\u001b[0;31mAssertionError\u001b[0m                            Traceback (most recent call last)",
      "Cell \u001b[0;32mIn[6], line 10\u001b[0m\n\u001b[1;32m      7\u001b[0m     \u001b[38;5;28mprint\u001b[39m(pe_class(torch\u001b[38;5;241m.\u001b[39mzeros([\u001b[38;5;241m1\u001b[39m, max_len, d_model])) \u001b[38;5;241m==\u001b[39m generate_position_encoding(max_len\u001b[38;5;241m=\u001b[39mmax_len, d_model\u001b[38;5;241m=\u001b[39md_model)\u001b[38;5;241m.\u001b[39munsqueeze(\u001b[38;5;241m0\u001b[39m))\n\u001b[1;32m      8\u001b[0m     \u001b[38;5;28;01massert\u001b[39;00m(torch\u001b[38;5;241m.\u001b[39mallclose(pe_class(torch\u001b[38;5;241m.\u001b[39mzeros([\u001b[38;5;241m1\u001b[39m, max_len, d_model])), generate_position_encoding(max_len\u001b[38;5;241m=\u001b[39mmax_len, d_model\u001b[38;5;241m=\u001b[39md_model)\u001b[38;5;241m.\u001b[39munsqueeze(\u001b[38;5;241m0\u001b[39m)))\n\u001b[0;32m---> 10\u001b[0m \u001b[43mtest_sinusoidal_positional_encoding_class\u001b[49m\u001b[43m(\u001b[49m\u001b[43m)\u001b[49m\n",
      "Cell \u001b[0;32mIn[6], line 8\u001b[0m, in \u001b[0;36mtest_sinusoidal_positional_encoding_class\u001b[0;34m()\u001b[0m\n\u001b[1;32m      4\u001b[0m pe_class \u001b[38;5;241m=\u001b[39m SinusoidalPositionalEncoding(d_model\u001b[38;5;241m=\u001b[39md_model, max_len\u001b[38;5;241m=\u001b[39mmax_len)\n\u001b[1;32m      7\u001b[0m \u001b[38;5;28mprint\u001b[39m(pe_class(torch\u001b[38;5;241m.\u001b[39mzeros([\u001b[38;5;241m1\u001b[39m, max_len, d_model])) \u001b[38;5;241m==\u001b[39m generate_position_encoding(max_len\u001b[38;5;241m=\u001b[39mmax_len, d_model\u001b[38;5;241m=\u001b[39md_model)\u001b[38;5;241m.\u001b[39munsqueeze(\u001b[38;5;241m0\u001b[39m))\n\u001b[0;32m----> 8\u001b[0m \u001b[38;5;28;01massert\u001b[39;00m(torch\u001b[38;5;241m.\u001b[39mallclose(pe_class(torch\u001b[38;5;241m.\u001b[39mzeros([\u001b[38;5;241m1\u001b[39m, max_len, d_model])), generate_position_encoding(max_len\u001b[38;5;241m=\u001b[39mmax_len, d_model\u001b[38;5;241m=\u001b[39md_model)\u001b[38;5;241m.\u001b[39munsqueeze(\u001b[38;5;241m0\u001b[39m)))\n",
      "\u001b[0;31mAssertionError\u001b[0m: "
     ]
    }
   ],
   "source": [
    "def test_sinusoidal_positional_encoding_class():\n",
    "    max_len = 500\n",
    "    d_model = 512\n",
    "    pe_class = SinusoidalPositionalEncoding(d_model=d_model, max_len=max_len)\n",
    "\n",
    "    \n",
    "    print(pe_class(torch.zeros([1, max_len, d_model])) == generate_position_encoding(max_len=max_len, d_model=d_model).unsqueeze(0))\n",
    "    assert(torch.allclose(pe_class(torch.zeros([1, max_len, d_model])), generate_position_encoding(max_len=max_len, d_model=d_model).unsqueeze(0)))\n",
    "\n",
    "test_sinusoidal_positional_encoding_class()"
   ]
  },
  {
   "cell_type": "code",
   "execution_count": null,
   "metadata": {},
   "outputs": [
    {
     "data": {
      "image/png": "[encoded data removed]",
      "text/plain": [
       "<Figure size 640x480 with 1 Axes>"
      ]
     },
     "metadata": {},
     "output_type": "display_data"
    }
   ],
   "source": [
    "import matplotlib.pyplot\n",
    "\n",
    "\n",
    "matplotlib.pyplot.imshow((SinusoidalPositionalEncoding(d_model=512, max_len=1000).PE).numpy())\n",
    "\n",
    "matplotlib.pyplot.show()"
   ]
  },
  {
   "cell_type": "markdown",
   "metadata": {},
   "source": [
    "#### Function that calculates attention (single-headed for now)."
   ]
  },
  {
   "cell_type": "markdown",
   "metadata": {},
   "source": [
    "#### A Decoder-Only Transformer Language Model\n",
    "Implemented with single headed attention"
   ]
  },
  {
   "cell_type": "code",
   "execution_count": null,
   "metadata": {},
   "outputs": [
    {
     "data": {
      "text/plain": [
       "\"\\nDimension key:\\nL: sequence length\\nD: model dimension (d_model)\\nV: vocabulary size\\nF: feed-forward subnetwork's hidden size\\nK: size of each attention key or value (d_k,d_v,d_kv)\\n\""
      ]
     },
     "execution_count": 4,
     "metadata": {},
     "output_type": "execute_result"
    }
   ],
   "source": [
    "\"\"\"\n",
    "Dimension key:\n",
    "L: sequence length\n",
    "D: model dimension (d_model)\n",
    "V: vocabulary size\n",
    "F: feed-forward subnetwork's hidden size\n",
    "K: size of each attention key or value (d_k,d_v,d_kv)\n",
    "\"\"\""
   ]
  },
  {
   "cell_type": "code",
   "execution_count": null,
   "metadata": {},
   "outputs": [],
   "source": [
    "class EmbeddingLayer(nn.Module):\n",
    "    def __init__(self, vector_size: int, vocab_size: int):\n",
    "        super().__init__()\n",
    "        self.d_model = vector_size\n",
    "        self.scaling_factor = math.sqrt(self.d_model) # a detail in the paper\n",
    "        self.lut = nn.Embedding(vocab_size, vector_size)\n",
    "    \n",
    "    def forward(self, input_indices: torch.Tensor):\n",
    "        return self.lut(input_indices) * self.scaling_factor\n",
    "\n",
    "    def get_weights(self):\n",
    "        return self.lut.weight"
   ]
  },
  {
   "cell_type": "code",
   "execution_count": null,
   "metadata": {},
   "outputs": [],
   "source": [
    "class SelfAttention(nn.Module):\n",
    "    def __init__(self, d_model: int, mask: bool):\n",
    "        super().__init__()\n",
    "        self.scale_factor = math.sqrt(d_model)\n",
    "        self.mask = mask\n",
    "    \n",
    "    def forward(self, Q_BLK, K_BLK, V_BLK) -> torch.Tensor:\n",
    "        assert (Q_BLK.shape == K_BLK.shape)\n",
    "\n",
    "        K_BKL = rearrange(K_BLK, \"B L K -> B K L\")\n",
    "\n",
    "        qk_BLL = einsum(Q_BLK, K_BKL, \"B L_Q K, B K L_K -> B L_Q L_K\")\n",
    "        # TODO: Should this be before or after the mask\n",
    "        scaled_qk_BLL = qk_BLL\n",
    "        scaled_qk_BLL = qk_BLL / math.sqrt(self.scale_factor)\n",
    "        # since we want to average the attended keys between the dimension d_k\n",
    "        if self.mask:\n",
    "            tril_qk = torch.tril(scaled_qk_BLL)\n",
    "            scaled_qk_BLL = torch.where(tril_qk == 0, float(\"-inf\"), scaled_qk_BLL)\n",
    "\n",
    "        weighted_keys_BLL = torch.softmax(scaled_qk_BLL, dim=-1)\n",
    "        attention_output_BLV = einsum(weighted_keys_BLL, V_BLK, \"B L_Q L , B L D_V -> B L_Q D_V\") \n",
    "        return attention_output_BLV"
   ]
  },
  {
   "cell_type": "code",
   "execution_count": null,
   "metadata": {},
   "outputs": [],
   "source": [
    "class MultiHeadedSelfAttention(nn.Module):\n",
    "    def __init__(self, n_heads:int, d_head: int, mask: bool):\n",
    "        super().__init__()\n",
    "        self.n_heads = n_heads\n",
    "        self.scale_factor = math.sqrt(d_head)\n",
    "        self.mask = mask\n",
    "    \n",
    "    def forward(self, Q_BHLK, K_BHLK, V_BHLK) -> torch.Tensor:\n",
    "        assert (Q_BHLK.shape == K_BHLK.shape)\n",
    "\n",
    "        K_BHKL = rearrange(K_BHLK, \"b nh s dh -> b nh dh s\")\n",
    "        scaled_qk_BHLL = einsum(Q_BHLK, K_BHKL, \"b nh s_q dh, b nh dh s_k -> b nh s_q s_k\") / (self.scale_factor)\n",
    "        if self.mask:\n",
    "            tril_qk = torch.tril(scaled_qk_BHLL)\n",
    "            scaled_qk_BHLL = torch.where(tril_qk == 0, float(\"-inf\"), scaled_qk_BHLL)\n",
    "        \n",
    "        weighted_keys_BHLL = torch.softmax(scaled_qk_BHLL, dim=-1)\n",
    "        attention_output_BHLV = einsum(weighted_keys_BHLL, V_BHLK, \"b nh s_q s_k,  b nh s_k dh -> b nh s_q dh\")\n",
    "\n",
    "        # built_in_attn = F.scaled_dot_product_attention(query=Q_BHLK, key=K_BHLK, value=V_BHLK, is_causal=self.mask)\n",
    "        # assert(torch.allclose(attention_output_BHLV, built_in_attn,rtol=1e-5, atol=1e-5))\n",
    "\n",
    "        return attention_output_BHLV"
   ]
  },
  {
   "cell_type": "code",
   "execution_count": null,
   "metadata": {},
   "outputs": [],
   "source": [
    "class FeedForward(nn.Module):\n",
    "    def __init__(self, D: int, H: int = 2048):\n",
    "        super().__init__()\n",
    "        self.layers = nn.Sequential(OrderedDict([\n",
    "            (\"linear1\", nn.Linear(D, H)),\n",
    "            (\"relu1\", nn.ReLU()),\n",
    "            (\"linear2\", nn.Linear(H, D)),\n",
    "        ]))\n",
    "    \n",
    "    def forward(self, x):\n",
    "        return self.layers.forward(x)\n",
    "\n",
    "\n",
    "\n",
    "class Decoder(nn.Module):\n",
    "    def __init__(self, d_model: int, d_k: int, P_drop: int, n_heads: int):\n",
    "        super().__init__()\n",
    "        # attention function\n",
    "        self.d_model = d_model\n",
    "        self.d_head = d_k // n_heads\n",
    "        self.P_drop = P_drop\n",
    "        self.W_query_HDK = nn.Parameter(torch.randn([n_heads, self.d_model, self.d_head]), requires_grad=True)\n",
    "        self.W_key_HDK = nn.Parameter(torch.randn([n_heads, self.d_model, self.d_head]), requires_grad=True)\n",
    "        self.W_value_HDK = nn.Parameter(torch.randn([n_heads, self.d_model, self.d_head]), requires_grad=True)\n",
    "        self.W_output_DD = nn.Parameter(torch.randn([n_heads * self.d_head, self.d_model]), requires_grad=True)\n",
    "        nn.init.kaiming_uniform_(self.W_query_HDK)\n",
    "        nn.init.kaiming_uniform_(self.W_key_HDK)\n",
    "        nn.init.kaiming_uniform_(self.W_value_HDK)\n",
    "        nn.init.kaiming_uniform_(self.W_output_DD)\n",
    "\n",
    "        mask = self.training \n",
    "        self.attn = MultiHeadedSelfAttention(n_heads=n_heads, d_head=self.d_head, mask=mask)\n",
    "\n",
    "        # normalize over the last dimension in shape [N, d_v], so each layer\n",
    "        self.dropout1 = nn.Dropout(p=self.P_drop)\n",
    "        self.layernorm1 = nn.LayerNorm(self.d_model)\n",
    "        self.feedforward = FeedForward(D=self.d_model)\n",
    "        self.dropout2 = nn.Dropout(p=self.P_drop)\n",
    "        self.layernorm2 = nn.LayerNorm(self.d_model)\n",
    "    \n",
    "    def forward(self, input_BLD: torch.Tensor) -> torch.Tensor:\n",
    "        assert(input_BLD.dim() == 3 and input_BLD.shape[-1] == self.d_model)\n",
    "        input_token_length = input_BLD.shape[1]\n",
    "\n",
    "        Query_BHLK = einsum(input_BLD, self.W_query_HDK, \"b s dm, nh dm dh -> b nh s dh\")\n",
    "        Key_BHLK = einsum(input_BLD, self.W_key_HDK,\"b s dm, nh dm dh -> b nh s dh\")\n",
    "        Value_BHLK = einsum(input_BLD, self.W_value_HDK, \"b s dm, nh dm dh -> b nh s dh\")\n",
    "\n",
    "        attn_values_BHLV = self.attn(Query_BHLK, Key_BHLK, Value_BHLK)\n",
    "\n",
    "        concat_attn_values_BLV = rearrange(attn_values_BHLV, \"b nh s dh -> b s (nh dh)\")\n",
    "        output_attn_values_BLV = einsum(concat_attn_values_BLV, self.W_output_DD, \"b s nhdh, nhdh dm -> b s dm\")\n",
    "\n",
    "        reg_attn_values_BLV = self.dropout1(output_attn_values_BLV)\n",
    "        normalized_attn_values_BLV = self.layernorm1(reg_attn_values_BLV + input_BLD)\n",
    "        assert(normalized_attn_values_BLV.shape == reg_attn_values_BLV.shape)\n",
    "        assert(normalized_attn_values_BLV.dim() == 3 and normalized_attn_values_BLV.shape[-1] == self.d_model)\n",
    "\n",
    "        ffn_BLD = self.feedforward(normalized_attn_values_BLV)\n",
    "        reg_ffn_BLD = self.dropout1(ffn_BLD)\n",
    "\n",
    "        normalized_ffn_BLD = self.layernorm2(reg_ffn_BLD + normalized_attn_values_BLV)\n",
    "        return normalized_ffn_BLD\n",
    "    "
   ]
  },
  {
   "cell_type": "markdown",
   "metadata": {},
   "source": [
    "## Test Decoder"
   ]
  },
  {
   "cell_type": "code",
   "execution_count": null,
   "metadata": {},
   "outputs": [
    {
     "data": {
      "text/plain": [
       "tensor([[[-1.3887,  0.1260,  0.3852,  ..., -0.1891,  0.5716, -1.0501],\n",
       "         [ 0.6138, -0.7852,  0.0690,  ..., -1.6938,  3.4142, -0.3192],\n",
       "         [-0.6186,  0.9248,  0.4782,  ...,  0.3459,  0.3744, -0.9707],\n",
       "         ...,\n",
       "         [ 0.7157, -0.6014,  0.2086,  ...,  1.3158,  0.3831, -1.6552],\n",
       "         [-0.1419,  0.8622,  1.1242,  ...,  0.7961, -0.7010,  0.4154],\n",
       "         [-0.6269, -0.1799,  0.8762,  ...,  0.1959,  0.2355,  1.8592]]],\n",
       "       device='cuda:0', grad_fn=<NativeLayerNormBackward0>)"
      ]
     },
     "execution_count": 8,
     "metadata": {},
     "output_type": "execute_result"
    }
   ],
   "source": [
    "dec = Decoder(d_model=64, d_k=64, P_drop=0.1, n_heads=4).to(device)\n",
    "\n",
    "input = torch.randn([1, 16, 64], dtype=torch.float, device=device)\n",
    "dec(input)"
   ]
  },
  {
   "cell_type": "code",
   "execution_count": null,
   "metadata": {},
   "outputs": [],
   "source": [
    "class Transformer(nn.Module):\n",
    "    def __init__(self, d_model: int = 512, num_decoders: int = 6, maximum_sequence_length: int = 5000, n_heads=4, P_drop: float = 0.1, vocabulary_size: int = 10000):\n",
    "\n",
    "        super().__init__()\n",
    "        assert (num_decoders >= 1)\n",
    "        self.d_model = d_model\n",
    "        self.d_k = d_model\n",
    "\n",
    "        self.positional_encodings = SinusoidalPositionalEncoding(d_model=self.d_model)\n",
    "\n",
    "        self.emb_dropout = nn.Dropout(p = P_drop)\n",
    "        self.embed = EmbeddingLayer(vector_size=self.d_model, vocab_size=vocabulary_size)\n",
    "        self.decoder_stack = nn.Sequential()\n",
    "        for _ in range(num_decoders):\n",
    "            self.decoder_stack.append(Decoder(d_model = self.d_model, d_k=self.d_k, P_drop = P_drop, n_heads=n_heads))\n",
    "\n",
    "        self.linear = nn.Linear(self.d_model, vocabulary_size)\n",
    "        self.linear.weight = self.embed.lut.weight\n",
    "        self.logsoftmax = nn.LogSoftmax(dim=-1) # this is LogSoftmax so we can get the NLLLoss\n",
    "    \n",
    "    def forward(self, input_tokens_BL: torch.Tensor):\n",
    "        assert(input_tokens_BL.dim() == 2 and input_tokens_BL.dtype == torch.int)\n",
    "        B, L = input_tokens_BL.shape\n",
    "        embed_tokens_BLD = self.embed(input_tokens_BL)\n",
    "        assert(embed_tokens_BLD.dim() == 3 and embed_tokens_BLD.shape == torch.Size([B, L, self.d_model]))\n",
    "\n",
    "        embed_tokens_BLD = self.positional_encodings(embed_tokens_BLD)\n",
    "\n",
    "        decoder_output_BLD = self.decoder_stack(embed_tokens_BLD)\n",
    "\n",
    "        assert(decoder_output_BLD.dim() == 3 and decoder_output_BLD.shape == torch.Size([B, L, self.d_model]))\n",
    "        linear_output_BLV = self.linear(decoder_output_BLD)\n",
    "        next_token_probabilities_BLV = self.logsoftmax(linear_output_BLV)\n",
    "\n",
    "        return next_token_probabilities_BLV # this is of shape [seq_len, vocab_size] (each token has computed a probabilistic next token)\n",
    "        \"\"\"Now we map these back to the words based on the maximum token.\"\"\"\n"
   ]
  },
  {
   "cell_type": "code",
   "execution_count": null,
   "metadata": {},
   "outputs": [],
   "source": [
    "from matplotlib.lines import Line2D\n",
    "import matplotlib.pyplot as plt\n",
    "\n",
    "def plot_grad_flow(named_parameters):\n",
    "    avg_grads = []\n",
    "    max_grads = []\n",
    "    layers = []\n",
    "    for n, p in named_parameters:\n",
    "        if p.requires_grad and \"bias\" not in n:\n",
    "            layers.append(n)\n",
    "            avg_grads.append(p.grad.abs().mean().cpu())\n",
    "            max_grads.append(p.grad.abs().max().cpu())\n",
    "    \n",
    "    plt.bar(np.arange(len(max_grads)), max_grads, alpha = 0.1, lw=1, color=\"c\")\n",
    "    plt.bar(np.arange(len(avg_grads)), avg_grads, alpha = 0.1, lw=1, color=\"b\")\n",
    "    plt.hlines(0, 0, len(avg_grads)+1, lw=2, color=\"k\")\n",
    "    plt.xticks(range(0, len(avg_grads), 1), layers, rotation=\"vertical\")\n",
    "    plt.xlim(left=0, right=len(avg_grads))\n",
    "    plt.ylim(bottom = -0.001, top=0.02) # zoom in on the lower gradient regions\n",
    "    plt.xlabel(\"Layers\")\n",
    "    plt.ylabel(\"average gradient\")\n",
    "    plt.title(\"Gradient flow\")\n",
    "    plt.grid(True)\n",
    "    plt.legend([Line2D([0], [0], color=\"c\", lw=4),\n",
    "                Line2D([0], [0], color=\"b\", lw=4),\n",
    "                Line2D([0], [0], color=\"k\", lw=4)], ['max-gradient', 'mean-gradient', 'zero-gradient'])"
   ]
  },
  {
   "cell_type": "code",
   "execution_count": null,
   "metadata": {},
   "outputs": [
    {
     "name": "stdout",
     "output_type": "stream",
     "text": [
      "torch.Size([2, 9, 10000])\n"
     ]
    }
   ],
   "source": [
    "%matplotlib inline\n",
    "def test_transformer_runs():\n",
    "    \"\"\"With a dummy input lets just test if the components of the transformer fit together\"\"\"\n",
    "    input_ints = torch.tensor([1, 2, 3, 4, 3, 6, 5, 7, 8], dtype=torch.int).to(device)\n",
    "    batched_input = torch.stack((input_ints, input_ints))\n",
    "    model = Transformer(d_model=8).to(device)\n",
    "    print(model.forward(batched_input).shape)\n",
    "\n",
    "test_transformer_runs()"
   ]
  },
  {
   "cell_type": "markdown",
   "metadata": {},
   "source": [
    "### Reversing a series of tokens"
   ]
  },
  {
   "cell_type": "code",
   "execution_count": null,
   "metadata": {},
   "outputs": [],
   "source": [
    "def create_training_sample(vocab_size: int, max_sequence_length):\n",
    "    \"\"\"Generate a random tensor of token indices.\n",
    "    \"\"\"\n",
    "    random_sample_L = torch.randint(1, vocab_size-1, (max_sequence_length,), dtype=torch.int)\n",
    "    return random_sample_L"
   ]
  },
  {
   "cell_type": "code",
   "execution_count": null,
   "metadata": {},
   "outputs": [],
   "source": [
    "\n",
    "def shift_decoder_input_right(sample_BL: torch.Tensor) -> torch.Tensor:\n",
    "    st_B = torch.zeros([sample_BL.shape[0], 1]).to(sample_BL.get_device(), dtype=torch.int32)\n",
    "    return torch.cat([st_B, sample_BL], dim=1)\n",
    "\n",
    "def pad_input_right(sample_BL: torch.Tensor) -> torch.Tensor:\n",
    "    ed_B = torch.zeros([sample_BL.shape[0], 1]).to(sample_BL.get_device(), dtype=torch.int32)\n",
    "    return torch.cat([sample_BL, ed_B], dim=1)"
   ]
  },
  {
   "cell_type": "markdown",
   "metadata": {},
   "source": [
    "### Train / Test Loops"
   ]
  },
  {
   "cell_type": "code",
   "execution_count": null,
   "metadata": {},
   "outputs": [],
   "source": [
    "def train_loop(train_dataloader, model: torch.nn.Module, loss_fn, optimizer, device, epochs, train_dataset_len: int, scheduler: torch.optim.lr_scheduler, sequence_length: int,\n",
    "                val_dataloader, test_dataset_len: int):\n",
    "    record_train_loss = []\n",
    "    record_train_accuracy = []\n",
    "    record_val_loss = []\n",
    "    record_val_accuracy = []\n",
    "    for ep in range(epochs):\n",
    "        train_loss, train_accuracy, test_loss, test_accuracy = 0, 0, 0, 0\n",
    "\n",
    "        model.train()\n",
    "        for idx, (batch, labels) in enumerate(train_dataloader):\n",
    "            batch_BL, flipped_BL = batch.to(device), labels.to(device)\n",
    "\n",
    "            optimizer.zero_grad()\n",
    "            # No shifting\n",
    "            next_token_prob_BLV = model(batch_BL)\n",
    "\n",
    "            next_token_prob_BVL = rearrange(next_token_prob_BLV, \"B L V -> B V L\")\n",
    "            # mask the first half\n",
    "\n",
    "            loss = loss_fn(next_token_prob_BVL, flipped_BL.to(torch.long))\n",
    "            loss.backward()\n",
    "            optimizer.step()\n",
    "            if idx == 20:\n",
    "                print(f\"Learning Rate: {scheduler.get_last_lr()}\")\n",
    "                plot_grad_flow(model.named_parameters())\n",
    "                # return\n",
    "\n",
    "            train_loss += loss.item()\n",
    "            train_accuracy += (next_token_prob_BLV.argmax(-1) == flipped_BL).sum().item()\n",
    "        scheduler.step()\n",
    "        record_train_loss.append(train_loss/train_dataset_len)\n",
    "        record_train_accuracy.append(train_accuracy / (train_dataset_len*sequence_length))\n",
    "        \n",
    "        model.eval()\n",
    "        for idx, (val_batch, val_labels) in enumerate(val_dataloader):\n",
    "            # No shifting\n",
    "            with torch.no_grad():\n",
    "                val_batch_BL, val_flipped_BL = val_batch.to(device), val_labels.to(device)\n",
    "                val_next_token_prob_BLV = model(val_batch_BL)\n",
    "                val_next_token_prob_BVL = rearrange(val_next_token_prob_BLV, \"B L V -> B V L\")\n",
    "\n",
    "                val_loss = loss_fn(val_next_token_prob_BVL, val_flipped_BL.to(torch.long))\n",
    "\n",
    "                test_loss += val_loss.item()\n",
    "                test_accuracy+= (val_next_token_prob_BLV.argmax(-1) == val_flipped_BL).sum().item()\n",
    "        record_val_loss.append(test_loss / test_dataset_len)\n",
    "        record_val_accuracy.append(test_accuracy / (test_dataset_len * sequence_length))\n",
    "\n",
    "        # if ep % 5 == 0:\n",
    "        print(f\"Epoch {ep}:\")\n",
    "        print(f\"Loss = {record_train_loss[ep]} Accuracy = {record_train_accuracy[ep]}\")\n",
    "        print(f\"Val Loss = {record_val_loss[ep]} Val Accuracy = {record_val_accuracy[ep]}\")\n",
    "\n",
    "    return record_train_loss, record_train_accuracy, record_val_loss, record_val_accuracy\n",
    "\n"
   ]
  },
  {
   "cell_type": "code",
   "execution_count": null,
   "metadata": {},
   "outputs": [],
   "source": [
    "def test_loop(dataloader, model: torch.nn.Module, loss_fn, device):\n",
    "    size = len(dataloader)\n",
    "    print(f\"Test set samples: {size}\")\n",
    "    model.eval()\n",
    "    test_loss, correct = 0, 0\n",
    "    total_tokens = 0\n",
    "    with torch.no_grad():\n",
    "        for idx, (batch, labels) in enumerate(dataloader):\n",
    "            total_tokens += batch.numel()\n",
    "            batch_BL, flipped_BL = batch.to(device), labels.to(device)\n",
    "            # No shifting\n",
    "            next_token_prob_BLV = model(batch_BL)\n",
    "\n",
    "            next_token_prob_BVL = next_token_prob_BLV.transpose(1, 2)\n",
    "\n",
    "            test_loss += loss_fn(next_token_prob_BVL, flipped_BL.to(torch.long)).item()\n",
    "            correct += (next_token_prob_BLV.argmax(dim=-1) == flipped_BL).sum().item()\n",
    "    \n",
    "    test_loss /= total_tokens\n",
    "    correct /= total_tokens\n",
    "    print(f\"Test error: Accuracy: {100*correct}, Avg loss: {test_loss}\\n\")"
   ]
  },
  {
   "cell_type": "markdown",
   "metadata": {},
   "source": [
    "### Train loop"
   ]
  },
  {
   "cell_type": "code",
   "execution_count": 15,
   "metadata": {},
   "outputs": [],
   "source": [
    "class ReverseDataset(torch.utils.data.Dataset):\n",
    "    def __init__(self, vocab_size: int, dataset_size: int, L: int):\n",
    "        super().__init__()\n",
    "        self.sequences = [create_training_sample(vocab_size, L) for _ in range(int(dataset_size))]\n",
    "        self.L = L\n",
    "\n",
    "    \n",
    "    def __len__(self):\n",
    "        return len(self.sequences)\n",
    "    \n",
    "    def __getitem__(self, idx: int) -> tuple[torch.Tensor, torch.Tensor]:\n",
    "        # Retrieve a sample at `idx` consisting of sample, label\n",
    "        sample = self.sequences[idx]\n",
    "        label = sample.flip(dims=(-1,))\n",
    "        return sample, label"
   ]
  },
  {
   "cell_type": "code",
   "execution_count": 16,
   "metadata": {},
   "outputs": [
    {
     "name": "stdout",
     "output_type": "stream",
     "text": [
      "(tensor([10,  1, 14,  5, 10, 13,  7, 14], dtype=torch.int32), tensor([14,  7, 13, 10,  5, 14,  1, 10], dtype=torch.int32))\n"
     ]
    }
   ],
   "source": [
    "# test ReverseDataset\n",
    "rds = ReverseDataset(vocab_size=16, dataset_size=10000, L=8)\n",
    "print(rds[0])"
   ]
  },
  {
   "cell_type": "code",
   "execution_count": 20,
   "metadata": {},
   "outputs": [],
   "source": [
    "vocab_size = 16\n",
    "max_sequence_length = 8\n",
    "dataset_size = 10_000\n",
    "batch_size = 32\n",
    "TRAIN_RATIO = .7\n",
    "dataset = [create_training_sample(vocab_size, max_sequence_length) for _ in range(int(dataset_size))]\n",
    "# dataset = [torch.tensor([2, 3, 4, 5, 6, 7, 8, 9], dtype=torch.int) for _ in range(int(dataset_size))]\n",
    "train_dataset = ReverseDataset(vocab_size=vocab_size, dataset_size=int(dataset_size * TRAIN_RATIO), L=max_sequence_length)\n",
    "val_dataset = ReverseDataset(vocab_size=vocab_size, dataset_size=int(dataset_size * (1-TRAIN_RATIO)), L=max_sequence_length)\n",
    "train_dataloader = DataLoader(train_dataset, batch_size=batch_size, shuffle=True, num_workers=0)\n",
    "val_dataloader = DataLoader(val_dataset, batch_size=batch_size, shuffle=False, num_workers=0)"
   ]
  },
  {
   "cell_type": "code",
   "execution_count": 21,
   "metadata": {},
   "outputs": [],
   "source": [
    "model = Transformer(num_decoders=4, d_model=64, maximum_sequence_length=max_sequence_length, vocabulary_size=vocab_size, P_drop=0.3).to(device)"
   ]
  },
  {
   "cell_type": "code",
   "execution_count": 22,
   "metadata": {},
   "outputs": [],
   "source": [
    "loss = F.nll_loss\n",
    "adam_opt = torch.optim.Adam(model.parameters(), betas=(0.9, 0.98), eps=1e-09, lr=0.001) # parameters from paper. No LR schedule, default 0.001\n",
    "scheduler = torch.optim.lr_scheduler.LinearLR(adam_opt)"
   ]
  },
  {
   "cell_type": "code",
   "execution_count": 23,
   "metadata": {},
   "outputs": [
    {
     "name": "stdout",
     "output_type": "stream",
     "text": [
      "Learning Rate: [0.0003333333333333333]\n",
      "Epoch 0:\n",
      "Loss = 0.12162912137167795 Accuracy = 0.07257142857142856\n",
      "Val Loss = 0.08445358840624491 Val Accuracy = 0.07666666666666666\n",
      "Learning Rate: [0.0004666666666666667]\n",
      "Epoch 1:\n",
      "Loss = 0.0893411636352539 Accuracy = 0.09832142857142857\n",
      "Val Loss = 0.08170733173688252 Val Accuracy = 0.14791666666666667\n",
      "Learning Rate: [0.0006000000000000001]\n",
      "Epoch 2:\n",
      "Loss = 0.08426434867722647 Accuracy = 0.13569642857142858\n",
      "Val Loss = 0.07507088502248128 Val Accuracy = 0.181625\n",
      "Learning Rate: [0.0007333333333333334]\n",
      "Epoch 3:\n",
      "Loss = 0.0784895648275103 Accuracy = 0.16701785714285713\n",
      "Val Loss = 0.071103120803833 Val Accuracy = 0.18445833333333334\n",
      "Learning Rate: [0.0008666666666666668]\n",
      "Epoch 4:\n",
      "Loss = 0.07529440767424447 Accuracy = 0.17641071428571428\n",
      "Val Loss = 0.06926712052027384 Val Accuracy = 0.1965\n",
      "Learning Rate: [0.001]\n",
      "Epoch 5:\n",
      "Loss = 0.07294697751317705 Accuracy = 0.18644642857142857\n",
      "Val Loss = 0.06893798422813416 Val Accuracy = 0.20575\n",
      "Learning Rate: [0.001]\n",
      "Epoch 6:\n",
      "Loss = 0.07034673326356071 Accuracy = 0.20333928571428572\n",
      "Val Loss = 0.06424555337429047 Val Accuracy = 0.24516666666666667\n",
      "Learning Rate: [0.001]\n",
      "Epoch 7:\n",
      "Loss = 0.06665925143446241 Accuracy = 0.2425357142857143\n",
      "Val Loss = 0.05996832060813904 Val Accuracy = 0.2982916666666667\n",
      "Learning Rate: [0.001]\n",
      "Epoch 8:\n",
      "Loss = 0.06314074615069798 Accuracy = 0.28339285714285717\n",
      "Val Loss = 0.055331124623616536 Val Accuracy = 0.364625\n",
      "Learning Rate: [0.001]\n",
      "Epoch 9:\n",
      "Loss = 0.058978492566517424 Accuracy = 0.3324464285714286\n",
      "Val Loss = 0.05259948360919953 Val Accuracy = 0.40158333333333335\n",
      "Learning Rate: [0.001]\n",
      "Epoch 10:\n",
      "Loss = 0.05557705545425415 Accuracy = 0.37810714285714286\n",
      "Val Loss = 0.0492552965482076 Val Accuracy = 0.4487083333333333\n",
      "Learning Rate: [0.001]\n",
      "Epoch 11:\n",
      "Loss = 0.053592648693493436 Accuracy = 0.4025714285714286\n",
      "Val Loss = 0.04774347261587779 Val Accuracy = 0.4725\n",
      "Learning Rate: [0.001]\n",
      "Epoch 12:\n",
      "Loss = 0.0509309287752424 Accuracy = 0.4359821428571429\n",
      "Val Loss = 0.0454789635737737 Val Accuracy = 0.49320833333333336\n",
      "Learning Rate: [0.001]\n",
      "Epoch 13:\n",
      "Loss = 0.04929222316401345 Accuracy = 0.45739285714285716\n",
      "Val Loss = 0.043215376496315 Val Accuracy = 0.5230833333333333\n",
      "Learning Rate: [0.001]\n",
      "Epoch 14:\n",
      "Loss = 0.047639029332569666 Accuracy = 0.4773928571428571\n",
      "Val Loss = 0.043520520250002546 Val Accuracy = 0.5147083333333333\n",
      "Learning Rate: [0.001]\n",
      "Epoch 15:\n",
      "Loss = 0.0466484055689403 Accuracy = 0.48946428571428574\n",
      "Val Loss = 0.043050257364908855 Val Accuracy = 0.5220416666666666\n",
      "Learning Rate: [0.001]\n",
      "Epoch 16:\n",
      "Loss = 0.04638703283241817 Accuracy = 0.4925\n",
      "Val Loss = 0.04253493273258209 Val Accuracy = 0.5267916666666667\n",
      "Learning Rate: [0.001]\n",
      "Epoch 17:\n",
      "Loss = 0.04534471542494638 Accuracy = 0.5026607142857142\n",
      "Val Loss = 0.041882503708203636 Val Accuracy = 0.5332916666666667\n",
      "Learning Rate: [0.001]\n",
      "Epoch 18:\n",
      "Loss = 0.04492523537363325 Accuracy = 0.5083392857142857\n",
      "Val Loss = 0.04181761185328166 Val Accuracy = 0.5361666666666667\n",
      "Learning Rate: [0.001]\n",
      "Epoch 19:\n",
      "Loss = 0.044550885047231405 Accuracy = 0.5091428571428571\n",
      "Val Loss = 0.04189258813858032 Val Accuracy = 0.5364583333333334\n",
      "Learning Rate: [0.001]\n",
      "Epoch 20:\n",
      "Loss = 0.04414800274372101 Accuracy = 0.5152857142857142\n",
      "Val Loss = 0.041966617782910665 Val Accuracy = 0.5330833333333334\n",
      "Learning Rate: [0.001]\n",
      "Epoch 21:\n",
      "Loss = 0.04398443107945579 Accuracy = 0.5172678571428572\n",
      "Val Loss = 0.04167791171868642 Val Accuracy = 0.5354583333333334\n",
      "Learning Rate: [0.001]\n",
      "Epoch 22:\n",
      "Loss = 0.043897614547184535 Accuracy = 0.518375\n",
      "Val Loss = 0.043058021624883015 Val Accuracy = 0.51925\n",
      "Learning Rate: [0.001]\n",
      "Epoch 23:\n",
      "Loss = 0.04352950249399458 Accuracy = 0.5212857142857142\n",
      "Val Loss = 0.04258927953243256 Val Accuracy = 0.527875\n",
      "Learning Rate: [0.001]\n",
      "Epoch 24:\n",
      "Loss = 0.043457474793706624 Accuracy = 0.5219464285714286\n",
      "Val Loss = 0.04189436650276184 Val Accuracy = 0.529625\n",
      "Learning Rate: [0.001]\n",
      "Epoch 25:\n",
      "Loss = 0.04327194733279092 Accuracy = 0.5224642857142857\n",
      "Val Loss = 0.041617836991945906 Val Accuracy = 0.533\n",
      "Learning Rate: [0.001]\n",
      "Epoch 26:\n",
      "Loss = 0.04311299351283482 Accuracy = 0.5255714285714286\n",
      "Val Loss = 0.0415802282889684 Val Accuracy = 0.5328333333333334\n",
      "Learning Rate: [0.001]\n",
      "Epoch 27:\n",
      "Loss = 0.0430479668549129 Accuracy = 0.525625\n",
      "Val Loss = 0.04216723847389221 Val Accuracy = 0.5305\n",
      "Learning Rate: [0.001]\n",
      "Epoch 28:\n",
      "Loss = 0.04291820422240666 Accuracy = 0.5263214285714286\n",
      "Val Loss = 0.04182130026817322 Val Accuracy = 0.5314583333333334\n",
      "Learning Rate: [0.001]\n",
      "Epoch 29:\n",
      "Loss = 0.042774490475654604 Accuracy = 0.526875\n",
      "Val Loss = 0.04156557675202688 Val Accuracy = 0.5334166666666667\n",
      "Learning Rate: [0.001]\n",
      "Epoch 30:\n",
      "Loss = 0.04284198532785688 Accuracy = 0.5280357142857143\n",
      "Val Loss = 0.04148784871896108 Val Accuracy = 0.5354166666666667\n",
      "Learning Rate: [0.001]\n",
      "Epoch 31:\n",
      "Loss = 0.04284008416107723 Accuracy = 0.5277857142857143\n",
      "Val Loss = 0.0414999125401179 Val Accuracy = 0.533375\n",
      "Learning Rate: [0.001]\n",
      "Epoch 32:\n",
      "Loss = 0.0427173067842211 Accuracy = 0.5280535714285715\n",
      "Val Loss = 0.04188195900122325 Val Accuracy = 0.5338333333333334\n",
      "Learning Rate: [0.001]\n",
      "Epoch 33:\n",
      "Loss = 0.042830780931881494 Accuracy = 0.5283214285714286\n",
      "Val Loss = 0.04205371999740601 Val Accuracy = 0.5309166666666667\n",
      "Learning Rate: [0.001]\n",
      "Epoch 34:\n",
      "Loss = 0.04418696326868875 Accuracy = 0.5137321428571429\n",
      "Val Loss = 0.04448021479447683 Val Accuracy = 0.512625\n",
      "Learning Rate: [0.001]\n",
      "Epoch 35:\n",
      "Loss = 0.044551122222627915 Accuracy = 0.5105178571428571\n",
      "Val Loss = 0.04150705428918203 Val Accuracy = 0.5334166666666667\n",
      "Learning Rate: [0.001]\n",
      "Epoch 36:\n",
      "Loss = 0.042494380303791594 Accuracy = 0.5287142857142857\n",
      "Val Loss = 0.041835641304651894 Val Accuracy = 0.5327083333333333\n",
      "Learning Rate: [0.001]\n",
      "Epoch 37:\n",
      "Loss = 0.042648233430726185 Accuracy = 0.5292321428571428\n",
      "Val Loss = 0.041541757623354596 Val Accuracy = 0.5368333333333334\n",
      "Learning Rate: [0.001]\n",
      "Epoch 38:\n",
      "Loss = 0.04260877571787153 Accuracy = 0.5293035714285714\n",
      "Val Loss = 0.04172890587647756 Val Accuracy = 0.536625\n",
      "Learning Rate: [0.001]\n",
      "Epoch 39:\n",
      "Loss = 0.04257375122819628 Accuracy = 0.5300178571428571\n",
      "Val Loss = 0.041588742176691694 Val Accuracy = 0.533875\n",
      "Learning Rate: [0.001]\n",
      "Epoch 40:\n",
      "Loss = 0.042437273877007624 Accuracy = 0.5303571428571429\n",
      "Val Loss = 0.04160665774345398 Val Accuracy = 0.53525\n",
      "Learning Rate: [0.001]\n",
      "Epoch 41:\n",
      "Loss = 0.04239050482000623 Accuracy = 0.5330714285714285\n",
      "Val Loss = 0.041523741165796914 Val Accuracy = 0.5352083333333333\n",
      "Learning Rate: [0.001]\n",
      "Epoch 42:\n",
      "Loss = 0.04239519306591579 Accuracy = 0.5331964285714286\n",
      "Val Loss = 0.04162557359536489 Val Accuracy = 0.535875\n",
      "Learning Rate: [0.001]\n",
      "Epoch 43:\n",
      "Loss = 0.04245612377779824 Accuracy = 0.5313928571428571\n",
      "Val Loss = 0.04206002823511759 Val Accuracy = 0.5300416666666666\n",
      "Learning Rate: [0.001]\n",
      "Epoch 44:\n",
      "Loss = 0.04246441280841828 Accuracy = 0.531375\n",
      "Val Loss = 0.041443676392237346 Val Accuracy = 0.534125\n",
      "Learning Rate: [0.001]\n",
      "Epoch 45:\n",
      "Loss = 0.04227460517202105 Accuracy = 0.5319642857142857\n",
      "Val Loss = 0.041545403440793355 Val Accuracy = 0.5332083333333333\n",
      "Learning Rate: [0.001]\n",
      "Epoch 46:\n",
      "Loss = 0.042276872651917596 Accuracy = 0.5309107142857142\n",
      "Val Loss = 0.041454831242561344 Val Accuracy = 0.5378333333333334\n",
      "Learning Rate: [0.001]\n",
      "Epoch 47:\n",
      "Loss = 0.04240391606943948 Accuracy = 0.5315535714285714\n",
      "Val Loss = 0.04157959214846293 Val Accuracy = 0.5352083333333333\n",
      "Learning Rate: [0.001]\n",
      "Epoch 48:\n",
      "Loss = 0.04234469526154654 Accuracy = 0.5310178571428571\n",
      "Val Loss = 0.04156712067127228 Val Accuracy = 0.5345\n",
      "Learning Rate: [0.001]\n",
      "Epoch 49:\n",
      "Loss = 0.04238590998308999 Accuracy = 0.5311785714285714\n",
      "Val Loss = 0.04161572241783142 Val Accuracy = 0.533125\n",
      "Learning Rate: [0.001]\n",
      "Epoch 50:\n",
      "Loss = 0.042183650817189895 Accuracy = 0.533\n",
      "Val Loss = 0.04159386372566223 Val Accuracy = 0.53275\n",
      "Learning Rate: [0.001]\n",
      "Epoch 51:\n",
      "Loss = 0.042127039670944215 Accuracy = 0.5329464285714286\n",
      "Val Loss = 0.041637323260307314 Val Accuracy = 0.5334166666666667\n",
      "Learning Rate: [0.001]\n",
      "Epoch 52:\n",
      "Loss = 0.04234708516938346 Accuracy = 0.5318392857142857\n",
      "Val Loss = 0.04155780549844106 Val Accuracy = 0.5344166666666667\n",
      "Learning Rate: [0.001]\n",
      "Epoch 53:\n",
      "Loss = 0.04218271166937692 Accuracy = 0.5334285714285715\n",
      "Val Loss = 0.04145003060499827 Val Accuracy = 0.5370833333333334\n",
      "Learning Rate: [0.001]\n",
      "Epoch 54:\n",
      "Loss = 0.04227638680594308 Accuracy = 0.5324642857142857\n",
      "Val Loss = 0.04149314399560292 Val Accuracy = 0.5341666666666667\n",
      "Learning Rate: [0.001]\n",
      "Epoch 55:\n",
      "Loss = 0.042239259992327007 Accuracy = 0.5326964285714286\n",
      "Val Loss = 0.04143589715162913 Val Accuracy = 0.5355833333333333\n",
      "Learning Rate: [0.001]\n",
      "Epoch 56:\n",
      "Loss = 0.042029171177319115 Accuracy = 0.5340714285714285\n",
      "Val Loss = 0.04298633952935537 Val Accuracy = 0.5281666666666667\n",
      "Learning Rate: [0.001]\n",
      "Epoch 57:\n",
      "Loss = 0.042337056432451524 Accuracy = 0.5339285714285714\n",
      "Val Loss = 0.041470940828323366 Val Accuracy = 0.533625\n",
      "Learning Rate: [0.001]\n",
      "Epoch 58:\n",
      "Loss = 0.04215379384585789 Accuracy = 0.5319285714285714\n",
      "Val Loss = 0.04160993488629659 Val Accuracy = 0.53475\n",
      "Learning Rate: [0.001]\n",
      "Epoch 59:\n",
      "Loss = 0.0421990042413984 Accuracy = 0.5326607142857143\n",
      "Val Loss = 0.04195893025398254 Val Accuracy = 0.5353333333333333\n",
      "Learning Rate: [0.001]\n",
      "Epoch 60:\n",
      "Loss = 0.04211257066045489 Accuracy = 0.5326607142857143\n",
      "Val Loss = 0.04143886399269104 Val Accuracy = 0.5335833333333333\n",
      "Learning Rate: [0.001]\n",
      "Epoch 61:\n",
      "Loss = 0.04205779245921544 Accuracy = 0.534875\n",
      "Val Loss = 0.04146985161304474 Val Accuracy = 0.5340833333333334\n",
      "Learning Rate: [0.001]\n",
      "Epoch 62:\n",
      "Loss = 0.042144133073943005 Accuracy = 0.5339821428571428\n",
      "Val Loss = 0.041707042415936785 Val Accuracy = 0.5338333333333334\n",
      "Learning Rate: [0.001]\n",
      "Epoch 63:\n",
      "Loss = 0.04220014594282423 Accuracy = 0.532875\n",
      "Val Loss = 0.04150587526957194 Val Accuracy = 0.5353333333333333\n",
      "Learning Rate: [0.001]\n",
      "Epoch 64:\n",
      "Loss = 0.04203208565711975 Accuracy = 0.5334285714285715\n",
      "Val Loss = 0.04146264417966207 Val Accuracy = 0.5343333333333333\n",
      "Learning Rate: [0.001]\n",
      "Epoch 65:\n",
      "Loss = 0.04215154940741403 Accuracy = 0.5346607142857143\n",
      "Val Loss = 0.041421500603357954 Val Accuracy = 0.5357916666666667\n",
      "Learning Rate: [0.001]\n",
      "Epoch 66:\n",
      "Loss = 0.04203162113257817 Accuracy = 0.5335535714285714\n",
      "Val Loss = 0.04189793014526367 Val Accuracy = 0.5334583333333334\n",
      "Learning Rate: [0.001]\n",
      "Epoch 67:\n",
      "Loss = 0.04203121224471501 Accuracy = 0.5338214285714286\n",
      "Val Loss = 0.041427674492200216 Val Accuracy = 0.534\n",
      "Learning Rate: [0.001]\n",
      "Epoch 68:\n",
      "Loss = 0.042111063054629735 Accuracy = 0.53325\n",
      "Val Loss = 0.042098949909210204 Val Accuracy = 0.5320416666666666\n",
      "Learning Rate: [0.001]\n",
      "Epoch 69:\n",
      "Loss = 0.042063234397343226 Accuracy = 0.534375\n",
      "Val Loss = 0.04305495007832845 Val Accuracy = 0.5286666666666666\n",
      "Learning Rate: [0.001]\n",
      "Epoch 70:\n",
      "Loss = 0.04215021211760385 Accuracy = 0.5343214285714286\n",
      "Val Loss = 0.041430556416511534 Val Accuracy = 0.5369583333333333\n",
      "Learning Rate: [0.001]\n",
      "Epoch 71:\n",
      "Loss = 0.04195489413397653 Accuracy = 0.5343035714285714\n",
      "Val Loss = 0.04155157041549683 Val Accuracy = 0.5348333333333334\n",
      "Learning Rate: [0.001]\n",
      "Epoch 72:\n",
      "Loss = 0.042000124948365344 Accuracy = 0.5341428571428571\n",
      "Val Loss = 0.04143113088607788 Val Accuracy = 0.5354583333333334\n",
      "Learning Rate: [0.001]\n",
      "Epoch 73:\n",
      "Loss = 0.042007507630756925 Accuracy = 0.5358928571428572\n",
      "Val Loss = 0.04146144771575928 Val Accuracy = 0.5362083333333333\n",
      "Learning Rate: [0.001]\n",
      "Epoch 74:\n",
      "Loss = 0.04221601021289825 Accuracy = 0.5333392857142857\n",
      "Val Loss = 0.04153015220165253 Val Accuracy = 0.5334166666666667\n",
      "Learning Rate: [0.001]\n",
      "Epoch 75:\n",
      "Loss = 0.04191165479591914 Accuracy = 0.5344464285714285\n",
      "Val Loss = 0.04152638494968414 Val Accuracy = 0.535625\n",
      "Learning Rate: [0.001]\n",
      "Epoch 76:\n",
      "Loss = 0.04193433347770146 Accuracy = 0.5344285714285715\n",
      "Val Loss = 0.04149194860458374 Val Accuracy = 0.5370833333333334\n",
      "Learning Rate: [0.001]\n",
      "Epoch 77:\n",
      "Loss = 0.04199968809740884 Accuracy = 0.5343928571428571\n",
      "Val Loss = 0.04148486173152924 Val Accuracy = 0.5358333333333334\n",
      "Learning Rate: [0.001]\n",
      "Epoch 78:\n",
      "Loss = 0.04216140990597861 Accuracy = 0.5343571428571429\n",
      "Val Loss = 0.041450224200884504 Val Accuracy = 0.53425\n",
      "Learning Rate: [0.001]\n",
      "Epoch 79:\n",
      "Loss = 0.04195371527331216 Accuracy = 0.5350714285714285\n",
      "Val Loss = 0.04141363724072774 Val Accuracy = 0.5365833333333333\n",
      "Learning Rate: [0.001]\n",
      "Epoch 80:\n",
      "Loss = 0.04209040221146175 Accuracy = 0.5342142857142858\n",
      "Val Loss = 0.04165826948483785 Val Accuracy = 0.5347083333333333\n",
      "Learning Rate: [0.001]\n",
      "Epoch 81:\n",
      "Loss = 0.04198540166446141 Accuracy = 0.53425\n",
      "Val Loss = 0.041499390085538226 Val Accuracy = 0.5339166666666667\n",
      "Learning Rate: [0.001]\n",
      "Epoch 82:\n",
      "Loss = 0.04198239832265036 Accuracy = 0.5335892857142858\n",
      "Val Loss = 0.041437490622202554 Val Accuracy = 0.534\n",
      "Learning Rate: [0.001]\n",
      "Epoch 83:\n",
      "Loss = 0.04200777980259487 Accuracy = 0.5345714285714286\n",
      "Val Loss = 0.041438440283139547 Val Accuracy = 0.5356666666666666\n",
      "Learning Rate: [0.001]\n",
      "Epoch 84:\n",
      "Loss = 0.04197479709557125 Accuracy = 0.5364107142857143\n",
      "Val Loss = 0.04162500687440236 Val Accuracy = 0.5339166666666667\n",
      "Learning Rate: [0.001]\n",
      "Epoch 85:\n",
      "Loss = 0.04208465187890189 Accuracy = 0.5335178571428572\n",
      "Val Loss = 0.04148554488023122 Val Accuracy = 0.5351666666666667\n",
      "Learning Rate: [0.001]\n",
      "Epoch 86:\n",
      "Loss = 0.042048412033489774 Accuracy = 0.5359464285714286\n",
      "Val Loss = 0.04141327977180481 Val Accuracy = 0.5340416666666666\n",
      "Learning Rate: [0.001]\n",
      "Epoch 87:\n",
      "Loss = 0.04193589505127498 Accuracy = 0.5335892857142858\n",
      "Val Loss = 0.04153770101070404 Val Accuracy = 0.534625\n",
      "Learning Rate: [0.001]\n",
      "Epoch 88:\n",
      "Loss = 0.04189829574312483 Accuracy = 0.5344821428571429\n",
      "Val Loss = 0.041534542361895244 Val Accuracy = 0.5346666666666666\n",
      "Learning Rate: [0.001]\n",
      "Epoch 89:\n",
      "Loss = 0.04199173418113163 Accuracy = 0.5353035714285714\n",
      "Val Loss = 0.04148089873790741 Val Accuracy = 0.53625\n",
      "Learning Rate: [0.001]\n",
      "Epoch 90:\n",
      "Loss = 0.04198325099263872 Accuracy = 0.535125\n",
      "Val Loss = 0.04153240319093068 Val Accuracy = 0.5341666666666667\n",
      "Learning Rate: [0.001]\n",
      "Epoch 91:\n",
      "Loss = 0.04207268932887486 Accuracy = 0.5338214285714286\n",
      "Val Loss = 0.04148097813129425 Val Accuracy = 0.5384583333333334\n",
      "Learning Rate: [0.001]\n",
      "Epoch 92:\n",
      "Loss = 0.04195899050576346 Accuracy = 0.5344464285714285\n",
      "Val Loss = 0.04201911389827728 Val Accuracy = 0.5338333333333334\n",
      "Learning Rate: [0.001]\n",
      "Epoch 93:\n",
      "Loss = 0.042025070088250294 Accuracy = 0.5349464285714286\n",
      "Val Loss = 0.041420304934183756 Val Accuracy = 0.5355416666666667\n",
      "Learning Rate: [0.001]\n",
      "Epoch 94:\n",
      "Loss = 0.04196593235220228 Accuracy = 0.5347321428571429\n",
      "Val Loss = 0.041701579173405966 Val Accuracy = 0.5353333333333333\n",
      "Learning Rate: [0.001]\n",
      "Epoch 95:\n",
      "Loss = 0.04186345372881208 Accuracy = 0.5364821428571429\n",
      "Val Loss = 0.04142114567756653 Val Accuracy = 0.5347083333333333\n",
      "Learning Rate: [0.001]\n",
      "Epoch 96:\n",
      "Loss = 0.0420745963198798 Accuracy = 0.5346785714285714\n",
      "Val Loss = 0.041441206415494286 Val Accuracy = 0.5351666666666667\n",
      "Learning Rate: [0.001]\n",
      "Epoch 97:\n",
      "Loss = 0.04187871183667864 Accuracy = 0.5356607142857143\n",
      "Val Loss = 0.04144769275188446 Val Accuracy = 0.536375\n",
      "Learning Rate: [0.001]\n",
      "Epoch 98:\n",
      "Loss = 0.041939624939646036 Accuracy = 0.53475\n",
      "Val Loss = 0.0414309024810791 Val Accuracy = 0.5335\n",
      "Learning Rate: [0.001]\n",
      "Epoch 99:\n",
      "Loss = 0.041909126945904325 Accuracy = 0.5360357142857143\n",
      "Val Loss = 0.04142705762386322 Val Accuracy = 0.536875\n"
     ]
    },
    {
     "data": {
      "image/png": "[encoded data removed]",
      "text/plain": [
       "<Figure size 640x480 with 1 Axes>"
      ]
     },
     "metadata": {},
     "output_type": "display_data"
    }
   ],
   "source": [
    "epochs = 100\n",
    "\n",
    "losses = train_loop(\n",
    "    train_dataloader=train_dataloader,\n",
    "    model=model,\n",
    "    loss_fn=loss,\n",
    "    optimizer=adam_opt,\n",
    "    scheduler=scheduler,\n",
    "    device=device,\n",
    "    epochs=epochs,\n",
    "    train_dataset_len=len(train_dataset),\n",
    "    sequence_length=max_sequence_length,\n",
    "    val_dataloader=val_dataloader,\n",
    "    test_dataset_len=len(val_dataset)\n",
    ")"
   ]
  },
  {
   "cell_type": "code",
   "execution_count": 24,
   "metadata": {},
   "outputs": [
    {
     "name": "stdout",
     "output_type": "stream",
     "text": [
      "tensor([[[-2.2135e+01, -2.6018e+00, -2.7495e+00, -2.7820e+00, -2.5050e+00,\n",
      "          -2.6239e+00, -2.7399e+00, -2.7261e+00, -2.6135e+00, -2.5601e+00,\n",
      "          -2.6479e+00, -2.6700e+00, -2.5887e+00, -2.6935e+00, -2.4968e+00,\n",
      "          -2.1522e+01],\n",
      "         [-2.2101e+01, -2.6063e+00, -2.7816e+00, -2.7360e+00, -2.4210e+00,\n",
      "          -2.6329e+00, -2.7353e+00, -2.7949e+00, -2.5903e+00, -2.5385e+00,\n",
      "          -2.6673e+00, -2.7266e+00, -2.5828e+00, -2.7204e+00, -2.4954e+00,\n",
      "          -2.1536e+01],\n",
      "         [-2.2104e+01, -2.6492e+00, -2.7740e+00, -2.6863e+00, -2.4084e+00,\n",
      "          -2.6660e+00, -2.7029e+00, -2.8141e+00, -2.5981e+00, -2.5413e+00,\n",
      "          -2.6661e+00, -2.7497e+00, -2.5622e+00, -2.7317e+00, -2.4841e+00,\n",
      "          -2.1527e+01],\n",
      "         [-2.2138e+01, -2.7023e+00, -2.7479e+00, -2.7541e+00, -2.4294e+00,\n",
      "          -2.5415e+00, -2.7963e+00, -2.8178e+00, -2.5528e+00, -2.6094e+00,\n",
      "          -2.6210e+00, -2.7552e+00, -2.4746e+00, -2.7106e+00, -2.5365e+00,\n",
      "          -2.1438e+01],\n",
      "         [-2.0940e+01, -1.1981e+01, -1.2500e+01, -1.1268e+01, -1.0780e+01,\n",
      "          -1.5465e+01, -1.4954e+01, -1.4443e+01, -7.8913e-05, -1.0767e+01,\n",
      "          -1.2756e+01, -1.6179e+01, -1.2282e+01, -1.2971e+01, -1.2669e+01,\n",
      "          -1.9729e+01],\n",
      "         [-2.0090e+01, -1.2805e+01, -1.3276e+01, -1.3925e+01, -1.3214e+01,\n",
      "          -3.3855e-05, -1.3678e+01, -1.3094e+01, -1.4579e+01, -1.4027e+01,\n",
      "          -1.5252e+01, -1.3384e+01, -1.3281e+01, -1.2009e+01, -1.1283e+01,\n",
      "          -1.9279e+01],\n",
      "         [-2.1163e+01, -1.2418e+01, -1.1774e+01, -1.1308e+01, -1.1491e+01,\n",
      "          -1.1671e+01, -1.4685e+01, -1.3530e+01, -1.2032e+01, -1.2111e+01,\n",
      "          -1.2622e+01, -1.4259e+01, -1.1777e+01, -1.4495e+01, -6.8066e-05,\n",
      "          -2.0372e+01],\n",
      "         [-2.0131e+01, -1.2918e+01, -1.0551e+01, -1.0995e+01, -1.2706e+01,\n",
      "          -1.2340e+01, -1.3258e+01, -7.1404e-05, -1.3021e+01, -1.3191e+01,\n",
      "          -1.3787e+01, -1.4377e+01, -1.2040e+01, -1.2258e+01, -1.4759e+01,\n",
      "          -1.9493e+01]]], device='cuda:0', grad_fn=<LogSoftmaxBackward0>)\n",
      "tensor([[ 8, 14, 10,  3,  8,  5, 14,  7]], dtype=torch.int32)\n",
      "tensor([[14,  4,  4,  4,  8,  5, 14,  7]], device='cuda:0')\n"
     ]
    }
   ],
   "source": [
    "# Run a sample from the validation set\n",
    "sample = val_dataset[10]\n",
    "sample = create_training_sample(vocab_size=vocab_size, max_sequence_length=max_sequence_length)\n",
    "test_op = model(sample.unsqueeze(0).to(device))\n",
    "print(test_op)\n",
    "print(sample.unsqueeze(0).flip(dims=(1,)))\n",
    "print(test_op.argmax(-1))"
   ]
  },
  {
   "cell_type": "markdown",
   "metadata": {},
   "source": [
    "Accuracy should be 50% ish since the model should only know the second half of the tokens."
   ]
  },
  {
   "cell_type": "code",
   "execution_count": 29,
   "metadata": {},
   "outputs": [
    {
     "name": "stdout",
     "output_type": "stream",
     "text": [
      "Test set samples: 63\n",
      "Test error: Accuracy: 53.54375, Avg loss: 0.005205691859126091\n",
      "\n"
     ]
    }
   ],
   "source": [
    "test_dataset = ReverseDataset(vocab_size=vocab_size, dataset_size=int(dataset_size * 0.2), L=max_sequence_length)\n",
    "test_dataloader = DataLoader(test_dataset, batch_size=batch_size, shuffle=True, num_workers=0)\n",
    "test_loop(test_dataloader, model, loss, device)"
   ]
  },
  {
   "cell_type": "markdown",
   "metadata": {},
   "source": [
    "#### Runs inference on a randomly generated sample.\n",
    "The second half of the sample should match the first half of the sample."
   ]
  },
  {
   "cell_type": "code",
   "execution_count": 30,
   "metadata": {},
   "outputs": [
    {
     "name": "stdout",
     "output_type": "stream",
     "text": [
      "Sample tensor([[ 5,  3,  9,  4, 11, 10, 12,  4]], dtype=torch.int32)\n",
      "\n",
      "Sample length 8\n",
      "\n",
      "tensor([[ True, False, False, False,  True,  True,  True,  True]],\n",
      "       device='cuda:0')\n",
      "tensor([[ 4,  4, 12, 14,  4,  9,  3,  5]], device='cuda:0')\n"
     ]
    },
    {
     "name": "stderr",
     "output_type": "stream",
     "text": [
      "/tmp/ipykernel_212240/77230133.py:25: UserWarning: To copy construct from a tensor, it is recommended to use sourceTensor.clone().detach() or sourceTensor.clone().detach().requires_grad_(True), rather than torch.tensor(sourceTensor).\n",
      "  result = torch.tensor(inference(model, random_sample_BL, device))\n"
     ]
    }
   ],
   "source": [
    "def inference(model, sample, device: torch.device):\n",
    "    model.eval()\n",
    "    print(f\"Sample {sample}\\n\")\n",
    "    input_BL = sample.to(device)\n",
    "    result_BL = []\n",
    "    model.eval()\n",
    "    with torch.no_grad():\n",
    "        total_tokens = sample.numel()\n",
    "        print(f\"Sample length {total_tokens}\\n\")\n",
    "\n",
    "        \n",
    "        seq_next_token_probabilities_BLV = model(input_BL)\n",
    "\n",
    "        result_BL = seq_next_token_probabilities_BLV.argmax(dim=-1)\n",
    "\n",
    "    print(result_BL == input_BL.flip(dims=(-1,)))\n",
    "    print(result_BL)\n",
    "    return result_BL\n",
    "\n",
    "random_sample_L = create_training_sample(vocab_size=vocab_size, max_sequence_length=max_sequence_length)\n",
    "# random_sample_L = train_dataset[1]\n",
    "random_sample_BL = random_sample_L.unsqueeze(0)\n",
    "# print(random_sample_BL.flip(dims=(1,)))\n",
    "# print(random_sample[:2])\n",
    "result = torch.tensor(inference(model, random_sample_BL, device))\n",
    "        \n",
    "\n"
   ]
  },
  {
   "cell_type": "markdown",
   "metadata": {},
   "source": [
    "### Shakespeare"
   ]
  },
  {
   "cell_type": "code",
   "execution_count": 84,
   "metadata": {},
   "outputs": [],
   "source": [
    "with urllib.request.urlopen(\"https://www.gutenberg.org/files/100/100-0.txt\") as f:\n",
    "    lines = [x.decode(\"utf-8\") for x in f]"
   ]
  },
  {
   "cell_type": "code",
   "execution_count": 85,
   "metadata": {},
   "outputs": [
    {
     "data": {
      "text/plain": [
       "'*** START OF THE PROJECT GUTENBERG EBOOK 100 ***\\r\\n'"
      ]
     },
     "execution_count": 85,
     "metadata": {},
     "output_type": "execute_result"
    }
   ],
   "source": [
    "lines[0]"
   ]
  },
  {
   "cell_type": "code",
   "execution_count": 86,
   "metadata": {},
   "outputs": [
    {
     "data": {
      "text/plain": [
       "(0, 196016)"
      ]
     },
     "execution_count": 86,
     "metadata": {},
     "output_type": "execute_result"
    }
   ],
   "source": [
    "start_mark = \"*** START OF THE PROJECT GUTENBERG EBOOK 100 ***\\r\\n\"\n",
    "end_mark = \"*** END OF THE PROJECT GUTENBERG EBOOK 100 ***\\r\\n\"\n",
    "start_loc, end_loc = lines.index(start_mark), lines.index(end_mark)\n",
    "start_loc, end_loc"
   ]
  },
  {
   "cell_type": "code",
   "execution_count": 87,
   "metadata": {},
   "outputs": [],
   "source": [
    "useful_lines = lines[start_loc+1: end_loc]\n",
    "corpus = \" \".join(useful_lines).lower()"
   ]
  },
  {
   "cell_type": "code",
   "execution_count": 88,
   "metadata": {},
   "outputs": [],
   "source": [
    "corpus_tokens = re.split(r\"\\b\", corpus)"
   ]
  },
  {
   "cell_type": "code",
   "execution_count": 89,
   "metadata": {},
   "outputs": [
    {
     "data": {
      "text/plain": [
       "(1787228, 198581)"
      ]
     },
     "execution_count": 89,
     "metadata": {},
     "output_type": "execute_result"
    }
   ],
   "source": [
    "train_ratio = 0.9\n",
    "train_corpus = corpus_tokens[:int(train_ratio * len(corpus_tokens))]\n",
    "val_corpus = corpus_tokens[int(train_ratio * len(corpus_tokens)):]\n",
    "len(train_corpus), len(val_corpus)"
   ]
  },
  {
   "cell_type": "code",
   "execution_count": 90,
   "metadata": {},
   "outputs": [
    {
     "name": "stdout",
     "output_type": "stream",
     "text": [
      "['', 'the', ' ', 'complete', ' ', 'works', ' ', 'of', ' ', 'william']\n",
      "['?\\r\\n \\r\\n ', 'valentine', '.\\r\\n ', 'wise', '.\\r\\n \\r\\n ', 'thurio', '.\\r\\n ', 'what', ' ', 'instance']\n"
     ]
    }
   ],
   "source": [
    "print(train_corpus[:10])\n",
    "print(val_corpus[:10])"
   ]
  },
  {
   "cell_type": "code",
   "execution_count": 105,
   "metadata": {},
   "outputs": [],
   "source": [
    "DEBUG = True\n",
    "if DEBUG:\n",
    "    train_corpus = train_corpus[:512]\n",
    "    val_corpus = val_corpus[:512]"
   ]
  },
  {
   "cell_type": "code",
   "execution_count": 121,
   "metadata": {},
   "outputs": [
    {
     "name": "stdout",
     "output_type": "stream",
     "text": [
      "26471\n"
     ]
    }
   ],
   "source": [
    "UNKNOWN_TOK = \"UNKNOWN\"\n",
    "vocab = sorted([UNKNOWN_TOK] + list(set(corpus_tokens)))\n",
    "ss_vocab_size = len(vocab)\n",
    "print(ss_vocab_size)"
   ]
  },
  {
   "cell_type": "code",
   "execution_count": 107,
   "metadata": {},
   "outputs": [],
   "source": [
    "token_to_id = dict(zip(vocab, range(len(vocab))))\n",
    "token_from_id = {v: k for k, v in token_to_id.items()}"
   ]
  },
  {
   "cell_type": "code",
   "execution_count": 108,
   "metadata": {},
   "outputs": [],
   "source": [
    "def ids_to_token(ids, token_from_id):\n",
    "    return \" \".join([token_from_id[id.item()] for id in ids])"
   ]
  },
  {
   "cell_type": "code",
   "execution_count": null,
   "metadata": {},
   "outputs": [],
   "source": [
    "train_ids = torch.tensor([token_to_id[x] for x in train_corpus], dtype=torch.int)\n",
    "val_ids = torch.tensor([token_to_id.get(x, UNKNOWN_TOK) for x in val_corpus], dtype=torch.int)"
   ]
  },
  {
   "cell_type": "code",
   "execution_count": 134,
   "metadata": {},
   "outputs": [],
   "source": [
    "class ShakespeareDataset(torch.utils.data.Dataset):\n",
    "    def __init__(self, ids: list[int], L: int):\n",
    "        super().__init__()\n",
    "        self.ids = ids\n",
    "        self.chunk_idxes = list(range(0, len(self.ids)-L, L))\n",
    "        self.L = L\n",
    "    \n",
    "    def __len__(self):\n",
    "        return len(self.chunk_idxes)\n",
    "    \n",
    "    def __getitem__(self, idx: int) -> tuple[torch.Tensor, torch.Tensor]:\n",
    "        # Retrieve a sample at `idx` consisting of sample, label\n",
    "        chunk = self.ids[self.chunk_idxes[idx]:self.chunk_idxes[idx]+self.L]\n",
    "\n",
    "        #OVERFIT MODE\n",
    "        # chunk = self.ids[0:0+self.L+1]\n",
    "        # add padding if sample is too small\n",
    "        # if int(chunk.shape) != self.L:\n",
    "\n",
    "\n",
    "        sample = chunk[:-1].clone().detach() # the i/p should be each sample except the next one\n",
    "        labels = chunk[1:].clone().detach() # the o/p should be the next token for each, left padded\n",
    "        # think about it\n",
    "        # for the first sample we expect to get the second character and so on.\n",
    "        return sample, labels\n",
    "\n"
   ]
  },
  {
   "cell_type": "code",
   "execution_count": null,
   "metadata": {},
   "outputs": [],
   "source": [
    "batch_size = 1\n",
    "SEQUENCE_LEN_L = 128"
   ]
  },
  {
   "cell_type": "code",
   "execution_count": 136,
   "metadata": {},
   "outputs": [],
   "source": [
    "train_ds = ShakespeareDataset(train_ids, L=SEQUENCE_LEN_L)\n",
    "val_ds = ShakespeareDataset(val_ids, L=SEQUENCE_LEN_L)"
   ]
  },
  {
   "cell_type": "code",
   "execution_count": 137,
   "metadata": {},
   "outputs": [
    {
     "name": "stdout",
     "output_type": "stream",
     "text": [
      "  henry   the   fifth \n",
      "      the   first   part   of   henry   the   sixth \n",
      "      the   second   part   of   king   henry   the   sixth \n",
      "      the   third   part   of   king   henry   the   sixth \n",
      "      king   henry   the   eighth \n",
      "      the   life   and   death   of   king   john \n",
      "      the   tragedy   of   julius   caesar \n",
      "      the   tragedy   of   king   lear \n",
      "      love ’ s   labour ’ s   lost \n",
      "      the   tragedy   of   macbeth \n",
      "      measure   for   measure \n",
      "      the   merchant   of   venice \n",
      "     \n",
      "henry   the   fifth \n",
      "      the   first   part   of   henry   the   sixth \n",
      "      the   second   part   of   king   henry   the   sixth \n",
      "      the   third   part   of   king   henry   the   sixth \n",
      "      king   henry   the   eighth \n",
      "      the   life   and   death   of   king   john \n",
      "      the   tragedy   of   julius   caesar \n",
      "      the   tragedy   of   king   lear \n",
      "      love ’ s   labour ’ s   lost \n",
      "      the   tragedy   of   macbeth \n",
      "      measure   for   measure \n",
      "      the   merchant   of   venice \n",
      "      the\n"
     ]
    }
   ],
   "source": [
    "print(ids_to_token(train_ds[1][0], token_from_id))\n",
    "print(ids_to_token(train_ds[1][1], token_from_id))"
   ]
  },
  {
   "cell_type": "code",
   "execution_count": 138,
   "metadata": {},
   "outputs": [
    {
     "data": {
      "text/plain": [
       "torch.Size([512])"
      ]
     },
     "execution_count": 138,
     "metadata": {},
     "output_type": "execute_result"
    }
   ],
   "source": [
    "train_ds.ids.shape"
   ]
  },
  {
   "cell_type": "code",
   "execution_count": 139,
   "metadata": {},
   "outputs": [],
   "source": [
    "train_dl = DataLoader(train_ds, batch_size=batch_size, shuffle=True, num_workers=0)\n",
    "val_dl = DataLoader(val_ds, batch_size=batch_size, shuffle=False, num_workers=0)"
   ]
  },
  {
   "cell_type": "code",
   "execution_count": 140,
   "metadata": {},
   "outputs": [
    {
     "data": {
      "text/plain": [
       "(3, 3)"
      ]
     },
     "execution_count": 140,
     "metadata": {},
     "output_type": "execute_result"
    }
   ],
   "source": [
    "len(train_dl), len(val_dl)"
   ]
  },
  {
   "cell_type": "code",
   "execution_count": 141,
   "metadata": {},
   "outputs": [],
   "source": [
    "shakespeare_model = Transformer(num_decoders=6, d_model=512, maximum_sequence_length=SEQUENCE_LEN_L, vocabulary_size=ss_vocab_size, P_drop=0.3).to(device)"
   ]
  },
  {
   "cell_type": "code",
   "execution_count": 142,
   "metadata": {},
   "outputs": [],
   "source": [
    "loss = F.nll_loss\n",
    "adam_opt = torch.optim.Adam(shakespeare_model.parameters(), betas=(0.9, 0.98), eps=1e-09, lr=0.0006) # parameters from paper. No LR schedule, default 0.001\n",
    "scheduler = torch.optim.lr_scheduler.LinearLR(adam_opt)"
   ]
  },
  {
   "cell_type": "code",
   "execution_count": 143,
   "metadata": {},
   "outputs": [
    {
     "name": "stdout",
     "output_type": "stream",
     "text": [
      "Epoch 0:\n",
      "Loss = 218.99854532877603 Accuracy = 0.125\n",
      "Val Loss = 61.21008555094401 Val Accuracy = 0.3697916666666667\n",
      "Epoch 1:\n",
      "Loss = 64.6239496866862 Accuracy = 0.171875\n",
      "Val Loss = 79.45709737141927 Val Accuracy = 0.09114583333333333\n",
      "Epoch 2:\n",
      "Loss = 63.61824417114258 Accuracy = 0.026041666666666668\n",
      "Val Loss = 31.816720326741535 Val Accuracy = 0.3697916666666667\n",
      "Epoch 3:\n",
      "Loss = 51.43353398640951 Accuracy = 0.2526041666666667\n",
      "Val Loss = 50.56344731648763 Val Accuracy = 0.3697916666666667\n",
      "Epoch 4:\n",
      "Loss = 39.518348693847656 Accuracy = 0.23177083333333334\n",
      "Val Loss = 34.253281911214195 Val Accuracy = 0.09114583333333333\n",
      "Epoch 5:\n",
      "Loss = 38.77502187093099 Accuracy = 0.044270833333333336\n",
      "Val Loss = 26.312407811482746 Val Accuracy = 0.09114583333333333\n",
      "Epoch 6:\n",
      "Loss = 30.665146509806316 Accuracy = 0.18489583333333334\n",
      "Val Loss = 35.31667137145996 Val Accuracy = 0.3697916666666667\n",
      "Epoch 7:\n",
      "Loss = 29.495269139607746 Accuracy = 0.22395833333333334\n",
      "Val Loss = 17.99553871154785 Val Accuracy = 0.3697916666666667\n",
      "Epoch 8:\n",
      "Loss = 27.42601203918457 Accuracy = 0.0390625\n",
      "Val Loss = 19.670493443806965 Val Accuracy = 0.3697916666666667\n",
      "Epoch 9:\n",
      "Loss = 25.574609756469727 Accuracy = 0.2265625\n",
      "Val Loss = 26.38536771138509 Val Accuracy = 0.3697916666666667\n",
      "Epoch 10:\n",
      "Loss = 24.86428960164388 Accuracy = 0.20572916666666666\n",
      "Val Loss = 17.16425609588623 Val Accuracy = 0.09114583333333333\n",
      "Epoch 11:\n",
      "Loss = 25.29109064737956 Accuracy = 0.07291666666666667\n",
      "Val Loss = 21.313205083211262 Val Accuracy = 0.3697916666666667\n",
      "Epoch 12:\n",
      "Loss = 23.681132634480793 Accuracy = 0.22395833333333334\n",
      "Val Loss = 21.66471799214681 Val Accuracy = 0.3697916666666667\n",
      "Epoch 13:\n",
      "Loss = 24.198171615600586 Accuracy = 0.14583333333333334\n",
      "Val Loss = 16.195661226908367 Val Accuracy = 0.09114583333333333\n",
      "Epoch 14:\n",
      "Loss = 22.370452880859375 Accuracy = 0.11458333333333333\n",
      "Val Loss = 21.515408198038738 Val Accuracy = 0.3697916666666667\n",
      "Epoch 15:\n",
      "Loss = 21.287386576334637 Accuracy = 0.2265625\n",
      "Val Loss = 15.254825909932455 Val Accuracy = 0.3697916666666667\n",
      "Epoch 16:\n",
      "Loss = 21.25452486673991 Accuracy = 0.07552083333333333\n",
      "Val Loss = 16.91090742746989 Val Accuracy = 0.3697916666666667\n",
      "Epoch 17:\n",
      "Loss = 20.196726481119793 Accuracy = 0.20572916666666666\n",
      "Val Loss = 17.041011492411297 Val Accuracy = 0.3697916666666667\n",
      "Epoch 18:\n",
      "Loss = 19.797913869222004 Accuracy = 0.125\n",
      "Val Loss = 15.119850476582846 Val Accuracy = 0.3697916666666667\n",
      "Epoch 19:\n",
      "Loss = 18.675033569335938 Accuracy = 0.19791666666666666\n",
      "Val Loss = 13.100681940714518 Val Accuracy = 0.3697916666666667\n",
      "Epoch 20:\n",
      "Loss = 18.32642364501953 Accuracy = 0.10677083333333333\n",
      "Val Loss = 15.644420941670736 Val Accuracy = 0.3697916666666667\n",
      "Epoch 21:\n",
      "Loss = 17.453872680664062 Accuracy = 0.20833333333333334\n",
      "Val Loss = 13.851497968037924 Val Accuracy = 0.09114583333333333\n",
      "Epoch 22:\n",
      "Loss = 17.30438296000163 Accuracy = 0.16666666666666666\n",
      "Val Loss = 13.038174947102865 Val Accuracy = 0.3697916666666667\n",
      "Epoch 23:\n",
      "Loss = 16.97578461964925 Accuracy = 0.15104166666666666\n",
      "Val Loss = 14.382234891255697 Val Accuracy = 0.3697916666666667\n"
     ]
    },
    {
     "name": "stdout",
     "output_type": "stream",
     "text": [
      "Epoch 24:\n",
      "Loss = 16.357431411743164 Accuracy = 0.13541666666666666\n",
      "Val Loss = 12.104546864827475 Val Accuracy = 0.06770833333333333\n",
      "Epoch 25:\n",
      "Loss = 17.863406817118328 Accuracy = 0.171875\n",
      "Val Loss = 11.15643310546875 Val Accuracy = 0.3697916666666667\n",
      "Epoch 26:\n",
      "Loss = 16.438823382059734 Accuracy = 0.171875\n",
      "Val Loss = 12.071317036946615 Val Accuracy = 0.3697916666666667\n",
      "Epoch 27:\n",
      "Loss = 15.66938304901123 Accuracy = 0.15364583333333334\n",
      "Val Loss = 12.27161725362142 Val Accuracy = 0.3697916666666667\n",
      "Epoch 28:\n",
      "Loss = 14.871920267740885 Accuracy = 0.15625\n",
      "Val Loss = 10.957125663757324 Val Accuracy = 0.3697916666666667\n",
      "Epoch 29:\n",
      "Loss = 15.374170939127604 Accuracy = 0.15104166666666666\n",
      "Val Loss = 9.683705647786459 Val Accuracy = 0.06770833333333333\n",
      "Epoch 30:\n",
      "Loss = 15.2560396194458 Accuracy = 0.16927083333333334\n",
      "Val Loss = 11.411447207132975 Val Accuracy = 0.3697916666666667\n",
      "Epoch 31:\n",
      "Loss = 14.662982622782389 Accuracy = 0.15885416666666666\n",
      "Val Loss = 10.87494691212972 Val Accuracy = 0.3697916666666667\n",
      "Epoch 32:\n",
      "Loss = 14.519184748331705 Accuracy = 0.1484375\n",
      "Val Loss = 12.771140734354654 Val Accuracy = 0.3697916666666667\n",
      "Epoch 33:\n",
      "Loss = 14.601701100667318 Accuracy = 0.15885416666666666\n",
      "Val Loss = 14.671506881713867 Val Accuracy = 0.3697916666666667\n",
      "Epoch 34:\n",
      "Loss = 14.920212427775065 Accuracy = 0.15104166666666666\n",
      "Val Loss = 12.268097559611002 Val Accuracy = 0.3697916666666667\n",
      "Epoch 35:\n",
      "Loss = 15.748884201049805 Accuracy = 0.20833333333333334\n",
      "Val Loss = 8.719515164693197 Val Accuracy = 0.06770833333333333\n",
      "Epoch 36:\n",
      "Loss = 15.669395128885904 Accuracy = 0.19270833333333334\n",
      "Val Loss = 12.870047887166342 Val Accuracy = 0.3697916666666667\n",
      "Epoch 37:\n",
      "Loss = 15.485676447550455 Accuracy = 0.15885416666666666\n",
      "Val Loss = 10.992401758829752 Val Accuracy = 0.3697916666666667\n",
      "Epoch 38:\n",
      "Loss = 13.758775393168131 Accuracy = 0.13802083333333334\n",
      "Val Loss = 12.210808753967285 Val Accuracy = 0.3697916666666667\n",
      "Epoch 39:\n",
      "Loss = 14.24498208363851 Accuracy = 0.1875\n",
      "Val Loss = 9.748041470845541 Val Accuracy = 0.3697916666666667\n",
      "Epoch 40:\n",
      "Loss = 13.811466852823893 Accuracy = 0.15885416666666666\n",
      "Val Loss = 11.280165672302246 Val Accuracy = 0.09114583333333333\n",
      "Epoch 41:\n",
      "Loss = 13.747222582499186 Accuracy = 0.15364583333333334\n",
      "Val Loss = 12.95220152537028 Val Accuracy = 0.06770833333333333\n",
      "Epoch 42:\n",
      "Loss = 14.447403907775879 Accuracy = 0.1640625\n",
      "Val Loss = 11.26992384592692 Val Accuracy = 0.3697916666666667\n",
      "Epoch 43:\n",
      "Loss = 14.457940737406412 Accuracy = 0.1953125\n",
      "Val Loss = 10.920184771219889 Val Accuracy = 0.3697916666666667\n",
      "Epoch 44:\n",
      "Loss = 12.86596711476644 Accuracy = 0.16145833333333334\n",
      "Val Loss = 13.163792610168457 Val Accuracy = 0.06770833333333333\n",
      "Epoch 45:\n",
      "Loss = 13.229997316996256 Accuracy = 0.140625\n",
      "Val Loss = 10.3224458694458 Val Accuracy = 0.3697916666666667\n",
      "Epoch 46:\n",
      "Loss = 13.28919792175293 Accuracy = 0.18229166666666666\n",
      "Val Loss = 8.586371103922525 Val Accuracy = 0.3697916666666667\n",
      "Epoch 47:\n",
      "Loss = 12.700407981872559 Accuracy = 0.15885416666666666\n",
      "Val Loss = 12.827828089396158 Val Accuracy = 0.06770833333333333\n",
      "Epoch 48:\n",
      "Loss = 13.485310554504395 Accuracy = 0.17447916666666666\n",
      "Val Loss = 10.240763346354166 Val Accuracy = 0.09114583333333333\n",
      "Epoch 49:\n",
      "Loss = 14.02113405863444 Accuracy = 0.13541666666666666\n",
      "Val Loss = 11.143335024515787 Val Accuracy = 0.3697916666666667\n",
      "Epoch 50:\n",
      "Loss = 12.857705434163412 Accuracy = 0.13802083333333334\n",
      "Val Loss = 11.365190188090006 Val Accuracy = 0.3697916666666667\n",
      "Epoch 51:\n",
      "Loss = 12.587821960449219 Accuracy = 0.22916666666666666\n",
      "Val Loss = 10.964832305908203 Val Accuracy = 0.09114583333333333\n",
      "Epoch 52:\n",
      "Loss = 12.54715379079183 Accuracy = 0.16666666666666666\n",
      "Val Loss = 10.275317827860514 Val Accuracy = 0.3697916666666667\n",
      "Epoch 53:\n",
      "Loss = 12.72790241241455 Accuracy = 0.1328125\n",
      "Val Loss = 9.699027379353842 Val Accuracy = 0.3697916666666667\n",
      "Epoch 54:\n",
      "Loss = 12.297198613484701 Accuracy = 0.171875\n",
      "Val Loss = 9.46389897664388 Val Accuracy = 0.3697916666666667\n",
      "Epoch 55:\n",
      "Loss = 12.245020866394043 Accuracy = 0.15885416666666666\n",
      "Val Loss = 9.17539087931315 Val Accuracy = 0.3697916666666667\n",
      "Epoch 56:\n",
      "Loss = 11.016983350118002 Accuracy = 0.20833333333333334\n",
      "Val Loss = 9.15011978149414 Val Accuracy = 0.06770833333333333\n",
      "Epoch 57:\n",
      "Loss = 13.049931208292643 Accuracy = 0.16666666666666666\n",
      "Val Loss = 8.465550263722738 Val Accuracy = 0.3697916666666667\n",
      "Epoch 58:\n",
      "Loss = 12.525846799214682 Accuracy = 0.08333333333333333\n",
      "Val Loss = 12.31686274210612 Val Accuracy = 0.3697916666666667\n",
      "Epoch 59:\n",
      "Loss = 13.061204592386881 Accuracy = 0.203125\n",
      "Val Loss = 8.803309440612793 Val Accuracy = 0.3697916666666667\n",
      "Epoch 60:\n",
      "Loss = 12.29958470662435 Accuracy = 0.19010416666666666\n",
      "Val Loss = 8.500848452250162 Val Accuracy = 0.3697916666666667\n",
      "Epoch 61:\n",
      "Loss = 11.416450182596842 Accuracy = 0.171875\n",
      "Val Loss = 7.53835662206014 Val Accuracy = 0.3697916666666667\n",
      "Epoch 62:\n",
      "Loss = 10.874598821004232 Accuracy = 0.16666666666666666\n",
      "Val Loss = 8.991717974344889 Val Accuracy = 0.3697916666666667\n",
      "Epoch 63:\n",
      "Loss = 11.314085006713867 Accuracy = 0.15885416666666666\n",
      "Val Loss = 9.70849355061849 Val Accuracy = 0.3697916666666667\n",
      "Epoch 64:\n",
      "Loss = 11.248181343078613 Accuracy = 0.171875\n",
      "Val Loss = 10.661328315734863 Val Accuracy = 0.3697916666666667\n",
      "Epoch 65:\n",
      "Loss = 11.302612940470377 Accuracy = 0.1796875\n",
      "Val Loss = 9.131381034851074 Val Accuracy = 0.3697916666666667\n",
      "Epoch 66:\n",
      "Loss = 11.012796719868978 Accuracy = 0.17708333333333334\n",
      "Val Loss = 7.136371612548828 Val Accuracy = 0.3697916666666667\n",
      "Epoch 67:\n",
      "Loss = 11.064565976460775 Accuracy = 0.171875\n",
      "Val Loss = 7.441671212514241 Val Accuracy = 0.3697916666666667\n",
      "Epoch 68:\n",
      "Loss = 11.023551940917969 Accuracy = 0.1640625\n",
      "Val Loss = 8.617406050364176 Val Accuracy = 0.06770833333333333\n",
      "Epoch 69:\n",
      "Loss = 10.69529946645101 Accuracy = 0.13020833333333334\n",
      "Val Loss = 9.403455098470053 Val Accuracy = 0.3697916666666667\n",
      "Epoch 70:\n",
      "Loss = 10.750395774841309 Accuracy = 0.16927083333333334\n",
      "Val Loss = 7.524003187815349 Val Accuracy = 0.3697916666666667\n",
      "Epoch 71:\n",
      "Loss = 10.527974128723145 Accuracy = 0.1796875\n",
      "Val Loss = 7.312001864115397 Val Accuracy = 0.3697916666666667\n",
      "Epoch 72:\n",
      "Loss = 10.10600757598877 Accuracy = 0.171875\n",
      "Val Loss = 6.845759391784668 Val Accuracy = 0.3697916666666667\n",
      "Epoch 73:\n",
      "Loss = 9.649530410766602 Accuracy = 0.15104166666666666\n",
      "Val Loss = 8.89802344640096 Val Accuracy = 0.3697916666666667\n",
      "Epoch 74:\n",
      "Loss = 10.071046511332193 Accuracy = 0.16927083333333334\n",
      "Val Loss = 9.10702641805013 Val Accuracy = 0.3697916666666667\n",
      "Epoch 75:\n",
      "Loss = 10.43819268544515 Accuracy = 0.15885416666666666\n",
      "Val Loss = 8.765108744303385 Val Accuracy = 0.3697916666666667\n",
      "Epoch 76:\n",
      "Loss = 10.363560358683268 Accuracy = 0.20833333333333334\n",
      "Val Loss = 7.01741902033488 Val Accuracy = 0.3697916666666667\n",
      "Epoch 77:\n",
      "Loss = 9.700188318888346 Accuracy = 0.1640625\n",
      "Val Loss = 10.81119187672933 Val Accuracy = 0.09114583333333333\n",
      "Epoch 78:\n",
      "Loss = 11.30582364400228 Accuracy = 0.16666666666666666\n",
      "Val Loss = 8.814057350158691 Val Accuracy = 0.3697916666666667\n",
      "Epoch 79:\n",
      "Loss = 11.160521507263184 Accuracy = 0.13541666666666666\n",
      "Val Loss = 7.715704282124837 Val Accuracy = 0.3697916666666667\n",
      "Epoch 80:\n",
      "Loss = 9.832702795664469 Accuracy = 0.19270833333333334\n",
      "Val Loss = 8.44182014465332 Val Accuracy = 0.3697916666666667\n",
      "Epoch 81:\n",
      "Loss = 11.03433640797933 Accuracy = 0.15625\n",
      "Val Loss = 7.607744216918945 Val Accuracy = 0.3697916666666667\n",
      "Epoch 82:\n",
      "Loss = 10.816501299540201 Accuracy = 0.14322916666666666\n",
      "Val Loss = 9.064039866129557 Val Accuracy = 0.3697916666666667\n",
      "Epoch 83:\n",
      "Loss = 10.01090176900228 Accuracy = 0.2265625\n",
      "Val Loss = 7.792761166890462 Val Accuracy = 0.3697916666666667\n",
      "Epoch 84:\n",
      "Loss = 9.9319486618042 Accuracy = 0.17447916666666666\n",
      "Val Loss = 7.6939592361450195 Val Accuracy = 0.3697916666666667\n",
      "Epoch 85:\n",
      "Loss = 9.8287935256958 Accuracy = 0.1875\n",
      "Val Loss = 9.542757987976074 Val Accuracy = 0.3697916666666667\n",
      "Epoch 86:\n",
      "Loss = 10.159724235534668 Accuracy = 0.140625\n",
      "Val Loss = 8.665719985961914 Val Accuracy = 0.3697916666666667\n",
      "Epoch 87:\n",
      "Loss = 9.693507512410482 Accuracy = 0.140625\n",
      "Val Loss = 8.094189325968424 Val Accuracy = 0.3697916666666667\n",
      "Epoch 88:\n",
      "Loss = 9.513044039408365 Accuracy = 0.19270833333333334\n",
      "Val Loss = 6.393584092458089 Val Accuracy = 0.3697916666666667\n",
      "Epoch 89:\n",
      "Loss = 10.092401504516602 Accuracy = 0.19010416666666666\n",
      "Val Loss = 6.395778338114421 Val Accuracy = 0.06770833333333333\n",
      "Epoch 90:\n",
      "Loss = 10.267854372660318 Accuracy = 0.14322916666666666\n",
      "Val Loss = 8.12057606379191 Val Accuracy = 0.09114583333333333\n",
      "Epoch 91:\n",
      "Loss = 9.274733702341715 Accuracy = 0.12239583333333333\n",
      "Val Loss = 8.222825368245443 Val Accuracy = 0.3697916666666667\n",
      "Epoch 92:\n",
      "Loss = 9.510070164998373 Accuracy = 0.15104166666666666\n",
      "Val Loss = 7.942633628845215 Val Accuracy = 0.3697916666666667\n",
      "Epoch 93:\n",
      "Loss = 9.012916564941406 Accuracy = 0.1796875\n",
      "Val Loss = 6.685932795206706 Val Accuracy = 0.3697916666666667\n",
      "Epoch 94:\n",
      "Loss = 8.989800135294596 Accuracy = 0.203125\n",
      "Val Loss = 5.877004305521647 Val Accuracy = 0.3697916666666667\n",
      "Epoch 95:\n",
      "Loss = 8.584668000539144 Accuracy = 0.17708333333333334\n",
      "Val Loss = 7.007770379384358 Val Accuracy = 0.3697916666666667\n",
      "Epoch 96:\n",
      "Loss = 9.21223529179891 Accuracy = 0.1953125\n",
      "Val Loss = 6.306655089060466 Val Accuracy = 0.3697916666666667\n",
      "Epoch 97:\n",
      "Loss = 8.666289965311686 Accuracy = 0.16666666666666666\n",
      "Val Loss = 6.757716019948323 Val Accuracy = 0.09114583333333333\n",
      "Epoch 98:\n",
      "Loss = 9.438626289367676 Accuracy = 0.15885416666666666\n",
      "Val Loss = 5.8828972180684405 Val Accuracy = 0.09114583333333333\n",
      "Epoch 99:\n",
      "Loss = 9.181373278299967 Accuracy = 0.13020833333333334\n",
      "Val Loss = 7.749605814615886 Val Accuracy = 0.3697916666666667\n"
     ]
    }
   ],
   "source": [
    "epochs = 100\n",
    "\n",
    "losses = train_loop(\n",
    "    train_dataloader=train_dl,\n",
    "    model=shakespeare_model,\n",
    "    loss_fn=loss,\n",
    "    optimizer=adam_opt,\n",
    "    scheduler=scheduler,\n",
    "    device=device,\n",
    "    epochs=epochs,\n",
    "    train_dataset_len=len(train_ds),\n",
    "    sequence_length=SEQUENCE_LEN_L,\n",
    "    val_dataloader=val_dl,\n",
    "    test_dataset_len=len(val_ds),\n",
    ")"
   ]
  },
  {
   "cell_type": "code",
   "execution_count": null,
   "metadata": {},
   "outputs": [],
   "source": []
  },
  {
   "cell_type": "code",
   "execution_count": null,
   "metadata": {},
   "outputs": [],
   "source": []
  }
 ],
 "metadata": {
  "kernelspec": {
   "display_name": "transformers_torch_kernel",
   "language": "python",
   "name": "transformers_torch_kernel"
  },
  "language_info": {
   "codemirror_mode": {
    "name": "ipython",
    "version": 3
   },
   "file_extension": ".py",
   "mimetype": "text/x-python",
   "name": "python",
   "nbconvert_exporter": "python",
   "pygments_lexer": "ipython3",
   "version": "3.10.12"
  }
 },
 "nbformat": 4,
 "nbformat_minor": 2
}
