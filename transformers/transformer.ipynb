{
 "cells": [
  {
   "cell_type": "code",
   "execution_count": 14,
   "metadata": {},
   "outputs": [
    {
     "data": {
      "text/plain": [
       "<torch._C.Generator at 0x76d80e88b350>"
      ]
     },
     "execution_count": 14,
     "metadata": {},
     "output_type": "execute_result"
    }
   ],
   "source": [
    "from typing import Optional\n",
    "import matplotlib.pyplot as plt\n",
    "import numpy as np\n",
    "import torch\n",
    "from torch import nn\n",
    "import torch.nn.functional as F\n",
    "from einops import rearrange, einsum\n",
    "\n",
    "import math\n",
    "from collections import OrderedDict\n",
    "torch.manual_seed(1234)"
   ]
  },
  {
   "cell_type": "markdown",
   "metadata": {},
   "source": [
    "### Sinusoidal Positional Encodings\n",
    "\n",
    "This is used to inject some positional information into the embeddings of the token sequence. Since we compute the next token for every single token in parallel, we want some info about the position of a token within a sequence to be represented as well.\n",
    "1. Unique encoding for each position (across all sequences)\n",
    "2. Generalize to longer sequence than seen in training\n",
    "3. Generated deterministically (so the model can learn it)\n",
    "4. Linear relation between 2 encoded positions (again to help the model learn relationships)\n",
    "\n",
    "\n",
    "Given a position $pos$ output a vector $d_{model}$ such that for each location $i$ in the vector the output is $$PE_{pos,2i} = \\sin(pos/10000^{2i/d_{model}})$$ $$PE_{pos,2i+1} = \\cos(pos/10000^{2i/d_{model}})$$\n",
    "for even and odd indices respectively\n",
    "\n",
    "we refactor as $$PE_{pos,2i} = \\sin(pos.w)$$ $$PE_{pos,2i+1} = \\cos(pos.w)$$ where $w=1/(10000^{2i/d_{model}}) for 0 <= 2i <= d_{model}$\n",
    "\n",
    "![Sinusoidal PE visualization](fleetwood_sinusoidal.png \"https://fleetwood.dev/posts/you-could-have-designed-SOTA-positional-encoding\")\n",
    "Look at the functions. For a dimension $i$ the $sin/cos$ function's wave starts out extremely quickly changing values for small $i$, and slows down a lot up to a wavelength of $10000*2\\pi$.\n",
    "\n",
    "#### Derivation to use tensor ops\n",
    "$$\\frac{1}{10000^{k/d_{model}}} = 10000^{-k/d_{model}} = \\exp(\\log(10000^{-k/d_{model}}))$$\n",
    "$$ = \\exp(-k/d_{model} * \\log(10000))$$\n",
    "this is basically\n",
    "$$torch.exp(k * (-\\frac{1}{d_{model}}) * \\log(10000))$$"
   ]
  },
  {
   "cell_type": "code",
   "execution_count": 15,
   "metadata": {},
   "outputs": [],
   "source": [
    "class SinusoidalPositionalEncoding(nn.Module):\n",
    "    def __init__(self, d_model: int, max_len: int = 5000) -> None:\n",
    "        \"\"\"Construct the entire positional encoding.\"\"\"\n",
    "        super().__init__()\n",
    "        w = torch.exp(torch.arange(0, d_model, 2) * (-1/d_model) * math.log(10000))\n",
    "        PE = torch.zeros([max_len, d_model])\n",
    "        positions = torch.arange(0, max_len)\n",
    "        # We have 2 vectors\n",
    "        assert (positions.shape == (max_len,))\n",
    "        assert (w.shape == (d_model // 2,))\n",
    "        # If we reshape positions into a row of columns [[0], [1], [2], ...] then \n",
    "        # positions @ w -> gives us a matrix of shape [max_len, d_model/2 ]\n",
    "        positions = rearrange(positions, \"(len column) -> len column\", column=1)\n",
    "        PE[:, 0::2] = torch.sin(positions * w)\n",
    "        PE[:, 1::2] = torch.cos(positions * w)\n",
    "        self.register_buffer(\"PE\", PE) # this is not to be a learnable parameter\n",
    "        # However we do want it to be moved along with model.to(device) \n",
    "    \n",
    "    def forward(self):\n",
    "        return self.PE"
   ]
  },
  {
   "cell_type": "markdown",
   "metadata": {},
   "source": [
    "Just a reference implementation with for-loops to demonstrate speedup of torch ops."
   ]
  },
  {
   "cell_type": "code",
   "execution_count": 16,
   "metadata": {},
   "outputs": [],
   "source": [
    "# output pe -> [d_model]\n",
    "def sinusoidal_position_encoding(pos: int, d_model: int = 512) -> torch.Tensor:\n",
    "    # w = 1/10000**(2i/d_model)\n",
    "    w = torch.tensor([1/(10000**(k/d_model)) for k in range(0, d_model, 2)])\n",
    "    x_indices = pos * w \n",
    "    PE_even = torch.sin(x_indices)\n",
    "    PE_odd = torch.cos(x_indices)\n",
    "    PE_even = rearrange(PE_even, \"(new_dim l) -> l new_dim\", new_dim=1)\n",
    "    PE_odd = rearrange(PE_odd, \"(new_dim l) -> l new_dim\", new_dim=1)\n",
    "    interleaved_result = rearrange([PE_even, PE_odd], \"function d_model element -> (d_model element function)\")\n",
    "    assert (interleaved_result.shape == (d_model,))\n",
    "    return interleaved_result\n",
    "\n",
    "def generate_position_encoding(max_len: int = 5000, d_model: int = 512) -> torch.Tensor:\n",
    "    all_positions_encoding = torch.zeros([max_len, d_model], dtype=torch.float32)\n",
    "    for position in range(max_len):\n",
    "        all_positions_encoding[position, :] += sinusoidal_position_encoding(position, d_model)\n",
    "    return all_positions_encoding"
   ]
  },
  {
   "cell_type": "markdown",
   "metadata": {},
   "source": [
    "#### Note below the speed differential of the vectorized pytorch ops. Eye the units 👀"
   ]
  },
  {
   "cell_type": "code",
   "execution_count": 17,
   "metadata": {},
   "outputs": [
    {
     "name": "stdout",
     "output_type": "stream",
     "text": [
      "241 ms ± 2.01 ms per loop (mean ± std. dev. of 7 runs, 1 loop each)\n"
     ]
    }
   ],
   "source": [
    "%%timeit\n",
    "generate_position_encoding()"
   ]
  },
  {
   "cell_type": "code",
   "execution_count": 18,
   "metadata": {},
   "outputs": [
    {
     "name": "stdout",
     "output_type": "stream",
     "text": [
      "442 μs ± 39.5 μs per loop (mean ± std. dev. of 7 runs, 1,000 loops each)\n"
     ]
    }
   ],
   "source": [
    "%%timeit\n",
    "SinusoidalPositionalEncoding(512)"
   ]
  },
  {
   "cell_type": "code",
   "execution_count": 19,
   "metadata": {},
   "outputs": [
    {
     "name": "stdout",
     "output_type": "stream",
     "text": [
      "torch.Size([5000, 512])\n"
     ]
    }
   ],
   "source": [
    "print(SinusoidalPositionalEncoding(d_model=512).PE.shape)"
   ]
  },
  {
   "cell_type": "code",
   "execution_count": 20,
   "metadata": {},
   "outputs": [],
   "source": [
    "def test_sinusoidal_positional_encoding_class():\n",
    "    max_len = 5000\n",
    "    d_model = 512\n",
    "    pe_class = SinusoidalPositionalEncoding(d_model=d_model, max_len=max_len)\n",
    "    \n",
    "    torch.allclose(pe_class.forward(), generate_position_encoding(max_len=max_len, d_model=d_model))\n",
    "\n",
    "test_sinusoidal_positional_encoding_class()"
   ]
  },
  {
   "cell_type": "markdown",
   "metadata": {},
   "source": [
    "#### Function that calculates attention (single-headed for now)."
   ]
  },
  {
   "cell_type": "markdown",
   "metadata": {},
   "source": [
    "#### A Decoder-Only Transformer Language Model\n",
    "\n",
    "For now we are implementing it with single headed attention"
   ]
  },
  {
   "cell_type": "code",
   "execution_count": 21,
   "metadata": {},
   "outputs": [
    {
     "data": {
      "text/plain": [
       "\"\\nDimension key:\\nL: sequence length\\nD: model dimension (d_model)\\nV: vocabulary size\\nF: feed-forward subnetwork's hidden size\\nK: size of each attention key or value (d_k,d_v,d_kv)\\n\""
      ]
     },
     "execution_count": 21,
     "metadata": {},
     "output_type": "execute_result"
    }
   ],
   "source": [
    "\"\"\"\n",
    "Dimension key:\n",
    "L: sequence length\n",
    "D: model dimension (d_model)\n",
    "V: vocabulary size\n",
    "F: feed-forward subnetwork's hidden size\n",
    "K: size of each attention key or value (d_k,d_v,d_kv)\n",
    "\"\"\""
   ]
  },
  {
   "cell_type": "code",
   "execution_count": 35,
   "metadata": {},
   "outputs": [],
   "source": [
    "class EmbeddingLayer(nn.Module):\n",
    "    def __init__(self, vector_size: int, vocab_size: int):\n",
    "        super().__init__()\n",
    "        self.d_model = vector_size\n",
    "        self.scaling_factor = math.sqrt(self.d_model) # a detail in the paper\n",
    "        self.lut = nn.Embedding(vocab_size, vector_size)\n",
    "    \n",
    "    def forward(self, input_indices: torch.Tensor):\n",
    "        return self.lut(input_indices) * self.scaling_factor\n",
    "\n",
    "    def get_weights(self):\n",
    "        return self.lut.weight"
   ]
  },
  {
   "cell_type": "code",
   "execution_count": 36,
   "metadata": {},
   "outputs": [],
   "source": [
    "class FeedForward(nn.Module):\n",
    "    def __init__(self, D: int, H: int = 2048):\n",
    "        super().__init__()\n",
    "        self.layers = nn.Sequential(OrderedDict([\n",
    "            (\"linear1\", nn.Linear(D, H)),\n",
    "            (\"relu1\", nn.ReLU()),\n",
    "            (\"linear2\", nn.Linear(H, D)),\n",
    "        ]))\n",
    "    \n",
    "    def forward(self, x):\n",
    "        return self.layers.forward(x)\n",
    "\n",
    "\n",
    "\n",
    "class Decoder(nn.Module):\n",
    "    def __init__(self, d_model: int, d_k: int, d_v: int, P_drop: int):\n",
    "        super().__init__()\n",
    "        # attention function\n",
    "        self.d_model = d_model\n",
    "        self.d_k = d_k\n",
    "        self.d_v = d_v\n",
    "        self.P_drop = P_drop\n",
    "        self.W_query_DK = nn.Parameter(torch.randn([self.d_model, self.d_k]), requires_grad=True)\n",
    "        self.W_key_DK = nn.Parameter(torch.randn([self.d_model, self.d_k]), requires_grad=True)\n",
    "        self.W_value_DK = nn.Parameter(torch.randn([self.d_model, self.d_v]), requires_grad=True)\n",
    "\n",
    "        # normalize over the last dimension in shape [N, d_v], so each layer\n",
    "        self.dropout1 = nn.Dropout(p=self.P_drop)\n",
    "        self.layernorm1 = nn.LayerNorm(self.d_v)\n",
    "        self.feedforward = FeedForward(D=self.d_model)\n",
    "        self.dropout2 = nn.Dropout(p=self.P_drop)\n",
    "        self.layernorm2 = nn.LayerNorm(self.d_model)\n",
    "    \n",
    "    def forward(self, input_LD: torch.Tensor) -> torch.Tensor:\n",
    "        assert(input_LD.dim() == 2 and input_LD.shape[1] == self.d_model)\n",
    "        input_token_length = input_LD.shape[0]\n",
    "        Query_LK = torch.matmul(input_LD, self.W_query_DK)\n",
    "        Key_LK = torch.matmul(input_LD, self.W_key_DK)\n",
    "        Value_LK = torch.matmul(input_LD, self.W_value_DK)\n",
    "\n",
    "        attn_values = self.scaled_dot_prd_attention(Query_LK, Key_LK, Value_LK)\n",
    "        reg_attn_values = self.dropout1(attn_values)\n",
    "        normalized_attn_values = self.layernorm1(reg_attn_values + input_LD)\n",
    "        assert(normalized_attn_values.shape == attn_values.shape)\n",
    "        assert(normalized_attn_values.dim() == 2 and normalized_attn_values.shape[1] == self.d_model)\n",
    "\n",
    "        # print(normalized_attn_values.shape)\n",
    "        ffn_output = self.feedforward(normalized_attn_values)\n",
    "        reg_ffn_output = self.dropout1(ffn_output)\n",
    "\n",
    "        normalized_ffn = self.layernorm2(reg_ffn_output + normalized_attn_values)\n",
    "        return normalized_ffn\n",
    "    \n",
    "    def scaled_dot_prd_attention(self, Query_LK, Key_LK, Value_LK, mask: bool = True) -> torch.Tensor:\n",
    "        assert (Query_LK.shape == Key_LK.shape)\n",
    "\n",
    "        Key_LK_t = rearrange(Key_LK, \"dm dk -> dk dm\")\n",
    "\n",
    "        QK_t_LL = einsum(Query_LK, Key_LK_t, \"i dk, dk k -> i k\")\n",
    "        scaled_QK_t_LL = QK_t_LL / math.sqrt(self.d_model)\n",
    "        # since we want to average the attended keys between the dimension d_k\n",
    "        if mask:\n",
    "            tril_qk = torch.tril(scaled_QK_t_LL)\n",
    "            scaled_QK_t_LL = torch.where(tril_qk == 0, float(\"-inf\"), scaled_QK_t_LL)\n",
    "        weighted_keys = torch.softmax(scaled_QK_t_LL, dim=-1)\n",
    "        attention_output = einsum(weighted_keys, Value_LK, \"input_len input_len, input_len dv -> input_len dv\")\n",
    "        return attention_output\n",
    "\n"
   ]
  },
  {
   "cell_type": "code",
   "execution_count": 37,
   "metadata": {},
   "outputs": [],
   "source": [
    "class Transformer(nn.Module):\n",
    "    def __init__(self, d_model: int = 512, num_decoders: int = 6, maximum_sequence_length: int = 5000, P_drop: float = 0.1, vocabulary_size: int = 10000):\n",
    "\n",
    "        super().__init__()\n",
    "        assert (num_decoders >= 1)\n",
    "        self.d_model = d_model\n",
    "        self.d_k, self.d_v = d_model, d_model\n",
    "        self.max_sequence_length = maximum_sequence_length\n",
    "        self.vocabulary_size = vocabulary_size\n",
    "\n",
    "        self.P_drop = P_drop\n",
    "\n",
    "        self.positional_encodings = SinusoidalPositionalEncoding(d_model=self.d_model)\n",
    "\n",
    "        self.emb_dropout = nn.Dropout(p = self.P_drop)\n",
    "        self.embedding = EmbeddingLayer(vector_size=self.d_model, vocab_size=self.vocabulary_size)\n",
    "        # print(\"embed info\", self.embedding.get_weights().shape)\n",
    "        self.decoder_stack = nn.Sequential()\n",
    "        for _ in range(num_decoders):\n",
    "            self.decoder_stack.append(Decoder(d_model = self.d_model, d_k = self.d_k, d_v = self.d_v, P_drop = self.P_drop))\n",
    "\n",
    "        self.linear = nn.Linear(self.d_model, self.vocabulary_size)\n",
    "        # make the loss reduce without shared matrixes for now.\n",
    "        # with torch.no_grad():\n",
    "        #     self.linear.weight = self.embedding.get_weights()\n",
    "        self.softmax = nn.LogSoftmax(dim=1) # this is LogSoftmax so we can get the NLLLoss\n",
    "    \n",
    "    def forward(self, input_tokens_L: torch.Tensor):\n",
    "        assert(input_tokens_L.dim() == 1 and input_tokens_L.dtype == torch.int)\n",
    "        L = input_tokens_L.shape[-1]\n",
    "        # how do we get from input tokens to indices?\n",
    "        embed_tokens_BLD = self.embedding(input_tokens_L)\n",
    "        # print(embed_tokens.dim())\n",
    "        # print(embed_tokens.shape)\n",
    "        # print(sequence_length, self.d_model)\n",
    "        assert(embed_tokens_BLD.dim() == 2 and embed_tokens_BLD.shape == torch.Size([L, self.d_model]))\n",
    "\n",
    "        # Add positional encoding information\n",
    "        # pos_enc = torch.zeros_like(embed_tokens)\n",
    "        # for position in range(sequence_length):\n",
    "        pos_enc_LD = self.positional_encodings()[:L, ...]\n",
    "        embed_tokens_BLD += pos_enc_LD\n",
    "\n",
    "        decoder_output_LD = self.decoder_stack(embed_tokens_BLD)\n",
    "\n",
    "        assert(decoder_output_LD.dim() == 2 and decoder_output_LD.shape == torch.Size([L, self.d_model]))\n",
    "        linear_output_LV = self.linear(decoder_output_LD)\n",
    "        next_token_probabilities_LV = self.softmax(linear_output_LV)\n",
    "\n",
    "        return next_token_probabilities_LV # this is of shape [seq_len, vocab_size] (each token has computed a probabilistic next token)\n",
    "        \"\"\"Now we map these back to the words based on the maximum token.\"\"\"\n"
   ]
  },
  {
   "cell_type": "code",
   "execution_count": 38,
   "metadata": {},
   "outputs": [
    {
     "name": "stdout",
     "output_type": "stream",
     "text": [
      "torch.Size([9, 10000])\n"
     ]
    }
   ],
   "source": [
    "def test_transformer_runs():\n",
    "    \"\"\"With a dummy input lets just test if the components of the transformer fit together\"\"\"\n",
    "    input_ints = torch.tensor([1, 2, 3, 4, 3, 6, 5, 7, 8], dtype=torch.int).to(\"cuda\")\n",
    "    model = Transformer(d_model=16).to(\"cuda\")\n",
    "    print(model.forward(input_ints).shape)\n",
    "\n",
    "test_transformer_runs()"
   ]
  },
  {
   "cell_type": "markdown",
   "metadata": {},
   "source": [
    "Dataset sample generation"
   ]
  },
  {
   "cell_type": "code",
   "execution_count": 39,
   "metadata": {},
   "outputs": [
    {
     "name": "stdout",
     "output_type": "stream",
     "text": [
      "torch.Size([2, 20])\n",
      "tensor([[15786, 75953, 57193,   307, 99179, 22225, 88453, 66694, 77920, 33748,\n",
      "         19848, 13096, 42588, 61190, 73029, 73162, 86028, 84254, 99494, 70157],\n",
      "        [70157, 99494, 84254, 86028, 73162, 73029, 61190, 42588, 13096, 19848,\n",
      "         33748, 77920, 66694, 88453, 22225, 99179,   307, 57193, 75953, 15786]],\n",
      "       dtype=torch.int32)\n"
     ]
    }
   ],
   "source": [
    "import random\n",
    "\n",
    "def create_reversed_training_sample(vocab_size: int, max_sequence_length):\n",
    "    \"\"\"Generate a palindromic tensor of token indices.\n",
    "    Returns: [A,Rev(A)]\n",
    "    \"\"\"\n",
    "    random_sample_L = torch.randint(2, vocab_size-1, (max_sequence_length,), dtype=torch.int)\n",
    "    # shift the sequence right by 1\n",
    "    # random_sample_L = torch.cat([start_token.unsqueeze(dim=0), random_sample_L], dim=0)\n",
    "\n",
    "    return torch.stack((random_sample_L, torch.flip(random_sample_L, dims=(0,))))\n",
    "\n",
    "\n",
    "sample_training_sample = create_reversed_training_sample(100000, 20)\n",
    "print(sample_training_sample.shape)\n",
    "print(sample_training_sample)\n",
    "# print(rearrange(sample_training_sample, \"s a -> (s a)\", s=2))"
   ]
  },
  {
   "cell_type": "code",
   "execution_count": 40,
   "metadata": {},
   "outputs": [],
   "source": [
    "START_TOKEN, END_TOKEN = torch.tensor(0, dtype=torch.int32), torch.tensor(1, dtype=torch.int32)\n",
    "\n",
    "def shift_decoder_input_right(sample_L: torch.Tensor, start_token: torch.Tensor) -> torch.Tensor:\n",
    "    return torch.cat([start_token.to(sample_L.get_device()).unsqueeze(dim=0), sample_L], dim=0)\n",
    "\n",
    "def pad_input_right(sample_L: torch.Tensor, end_token: torch.Tensor) -> torch.Tensor:\n",
    "    return torch.cat([sample_L, end_token.to(sample_L.get_device()).unsqueeze(dim=0)], dim=0)"
   ]
  },
  {
   "cell_type": "markdown",
   "metadata": {},
   "source": []
  },
  {
   "cell_type": "code",
   "execution_count": 44,
   "metadata": {},
   "outputs": [],
   "source": [
    "def train_loop(dataset, model: torch.nn.Module, loss_fn, optimizer, device):\n",
    "    model.train()\n",
    "    for idx, sequence_2L in enumerate(dataset):\n",
    "        # print(sequence.shape)\n",
    "        \"\"\"Given a palindromic sequence of tokens of length L we are training a model to reverse these tokens.\n",
    "            Thus we can train with inputs 0..L/2 -> output L/2+1, 0..L/2+1 -> output L/2+2\n",
    "        \"\"\"\n",
    "        sequence_2L = sequence_2L.to(device)\n",
    "        # prompt, output = sequence[0,...], sequence[1, ...]\n",
    "        # assert prompt.dim() == 1, output.dim() == 1\n",
    "        input_L = rearrange(sequence_2L, \"two seq_len -> (two seq_len)\", two=2)\n",
    "\n",
    "        # seq_len = int(prompt.shape)\n",
    "        # print(input.dtype)\n",
    "        start_input_L = shift_decoder_input_right(input_L, START_TOKEN)\n",
    "        seq_next_token_probabilities_LV = model(start_input_L)\n",
    "\n",
    "        end_input_L = pad_input_right(input_L, END_TOKEN)\n",
    "\n",
    "        palindrome_seq_len = input_L.numel()\n",
    "        # print(seq_next_token_probabilities_LV[palindrome_seq_len//2:, ...])\n",
    "        # print(end_input_L[ palindrome_seq_len//2:, ...])\n",
    "        # raise\n",
    "\n",
    "        output = loss_fn(seq_next_token_probabilities_LV[palindrome_seq_len//2:, ...], end_input_L[ palindrome_seq_len//2:, ...].to(torch.long))\n",
    "        output.backward()\n",
    "        optimizer.step()\n",
    "        optimizer.zero_grad()\n",
    "        if idx % 200 == 0:\n",
    "            print(f\"Step {idx} : Loss = {output}\\n\")\n",
    "\n"
   ]
  },
  {
   "cell_type": "code",
   "execution_count": 45,
   "metadata": {},
   "outputs": [],
   "source": [
    "def test_loop(dataset, model: torch.nn.Module, loss_fn, device):\n",
    "    size = len(dataset)\n",
    "    print(f\"Test set samples: {size}\")\n",
    "    model.eval()\n",
    "    test_loss, correct = 0, 0\n",
    "    total_tokens = 0\n",
    "    with torch.no_grad():\n",
    "        for idx, sequence in enumerate(dataset):\n",
    "            total_tokens += sequence.numel()\n",
    "            sequence = sequence.to(device)\n",
    "\n",
    "            # Let's test full sequence matching, then test half sequence matching\n",
    "            # if it fully matches the model has just memorized the test data.\n",
    "            input_L = rearrange(sequence, \"sequences seq_len -> (sequences seq_len)\", sequences=2)\n",
    "            start_input_L = shift_decoder_input_right(input_L, START_TOKEN)\n",
    "            seq_next_token_probabilities_LV = model(start_input_L)\n",
    "\n",
    "            end_input_L = pad_input_right(input_L, END_TOKEN)\n",
    "            palindrome_seq_len = input_L.numel()\n",
    "\n",
    "            test_loss += loss_fn(seq_next_token_probabilities_LV[palindrome_seq_len//2:, ...], end_input_L[ palindrome_seq_len//2:, ...].to(torch.long)).item()\n",
    "            correct += (seq_next_token_probabilities_LV.argmax(dim=1) == end_input_L).sum().item()\n",
    "    \n",
    "    test_loss /= total_tokens\n",
    "    correct /= total_tokens\n",
    "    print(f\"Test error: Accuracy: {100*correct}, Avg loss: {test_loss}\\n\")"
   ]
  },
  {
   "cell_type": "markdown",
   "metadata": {},
   "source": [
    "### Train loop"
   ]
  },
  {
   "cell_type": "code",
   "execution_count": 46,
   "metadata": {},
   "outputs": [
    {
     "name": "stdout",
     "output_type": "stream",
     "text": [
      "Step 0 : Loss = 2.634122371673584\n",
      "\n",
      "Step 200 : Loss = 2.108071804046631\n",
      "\n",
      "Step 400 : Loss = 2.017681121826172\n",
      "\n",
      "Step 600 : Loss = 2.0345981121063232\n",
      "\n",
      "Step 800 : Loss = 2.0395984649658203\n",
      "\n",
      "Step 1000 : Loss = 2.029118537902832\n",
      "\n",
      "Step 1200 : Loss = 2.012212038040161\n",
      "\n",
      "Step 1400 : Loss = 2.06430983543396\n",
      "\n",
      "Step 1600 : Loss = 2.001533031463623\n",
      "\n",
      "Step 1800 : Loss = 2.0783751010894775\n",
      "\n",
      "Step 2000 : Loss = 2.074721097946167\n",
      "\n",
      "Step 2200 : Loss = 2.0229060649871826\n",
      "\n",
      "Step 2400 : Loss = 2.0374248027801514\n",
      "\n",
      "Step 2600 : Loss = 2.067699909210205\n",
      "\n",
      "Step 2800 : Loss = 2.0497660636901855\n",
      "\n",
      "Step 3000 : Loss = 2.0181961059570312\n",
      "\n",
      "Step 3200 : Loss = 2.0393199920654297\n",
      "\n",
      "Step 3400 : Loss = 2.060641050338745\n",
      "\n",
      "Step 3600 : Loss = 2.0547120571136475\n",
      "\n",
      "Step 3800 : Loss = 2.0423519611358643\n",
      "\n",
      "Step 4000 : Loss = 2.0414371490478516\n",
      "\n",
      "Step 4200 : Loss = 2.0161654949188232\n",
      "\n",
      "Step 4400 : Loss = 2.0500497817993164\n",
      "\n",
      "Step 4600 : Loss = 2.0206692218780518\n",
      "\n",
      "Step 4800 : Loss = 2.0547122955322266\n",
      "\n",
      "Step 5000 : Loss = 2.026190996170044\n",
      "\n",
      "Step 5200 : Loss = 2.049079179763794\n",
      "\n",
      "Step 5400 : Loss = 2.0432233810424805\n",
      "\n",
      "Step 5600 : Loss = 2.043059825897217\n",
      "\n",
      "Step 5800 : Loss = 2.0492684841156006\n",
      "\n",
      "Step 6000 : Loss = 2.0300118923187256\n",
      "\n",
      "Step 6200 : Loss = 2.0594732761383057\n",
      "\n",
      "Step 6400 : Loss = 2.0422229766845703\n",
      "\n",
      "Step 6600 : Loss = 2.0408332347869873\n",
      "\n",
      "Step 6800 : Loss = 2.0708041191101074\n",
      "\n",
      "Step 7000 : Loss = 2.0641040802001953\n",
      "\n",
      "Step 7200 : Loss = 2.054776191711426\n",
      "\n",
      "Step 7400 : Loss = 2.0380382537841797\n",
      "\n",
      "Step 7600 : Loss = 2.0588717460632324\n",
      "\n"
     ]
    },
    {
     "ename": "KeyboardInterrupt",
     "evalue": "",
     "output_type": "error",
     "traceback": [
      "\u001b[0;31m---------------------------------------------------------------------------\u001b[0m",
      "\u001b[0;31mKeyboardInterrupt\u001b[0m                         Traceback (most recent call last)",
      "Cell \u001b[0;32mIn[46], line 11\u001b[0m\n\u001b[1;32m      9\u001b[0m loss \u001b[38;5;241m=\u001b[39m F\u001b[38;5;241m.\u001b[39mnll_loss\n\u001b[1;32m     10\u001b[0m adam_opt \u001b[38;5;241m=\u001b[39m torch\u001b[38;5;241m.\u001b[39moptim\u001b[38;5;241m.\u001b[39mAdam(model\u001b[38;5;241m.\u001b[39mparameters(), betas\u001b[38;5;241m=\u001b[39m(\u001b[38;5;241m0.9\u001b[39m, \u001b[38;5;241m0.98\u001b[39m), lr\u001b[38;5;241m=\u001b[39m\u001b[38;5;241m0.001\u001b[39m) \u001b[38;5;66;03m# parameters from paper. No LR schedule, default 0.001\u001b[39;00m\n\u001b[0;32m---> 11\u001b[0m \u001b[43mtrain_loop\u001b[49m\u001b[43m(\u001b[49m\u001b[43mdataset\u001b[49m\u001b[38;5;241;43m=\u001b[39;49m\u001b[43mtrain_dataset\u001b[49m\u001b[43m,\u001b[49m\u001b[43m \u001b[49m\u001b[43mmodel\u001b[49m\u001b[38;5;241;43m=\u001b[39;49m\u001b[43mmodel\u001b[49m\u001b[43m,\u001b[49m\u001b[43m \u001b[49m\u001b[43mloss_fn\u001b[49m\u001b[38;5;241;43m=\u001b[39;49m\u001b[43mloss\u001b[49m\u001b[43m,\u001b[49m\u001b[43m \u001b[49m\u001b[43moptimizer\u001b[49m\u001b[38;5;241;43m=\u001b[39;49m\u001b[43madam_opt\u001b[49m\u001b[43m,\u001b[49m\u001b[43m \u001b[49m\u001b[43mdevice\u001b[49m\u001b[38;5;241;43m=\u001b[39;49m\u001b[43mdevice\u001b[49m\u001b[43m)\u001b[49m\n",
      "Cell \u001b[0;32mIn[44], line 26\u001b[0m, in \u001b[0;36mtrain_loop\u001b[0;34m(dataset, model, loss_fn, optimizer, device)\u001b[0m\n\u001b[1;32m     21\u001b[0m \u001b[38;5;66;03m# print(seq_next_token_probabilities_LV[palindrome_seq_len//2:, ...])\u001b[39;00m\n\u001b[1;32m     22\u001b[0m \u001b[38;5;66;03m# print(end_input_L[ palindrome_seq_len//2:, ...])\u001b[39;00m\n\u001b[1;32m     23\u001b[0m \u001b[38;5;66;03m# raise\u001b[39;00m\n\u001b[1;32m     25\u001b[0m output \u001b[38;5;241m=\u001b[39m loss_fn(seq_next_token_probabilities_LV[palindrome_seq_len\u001b[38;5;241m/\u001b[39m\u001b[38;5;241m/\u001b[39m\u001b[38;5;241m2\u001b[39m:, \u001b[38;5;241m.\u001b[39m\u001b[38;5;241m.\u001b[39m\u001b[38;5;241m.\u001b[39m], end_input_L[ palindrome_seq_len\u001b[38;5;241m/\u001b[39m\u001b[38;5;241m/\u001b[39m\u001b[38;5;241m2\u001b[39m:, \u001b[38;5;241m.\u001b[39m\u001b[38;5;241m.\u001b[39m\u001b[38;5;241m.\u001b[39m]\u001b[38;5;241m.\u001b[39mto(torch\u001b[38;5;241m.\u001b[39mlong))\n\u001b[0;32m---> 26\u001b[0m \u001b[43moutput\u001b[49m\u001b[38;5;241;43m.\u001b[39;49m\u001b[43mbackward\u001b[49m\u001b[43m(\u001b[49m\u001b[43m)\u001b[49m\n\u001b[1;32m     27\u001b[0m optimizer\u001b[38;5;241m.\u001b[39mstep()\n\u001b[1;32m     28\u001b[0m optimizer\u001b[38;5;241m.\u001b[39mzero_grad()\n",
      "File \u001b[0;32m~/hands_dirty_deep_learning_curriculum/transformers/.venv/lib/python3.10/site-packages/torch/_tensor.py:626\u001b[0m, in \u001b[0;36mTensor.backward\u001b[0;34m(self, gradient, retain_graph, create_graph, inputs)\u001b[0m\n\u001b[1;32m    616\u001b[0m \u001b[38;5;28;01mif\u001b[39;00m has_torch_function_unary(\u001b[38;5;28mself\u001b[39m):\n\u001b[1;32m    617\u001b[0m     \u001b[38;5;28;01mreturn\u001b[39;00m handle_torch_function(\n\u001b[1;32m    618\u001b[0m         Tensor\u001b[38;5;241m.\u001b[39mbackward,\n\u001b[1;32m    619\u001b[0m         (\u001b[38;5;28mself\u001b[39m,),\n\u001b[0;32m   (...)\u001b[0m\n\u001b[1;32m    624\u001b[0m         inputs\u001b[38;5;241m=\u001b[39minputs,\n\u001b[1;32m    625\u001b[0m     )\n\u001b[0;32m--> 626\u001b[0m \u001b[43mtorch\u001b[49m\u001b[38;5;241;43m.\u001b[39;49m\u001b[43mautograd\u001b[49m\u001b[38;5;241;43m.\u001b[39;49m\u001b[43mbackward\u001b[49m\u001b[43m(\u001b[49m\n\u001b[1;32m    627\u001b[0m \u001b[43m    \u001b[49m\u001b[38;5;28;43mself\u001b[39;49m\u001b[43m,\u001b[49m\u001b[43m \u001b[49m\u001b[43mgradient\u001b[49m\u001b[43m,\u001b[49m\u001b[43m \u001b[49m\u001b[43mretain_graph\u001b[49m\u001b[43m,\u001b[49m\u001b[43m \u001b[49m\u001b[43mcreate_graph\u001b[49m\u001b[43m,\u001b[49m\u001b[43m \u001b[49m\u001b[43minputs\u001b[49m\u001b[38;5;241;43m=\u001b[39;49m\u001b[43minputs\u001b[49m\n\u001b[1;32m    628\u001b[0m \u001b[43m\u001b[49m\u001b[43m)\u001b[49m\n",
      "File \u001b[0;32m~/hands_dirty_deep_learning_curriculum/transformers/.venv/lib/python3.10/site-packages/torch/autograd/__init__.py:347\u001b[0m, in \u001b[0;36mbackward\u001b[0;34m(tensors, grad_tensors, retain_graph, create_graph, grad_variables, inputs)\u001b[0m\n\u001b[1;32m    342\u001b[0m     retain_graph \u001b[38;5;241m=\u001b[39m create_graph\n\u001b[1;32m    344\u001b[0m \u001b[38;5;66;03m# The reason we repeat the same comment below is that\u001b[39;00m\n\u001b[1;32m    345\u001b[0m \u001b[38;5;66;03m# some Python versions print out the first line of a multi-line function\u001b[39;00m\n\u001b[1;32m    346\u001b[0m \u001b[38;5;66;03m# calls in the traceback and some print out the last line\u001b[39;00m\n\u001b[0;32m--> 347\u001b[0m \u001b[43m_engine_run_backward\u001b[49m\u001b[43m(\u001b[49m\n\u001b[1;32m    348\u001b[0m \u001b[43m    \u001b[49m\u001b[43mtensors\u001b[49m\u001b[43m,\u001b[49m\n\u001b[1;32m    349\u001b[0m \u001b[43m    \u001b[49m\u001b[43mgrad_tensors_\u001b[49m\u001b[43m,\u001b[49m\n\u001b[1;32m    350\u001b[0m \u001b[43m    \u001b[49m\u001b[43mretain_graph\u001b[49m\u001b[43m,\u001b[49m\n\u001b[1;32m    351\u001b[0m \u001b[43m    \u001b[49m\u001b[43mcreate_graph\u001b[49m\u001b[43m,\u001b[49m\n\u001b[1;32m    352\u001b[0m \u001b[43m    \u001b[49m\u001b[43minputs\u001b[49m\u001b[43m,\u001b[49m\n\u001b[1;32m    353\u001b[0m \u001b[43m    \u001b[49m\u001b[43mallow_unreachable\u001b[49m\u001b[38;5;241;43m=\u001b[39;49m\u001b[38;5;28;43;01mTrue\u001b[39;49;00m\u001b[43m,\u001b[49m\n\u001b[1;32m    354\u001b[0m \u001b[43m    \u001b[49m\u001b[43maccumulate_grad\u001b[49m\u001b[38;5;241;43m=\u001b[39;49m\u001b[38;5;28;43;01mTrue\u001b[39;49;00m\u001b[43m,\u001b[49m\n\u001b[1;32m    355\u001b[0m \u001b[43m\u001b[49m\u001b[43m)\u001b[49m\n",
      "File \u001b[0;32m~/hands_dirty_deep_learning_curriculum/transformers/.venv/lib/python3.10/site-packages/torch/autograd/graph.py:823\u001b[0m, in \u001b[0;36m_engine_run_backward\u001b[0;34m(t_outputs, *args, **kwargs)\u001b[0m\n\u001b[1;32m    821\u001b[0m     unregister_hooks \u001b[38;5;241m=\u001b[39m _register_logging_hooks_on_whole_graph(t_outputs)\n\u001b[1;32m    822\u001b[0m \u001b[38;5;28;01mtry\u001b[39;00m:\n\u001b[0;32m--> 823\u001b[0m     \u001b[38;5;28;01mreturn\u001b[39;00m \u001b[43mVariable\u001b[49m\u001b[38;5;241;43m.\u001b[39;49m\u001b[43m_execution_engine\u001b[49m\u001b[38;5;241;43m.\u001b[39;49m\u001b[43mrun_backward\u001b[49m\u001b[43m(\u001b[49m\u001b[43m  \u001b[49m\u001b[38;5;66;43;03m# Calls into the C++ engine to run the backward pass\u001b[39;49;00m\n\u001b[1;32m    824\u001b[0m \u001b[43m        \u001b[49m\u001b[43mt_outputs\u001b[49m\u001b[43m,\u001b[49m\u001b[43m \u001b[49m\u001b[38;5;241;43m*\u001b[39;49m\u001b[43margs\u001b[49m\u001b[43m,\u001b[49m\u001b[43m \u001b[49m\u001b[38;5;241;43m*\u001b[39;49m\u001b[38;5;241;43m*\u001b[39;49m\u001b[43mkwargs\u001b[49m\n\u001b[1;32m    825\u001b[0m \u001b[43m    \u001b[49m\u001b[43m)\u001b[49m  \u001b[38;5;66;03m# Calls into the C++ engine to run the backward pass\u001b[39;00m\n\u001b[1;32m    826\u001b[0m \u001b[38;5;28;01mfinally\u001b[39;00m:\n\u001b[1;32m    827\u001b[0m     \u001b[38;5;28;01mif\u001b[39;00m attach_logging_hooks:\n",
      "\u001b[0;31mKeyboardInterrupt\u001b[0m: "
     ]
    }
   ],
   "source": [
    "vocab_size = 10\n",
    "max_sequence_length = 20\n",
    "dataset_size = 100000\n",
    "\n",
    "device = torch.device(\"cuda\")\n",
    "train_dataset = [create_reversed_training_sample(vocab_size, max_sequence_length) for _ in range(int(dataset_size*.7))]\n",
    "\n",
    "model = Transformer(num_decoders=6, maximum_sequence_length=max_sequence_length, vocabulary_size=vocab_size, d_model=128).to(device)\n",
    "loss = F.nll_loss\n",
    "adam_opt = torch.optim.Adam(model.parameters(), betas=(0.9, 0.98), lr=0.001) # parameters from paper. No LR schedule, default 0.001\n",
    "train_loop(dataset=train_dataset, model=model, loss_fn=loss, optimizer=adam_opt, device=device)"
   ]
  },
  {
   "cell_type": "markdown",
   "metadata": {},
   "source": [
    "Accuracy should be 50% ish since the model should only know the second half of the tokens."
   ]
  },
  {
   "cell_type": "code",
   "execution_count": 93,
   "metadata": {},
   "outputs": [
    {
     "name": "stdout",
     "output_type": "stream",
     "text": [
      "Test set samples: 30000\n",
      "Test error: Accuracy: 17.558166666666665, Avg loss: 0.04406889709363381\n",
      "\n"
     ]
    }
   ],
   "source": [
    "test_dataset = [create_reversed_training_sample(vocab_size, max_sequence_length) for _ in range(int(dataset_size*.3))]\n",
    "test_loop(test_dataset, model, loss, device)"
   ]
  },
  {
   "cell_type": "code",
   "execution_count": 95,
   "metadata": {},
   "outputs": [
    {
     "name": "stdout",
     "output_type": "stream",
     "text": [
      "Sample tensor([2, 6, 5, 2, 6, 4, 2, 3, 7, 6, 3, 7, 4, 7, 7, 2, 3, 7, 3, 2, 2, 3, 7, 3,\n",
      "        2, 7, 7, 4, 7, 3, 6, 7, 3, 2, 4, 6, 2, 5, 6, 2], dtype=torch.int32)\n",
      "\n",
      "Total Sample length 40\n",
      "\n",
      "tensor([False, False, False, False, False, False,  True, False, False, False,\n",
      "        False, False, False, False, False, False, False, False, False,  True,\n",
      "         True, False, False, False, False, False, False, False, False, False,\n",
      "        False, False, False, False, False, False, False, False, False, False,\n",
      "         True], device='cuda:0')\n",
      "tensor([1, 1, 4, 1, 2, 6, 2, 2, 3, 1, 6, 3, 6, 3, 8, 4, 2, 2, 7, 2, 2, 8, 8, 8,\n",
      "        8, 8, 8, 8, 8, 8, 8, 8, 8, 8, 8, 8, 8, 8, 8, 8, 1], device='cuda:0')\n"
     ]
    },
    {
     "name": "stderr",
     "output_type": "stream",
     "text": [
      "/tmp/ipykernel_2067495/407559192.py:28: UserWarning: To copy construct from a tensor, it is recommended to use sourceTensor.clone().detach() or sourceTensor.clone().detach().requires_grad_(True), rather than torch.tensor(sourceTensor).\n",
      "  result = torch.tensor(inference(model, random_sample, device))\n"
     ]
    }
   ],
   "source": [
    "def inference(model, sample, device: torch.device):\n",
    "    model.eval()\n",
    "    print(f\"Sample {sample}\\n\")\n",
    "    input_L = sample.to(device)\n",
    "    result = []\n",
    "    with torch.no_grad():\n",
    "        total_tokens = sample.numel()\n",
    "        print(f\"Total Sample length {total_tokens}\\n\")\n",
    "\n",
    "        \n",
    "        start_input_L = shift_decoder_input_right(input_L, START_TOKEN)\n",
    "        seq_next_token_probabilities_LV = model(start_input_L)\n",
    "\n",
    "        end_input_L = pad_input_right(input_L, END_TOKEN)\n",
    "        palindrome_seq_len = input_L.numel()\n",
    "\n",
    "        result = seq_next_token_probabilities_LV.argmax(dim=1)\n",
    "\n",
    "    print(result == end_input_L)\n",
    "    print(result)\n",
    "    return result\n",
    "\n",
    "random_sample = [create_reversed_training_sample(vocab_size, max_sequence_length) for _ in range(1)][0]\n",
    "random_sample = rearrange(random_sample, \"a len -> (a len)\")\n",
    "# print(random_sample.shape)\n",
    "# print(random_sample)\n",
    "# print(random_sample[:2])\n",
    "result = torch.tensor(inference(model, random_sample, device))\n",
    "        \n",
    "\n"
   ]
  },
  {
   "cell_type": "code",
   "execution_count": null,
   "metadata": {},
   "outputs": [],
   "source": []
  },
  {
   "cell_type": "code",
   "execution_count": null,
   "metadata": {},
   "outputs": [],
   "source": []
  }
 ],
 "metadata": {
  "kernelspec": {
   "display_name": "transformers_torch_kernel",
   "language": "python",
   "name": "transformers_torch_kernel"
  },
  "language_info": {
   "codemirror_mode": {
    "name": "ipython",
    "version": 3
   },
   "file_extension": ".py",
   "mimetype": "text/x-python",
   "name": "python",
   "nbconvert_exporter": "python",
   "pygments_lexer": "ipython3",
   "version": "3.10.12"
  }
 },
 "nbformat": 4,
 "nbformat_minor": 2
}
