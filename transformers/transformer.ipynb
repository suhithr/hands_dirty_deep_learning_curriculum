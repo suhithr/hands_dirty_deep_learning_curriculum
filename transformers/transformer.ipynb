{
 "cells": [
  {
   "cell_type": "code",
   "execution_count": 1,
   "metadata": {},
   "outputs": [
    {
     "data": {
      "text/plain": [
       "<torch._C.Generator at 0x7ec8cd172630>"
      ]
     },
     "execution_count": 1,
     "metadata": {},
     "output_type": "execute_result"
    }
   ],
   "source": [
    "from typing import Optional\n",
    "import matplotlib.pyplot as plt\n",
    "import numpy as np\n",
    "import torch\n",
    "from torch import nn\n",
    "import torch.nn.functional as F\n",
    "from einops import rearrange, einsum\n",
    "\n",
    "import math\n",
    "from collections import OrderedDict\n",
    "torch.manual_seed(1234)"
   ]
  },
  {
   "cell_type": "markdown",
   "metadata": {},
   "source": [
    "### Sinusoidal Positional Encodings\n",
    "\n",
    "This is used to inject some positional information into the embeddings of the token sequence. Since we compute the next token for every single token in parallel, we want some info about the position of a token within a sequence to be represented as well.\n",
    "1. Unique encoding for each position (across all sequences)\n",
    "2. Generalize to longer sequence than seen in training\n",
    "3. Generated deterministically (so the model can learn it)\n",
    "4. Linear relation between 2 encoded positions (again to help the model learn relationships)\n",
    "\n",
    "\n",
    "Given a position $pos$ output a vector $d_{model}$ such that for each location $i$ in the vector the output is $$PE_{pos,2i} = \\sin(pos/10000^{2i/d_{model}})$$ $$PE_{pos,2i+1} = \\cos(pos/10000^{2i/d_{model}})$$\n",
    "for even and odd indices respectively\n",
    "\n",
    "we refactor as $$PE_{pos,2i} = \\sin(pos.w)$$ $$PE_{pos,2i+1} = \\cos(pos.w)$$ where $w=1/(10000^{2i/d_{model}}) for 0 <= 2i <= d_{model}$\n",
    "\n",
    "![Sinusoidal PE visualization](fleetwood_sinusoidal.png \"https://fleetwood.dev/posts/you-could-have-designed-SOTA-positional-encoding\")\n",
    "Look at the functions. For a dimension $i$ the $sin/cos$ function's wave starts out extremely quickly changing values for small $i$, and slows down a lot up to a wavelength of $10000*2\\pi$.\n",
    "\n",
    "#### Derivation to use tensor ops\n",
    "$$\\frac{1}{10000^{k/d_{model}}} = 10000^{-k/d_{model}} = \\exp(\\log(10000^{-k/d_{model}}))$$\n",
    "$$ = \\exp(-k/d_{model} * \\log(10000))$$\n",
    "this is basically\n",
    "$$torch.exp(k * (-\\frac{1}{d_{model}}) * \\log(10000))$$"
   ]
  },
  {
   "cell_type": "code",
   "execution_count": 2,
   "metadata": {},
   "outputs": [],
   "source": [
    "class SinusoidalPositionalEncoding(nn.Module):\n",
    "    def __init__(self, d_model: int, max_len: int = 5000) -> None:\n",
    "        \"\"\"Construct the entire positional encoding.\"\"\"\n",
    "        super().__init__()\n",
    "        w = torch.exp(torch.arange(0, d_model, 2) * (-1/d_model) * math.log(10000))\n",
    "        PE = torch.zeros([max_len, d_model])\n",
    "        positions = torch.arange(0, max_len)\n",
    "        # We have 2 vectors\n",
    "        assert (positions.shape == (max_len,))\n",
    "        assert (w.shape == (d_model // 2,))\n",
    "        # If we reshape positions into a row of columns [[0], [1], [2], ...] then \n",
    "        # positions @ w -> gives us a matrix of shape [max_len, d_model/2 ]\n",
    "        positions = rearrange(positions, \"(len column) -> len column\", column=1)\n",
    "        PE[:, 0::2] = torch.sin(positions * w)\n",
    "        PE[:, 1::2] = torch.cos(positions * w)\n",
    "        self.register_buffer(\"PE\", PE) # this is not to be a learnable parameter\n",
    "        # However we do want it to be moved along with model.to(device) \n",
    "    \n",
    "    def forward(self):\n",
    "        return self.PE"
   ]
  },
  {
   "cell_type": "markdown",
   "metadata": {},
   "source": [
    "Just a reference implementation with for-loops to demonstrate speedup of torch ops."
   ]
  },
  {
   "cell_type": "code",
   "execution_count": 3,
   "metadata": {},
   "outputs": [],
   "source": [
    "# output pe -> [d_model]\n",
    "def sinusoidal_position_encoding(pos: int, d_model: int = 512) -> torch.Tensor:\n",
    "    # w = 1/10000**(2i/d_model)\n",
    "    w = torch.tensor([1/(10000**(k/d_model)) for k in range(0, d_model, 2)])\n",
    "    x_indices = pos * w \n",
    "    PE_even = torch.sin(x_indices)\n",
    "    PE_odd = torch.cos(x_indices)\n",
    "    PE_even = rearrange(PE_even, \"(new_dim l) -> l new_dim\", new_dim=1)\n",
    "    PE_odd = rearrange(PE_odd, \"(new_dim l) -> l new_dim\", new_dim=1)\n",
    "    interleaved_result = rearrange([PE_even, PE_odd], \"function d_model element -> (d_model element function)\")\n",
    "    assert (interleaved_result.shape == (d_model,))\n",
    "    return interleaved_result\n",
    "\n",
    "def generate_position_encoding(max_len: int = 5000, d_model: int = 512) -> torch.Tensor:\n",
    "    all_positions_encoding = torch.zeros([max_len, d_model], dtype=torch.float32)\n",
    "    for position in range(max_len):\n",
    "        all_positions_encoding[position, :] += sinusoidal_position_encoding(position, d_model)\n",
    "    return all_positions_encoding"
   ]
  },
  {
   "cell_type": "markdown",
   "metadata": {},
   "source": [
    "#### Note below the speed differential of the vectorized pytorch ops. Eye the units 👀"
   ]
  },
  {
   "cell_type": "code",
   "execution_count": 4,
   "metadata": {},
   "outputs": [
    {
     "name": "stdout",
     "output_type": "stream",
     "text": [
      "252 ms ± 6.52 ms per loop (mean ± std. dev. of 7 runs, 1 loop each)\n"
     ]
    }
   ],
   "source": [
    "%%timeit\n",
    "generate_position_encoding()"
   ]
  },
  {
   "cell_type": "code",
   "execution_count": 5,
   "metadata": {},
   "outputs": [
    {
     "name": "stdout",
     "output_type": "stream",
     "text": [
      "358 μs ± 44.7 μs per loop (mean ± std. dev. of 7 runs, 1,000 loops each)\n"
     ]
    }
   ],
   "source": [
    "%%timeit\n",
    "SinusoidalPositionalEncoding(512)"
   ]
  },
  {
   "cell_type": "code",
   "execution_count": 6,
   "metadata": {},
   "outputs": [
    {
     "name": "stdout",
     "output_type": "stream",
     "text": [
      "torch.Size([5000, 512])\n"
     ]
    }
   ],
   "source": [
    "print(SinusoidalPositionalEncoding(d_model=512).PE.shape)"
   ]
  },
  {
   "cell_type": "code",
   "execution_count": 7,
   "metadata": {},
   "outputs": [],
   "source": [
    "def test_sinusoidal_positional_encoding_class():\n",
    "    max_len = 5000\n",
    "    d_model = 512\n",
    "    pe_class = SinusoidalPositionalEncoding(d_model=d_model, max_len=max_len)\n",
    "    \n",
    "    torch.allclose(pe_class.forward(), generate_position_encoding(max_len=max_len, d_model=d_model))\n",
    "\n",
    "test_sinusoidal_positional_encoding_class()"
   ]
  },
  {
   "cell_type": "markdown",
   "metadata": {},
   "source": [
    "#### Function that calculates attention (single-headed for now)."
   ]
  },
  {
   "cell_type": "markdown",
   "metadata": {},
   "source": [
    "#### A Decoder-Only Transformer Language Model\n",
    "\n",
    "For now we are implementing it with single headed attention"
   ]
  },
  {
   "cell_type": "code",
   "execution_count": 8,
   "metadata": {},
   "outputs": [
    {
     "data": {
      "text/plain": [
       "\"\\nDimension key:\\nL: sequence length\\nD: model dimension (d_model)\\nV: vocabulary size\\nF: feed-forward subnetwork's hidden size\\nK: size of each attention key or value (d_k,d_v,d_kv)\\n\""
      ]
     },
     "execution_count": 8,
     "metadata": {},
     "output_type": "execute_result"
    }
   ],
   "source": [
    "\"\"\"\n",
    "Dimension key:\n",
    "L: sequence length\n",
    "D: model dimension (d_model)\n",
    "V: vocabulary size\n",
    "F: feed-forward subnetwork's hidden size\n",
    "K: size of each attention key or value (d_k,d_v,d_kv)\n",
    "\"\"\""
   ]
  },
  {
   "cell_type": "code",
   "execution_count": 9,
   "metadata": {},
   "outputs": [],
   "source": [
    "class EmbeddingLayer(nn.Module):\n",
    "    def __init__(self, vector_size: int, vocab_size: int):\n",
    "        super().__init__()\n",
    "        self.d_model = vector_size\n",
    "        self.scaling_factor = math.sqrt(self.d_model) # a detail in the paper\n",
    "        self.lut = nn.Embedding(vocab_size, vector_size)\n",
    "    \n",
    "    def forward(self, input_indices: torch.Tensor):\n",
    "        return self.lut(input_indices) # * self.scaling_factor\n",
    "\n",
    "    def get_weights(self):\n",
    "        return self.lut.weight"
   ]
  },
  {
   "cell_type": "code",
   "execution_count": 49,
   "metadata": {},
   "outputs": [],
   "source": [
    "class FeedForward(nn.Module):\n",
    "    def __init__(self, D: int, H: int = 2048):\n",
    "        super().__init__()\n",
    "        self.layers = nn.Sequential(OrderedDict([\n",
    "            (\"linear1\", nn.Linear(D, H)),\n",
    "            (\"relu1\", nn.ReLU()),\n",
    "            (\"linear2\", nn.Linear(H, D)),\n",
    "        ]))\n",
    "    \n",
    "    def forward(self, x):\n",
    "        return self.layers.forward(x)\n",
    "\n",
    "\n",
    "\n",
    "class Decoder(nn.Module):\n",
    "    def __init__(self, d_model: int, d_k: int, d_v: int, P_drop: int):\n",
    "        super().__init__()\n",
    "        # attention function\n",
    "        self.d_model = d_model\n",
    "        self.d_k = d_k\n",
    "        self.d_v = d_v\n",
    "        self.P_drop = P_drop\n",
    "        self.W_query_DK = nn.Parameter(torch.randn([self.d_model, self.d_k]), requires_grad=True)\n",
    "        self.W_key_DK = nn.Parameter(torch.randn([self.d_model, self.d_k]), requires_grad=True)\n",
    "        self.W_value_DK = nn.Parameter(torch.randn([self.d_model, self.d_v]), requires_grad=True)\n",
    "\n",
    "        # normalize over the last dimension in shape [N, d_v], so each layer\n",
    "        self.dropout1 = nn.Dropout(p=self.P_drop)\n",
    "        self.layernorm1 = nn.LayerNorm(self.d_v)\n",
    "        self.feedforward = FeedForward(D=self.d_model)\n",
    "        self.dropout2 = nn.Dropout(p=self.P_drop)\n",
    "        self.layernorm2 = nn.LayerNorm(self.d_model)\n",
    "    \n",
    "    def forward(self, input_LD: torch.Tensor) -> torch.Tensor:\n",
    "        assert(input_LD.dim() == 2 and input_LD.shape[1] == self.d_model)\n",
    "        input_token_length = input_LD.shape[0]\n",
    "        Query_LK = torch.matmul(input_LD, self.W_query_DK)\n",
    "        Key_LK = torch.matmul(input_LD, self.W_key_DK)\n",
    "        Value_LK = torch.matmul(input_LD, self.W_value_DK)\n",
    "\n",
    "        attn_values = self.scaled_dot_prd_attention(Query_LK, Key_LK, Value_LK)\n",
    "        reg_attn_values = self.dropout1(attn_values)\n",
    "        normalized_attn_values = self.layernorm1(reg_attn_values + input_LD)\n",
    "        assert(normalized_attn_values.shape == attn_values.shape)\n",
    "        assert(normalized_attn_values.dim() == 2 and normalized_attn_values.shape[1] == self.d_model)\n",
    "\n",
    "        # print(normalized_attn_values.shape)\n",
    "        ffn_output = self.feedforward(normalized_attn_values)\n",
    "        reg_ffn_output = self.dropout1(ffn_output)\n",
    "\n",
    "        normalized_ffn = self.layernorm2(reg_ffn_output + normalized_attn_values)\n",
    "        return normalized_ffn\n",
    "    \n",
    "    def scaled_dot_prd_attention(self, Query_LK, Key_LK, Value_LK, mask: bool = True) -> torch.Tensor:\n",
    "        assert (Query_LK.shape == Key_LK.shape)\n",
    "\n",
    "        Key_LK_t = rearrange(Key_LK, \"dm dk -> dk dm\")\n",
    "\n",
    "        QK_t_LL = einsum(Query_LK, Key_LK_t, \"i dk, dk k -> i k\")\n",
    "        scaled_QK_t_LL = QK_t_LL / math.sqrt(self.d_model)\n",
    "        # since we want to average the attended keys between the dimension d_k\n",
    "        if mask:\n",
    "            tril_qk = torch.tril(scaled_QK_t_LL)\n",
    "            scaled_QK_t_LL = torch.where(tril_qk == 0, float(\"-inf\"), scaled_QK_t_LL)\n",
    "        # print(scaled_QK_t_LL)\n",
    "        # print(scaled_QK_t_LL.shape)\n",
    "        # raise Exception\n",
    "        weighted_keys = torch.softmax(scaled_QK_t_LL, dim=-1)\n",
    "        # print(weighted_keys)\n",
    "        # raise Exception\n",
    "        attention_output = einsum(weighted_keys, Value_LK, \"input_len input_len, input_len dv -> input_len dv\")\n",
    "        return attention_output\n",
    "\n"
   ]
  },
  {
   "cell_type": "code",
   "execution_count": 50,
   "metadata": {},
   "outputs": [],
   "source": [
    "class Transformer(nn.Module):\n",
    "    def __init__(self, d_model: int = 512, num_decoders: int = 6, maximum_sequence_length: int = 5000, P_drop: float = 0.1, vocabulary_size: int = 10000):\n",
    "\n",
    "        super().__init__()\n",
    "        assert (num_decoders >= 1)\n",
    "        self.d_model = d_model\n",
    "        self.d_k, self.d_v = d_model, d_model\n",
    "        self.max_sequence_length = maximum_sequence_length\n",
    "        self.vocabulary_size = vocabulary_size\n",
    "\n",
    "        self.P_drop = P_drop\n",
    "\n",
    "        self.positional_encodings = SinusoidalPositionalEncoding(d_model=self.d_model)\n",
    "\n",
    "        self.emb_dropout = nn.Dropout(p = self.P_drop)\n",
    "        self.embedding = EmbeddingLayer(vector_size=self.d_model, vocab_size=self.vocabulary_size)\n",
    "        # print(\"embed info\", self.embedding.get_weights().shape)\n",
    "        self.decoder_stack = nn.Sequential()\n",
    "        for _ in range(num_decoders):\n",
    "            self.decoder_stack.append(Decoder(d_model = self.d_model, d_k = self.d_k, d_v = self.d_v, P_drop = self.P_drop))\n",
    "\n",
    "        self.linear = nn.Linear(self.d_model, self.vocabulary_size)\n",
    "        # make the loss reduce without shared matrixes for now.\n",
    "        # with torch.no_grad():\n",
    "        #     self.linear.weight = self.embedding.get_weights()\n",
    "        self.softmax = nn.LogSoftmax(dim=1) # this is LogSoftmax so we can get the NLLLoss\n",
    "    \n",
    "    def forward(self, input_tokens_L: torch.Tensor):\n",
    "        assert(input_tokens_L.dim() == 1 and input_tokens_L.dtype == torch.int)\n",
    "        L = input_tokens_L.shape[0]\n",
    "        # how do we get from input tokens to indices?\n",
    "        embed_tokens_LD = self.embedding(input_tokens_L)\n",
    "        # print(embed_tokens.dim())\n",
    "        # print(embed_tokens.shape)\n",
    "        # print(sequence_length, self.d_model)\n",
    "        assert(embed_tokens_LD.dim() == 2 and embed_tokens_LD.shape == torch.Size([L, self.d_model]))\n",
    "\n",
    "        # Add positional encoding information\n",
    "        # pos_enc = torch.zeros_like(embed_tokens)\n",
    "        # for position in range(sequence_length):\n",
    "        pos_enc_LD = self.positional_encodings()[:L, ...]\n",
    "        embed_tokens_LD += pos_enc_LD\n",
    "\n",
    "        decoder_output_LD = self.decoder_stack(embed_tokens_LD)\n",
    "\n",
    "        assert(decoder_output_LD.dim() == 2 and decoder_output_LD.shape == torch.Size([L, self.d_model]))\n",
    "        linear_output_LV = self.linear(decoder_output_LD)\n",
    "        next_token_probabilities_LV = self.softmax(linear_output_LV)\n",
    "\n",
    "        return next_token_probabilities_LV # this is of shape [seq_len, vocab_size] (each token has computed a probabilistic next token)\n",
    "        \"\"\"Now we map these back to the words based on the maximum token.\"\"\"\n"
   ]
  },
  {
   "cell_type": "code",
   "execution_count": 51,
   "metadata": {},
   "outputs": [
    {
     "name": "stdout",
     "output_type": "stream",
     "text": [
      "torch.Size([9, 10000])\n"
     ]
    }
   ],
   "source": [
    "def test_transformer_runs():\n",
    "    \"\"\"With a dummy input lets just test if the components of the transformer fit together\"\"\"\n",
    "    input_ints = torch.tensor([1, 2, 3, 4, 3, 6, 5, 7, 8], dtype=torch.int).to(\"cuda\")\n",
    "    model = Transformer(d_model=16).to(\"cuda\")\n",
    "    print(model.forward(input_ints).shape)\n",
    "\n",
    "test_transformer_runs()"
   ]
  },
  {
   "cell_type": "markdown",
   "metadata": {},
   "source": [
    "Dataset sample generation"
   ]
  },
  {
   "cell_type": "code",
   "execution_count": 52,
   "metadata": {},
   "outputs": [
    {
     "name": "stdout",
     "output_type": "stream",
     "text": [
      "torch.Size([2, 20])\n",
      "tensor([[55648, 99790, 74472, 48085, 47482, 99059, 34552, 71705, 39921, 30392,\n",
      "         93717, 50309, 29771, 70873, 92550,  2506, 29795,  4214, 91559, 78345],\n",
      "        [78345, 91559,  4214, 29795,  2506, 92550, 70873, 29771, 50309, 93717,\n",
      "         30392, 39921, 71705, 34552, 99059, 47482, 48085, 74472, 99790, 55648]],\n",
      "       dtype=torch.int32)\n"
     ]
    }
   ],
   "source": [
    "import random\n",
    "\n",
    "def create_reversed_training_sample(vocab_size: int, max_sequence_length):\n",
    "    \"\"\"Generate a palindromic tensor of token indices.\n",
    "    Returns: [A,Rev(A)]\n",
    "    \"\"\"\n",
    "    random_sample_L = torch.randint(2, vocab_size-1, (max_sequence_length,), dtype=torch.int)\n",
    "    # shift the sequence right by 1\n",
    "    # random_sample_L = torch.cat([start_token.unsqueeze(dim=0), random_sample_L], dim=0)\n",
    "\n",
    "    return torch.stack((random_sample_L, torch.flip(random_sample_L, dims=(0,))))\n",
    "\n",
    "\n",
    "sample_training_sample = create_reversed_training_sample(100000, 20)\n",
    "print(sample_training_sample.shape)\n",
    "print(sample_training_sample)\n",
    "# print(rearrange(sample_training_sample, \"s a -> (s a)\", s=2))"
   ]
  },
  {
   "cell_type": "code",
   "execution_count": 53,
   "metadata": {},
   "outputs": [],
   "source": [
    "START_TOKEN, END_TOKEN = torch.tensor(0, dtype=torch.int32), torch.tensor(1, dtype=torch.int32)\n",
    "\n",
    "def shift_decoder_input_right(sample_L: torch.Tensor, start_token: torch.Tensor) -> torch.Tensor:\n",
    "    return torch.cat([start_token.to(sample_L.get_device()).unsqueeze(dim=0), sample_L], dim=0)\n",
    "\n",
    "def pad_input_right(sample_L: torch.Tensor, end_token: torch.Tensor) -> torch.Tensor:\n",
    "    return torch.cat([sample_L, end_token.to(sample_L.get_device()).unsqueeze(dim=0)], dim=0)"
   ]
  },
  {
   "cell_type": "markdown",
   "metadata": {},
   "source": []
  },
  {
   "cell_type": "code",
   "execution_count": 67,
   "metadata": {},
   "outputs": [],
   "source": [
    "def train_loop(dataset, model: torch.nn.Module, loss_fn, optimizer, device):\n",
    "    model.train()\n",
    "    for idx, sequence_2L in enumerate(dataset):\n",
    "        # print(sequence.shape)\n",
    "        \"\"\"Given a palindromic sequence of tokens of length L we are training a model to reverse these tokens.\n",
    "            Thus we can train with inputs 0..L/2 -> output L/2+1, 0..L/2+1 -> output L/2+2\n",
    "        \"\"\"\n",
    "        sequence_2L = sequence_2L.to(device)\n",
    "        # prompt, output = sequence[0,...], sequence[1, ...]\n",
    "        # assert prompt.dim() == 1, output.dim() == 1\n",
    "        input_L = rearrange(sequence_2L, \"two seq_len -> (two seq_len)\", two=2)\n",
    "\n",
    "        # seq_len = int(prompt.shape)\n",
    "        # print(input.dtype)\n",
    "        start_input_L = shift_decoder_input_right(input_L, START_TOKEN)\n",
    "        seq_next_token_probabilities_LV = model(start_input_L)\n",
    "\n",
    "        end_input_L = pad_input_right(input_L, END_TOKEN)\n",
    "\n",
    "        # print(\"input\")\n",
    "        # print(start_input_L)\n",
    "        # print(\"output\")\n",
    "        # print(end_input_L)\n",
    "        # print(\"pred\")\n",
    "        # print(seq_next_token_probabilities_LV.argmax(dim=-1))\n",
    "        # raise\n",
    "\n",
    "        palindrome_seq_len = input_L.numel()\n",
    "\n",
    "        output = loss_fn(seq_next_token_probabilities_LV[palindrome_seq_len//2:, ...], end_input_L[ palindrome_seq_len//2:, ...].to(torch.long))\n",
    "        output.backward()\n",
    "        optimizer.step()\n",
    "        optimizer.zero_grad()\n",
    "        if idx % 200 == 0:\n",
    "            print(f\"Step {idx} : Loss = {output}\\n\")\n",
    "\n"
   ]
  },
  {
   "cell_type": "code",
   "execution_count": 72,
   "metadata": {},
   "outputs": [],
   "source": [
    "def test_loop(dataset, model: torch.nn.Module, loss_fn, device):\n",
    "    size = len(dataset)\n",
    "    print(f\"Test set samples: {size}\")\n",
    "    model.eval()\n",
    "    test_loss, correct = 0, 0\n",
    "    total_tokens = 0\n",
    "    with torch.no_grad():\n",
    "        for idx, sequence in enumerate(dataset):\n",
    "            total_tokens += sequence.numel()\n",
    "            sequence = sequence.to(device)\n",
    "\n",
    "            # Let's test full sequence matching, then test half sequence matching\n",
    "            # if it fully matches the model has just memorized the test data.\n",
    "            input_L = rearrange(sequence, \"sequences seq_len -> (sequences seq_len)\", sequences=2)\n",
    "            start_input_L = shift_decoder_input_right(input_L, START_TOKEN)\n",
    "            seq_next_token_probabilities_LV = model(start_input_L)\n",
    "\n",
    "            end_input_L = pad_input_right(input_L, END_TOKEN)\n",
    "            palindrome_seq_len = input_L.numel()\n",
    "\n",
    "            test_loss += loss_fn(seq_next_token_probabilities_LV[palindrome_seq_len//2:, ...], end_input_L[ palindrome_seq_len//2:, ...].to(torch.long)).item()\n",
    "            correct += (seq_next_token_probabilities_LV.argmax(dim=1) == end_input_L).sum().item()\n",
    "    \n",
    "    test_loss /= total_tokens\n",
    "    correct /= total_tokens\n",
    "    print(f\"Test error: Accuracy: {100*correct}, Avg loss: {test_loss}\\n\")"
   ]
  },
  {
   "cell_type": "markdown",
   "metadata": {},
   "source": [
    "### Train loop"
   ]
  },
  {
   "cell_type": "code",
   "execution_count": null,
   "metadata": {},
   "outputs": [
    {
     "name": "stdout",
     "output_type": "stream",
     "text": [
      "Step 0 : Loss = 2.6061553955078125\n",
      "\n",
      "Step 200 : Loss = 2.137230634689331\n",
      "\n",
      "Step 400 : Loss = 2.0387027263641357\n",
      "\n",
      "Step 600 : Loss = 2.1161324977874756\n",
      "\n",
      "Step 800 : Loss = 2.0705223083496094\n",
      "\n",
      "Step 1000 : Loss = 2.0270955562591553\n",
      "\n",
      "Step 1200 : Loss = 2.0740482807159424\n",
      "\n",
      "Step 1400 : Loss = 2.1114020347595215\n",
      "\n",
      "Step 1600 : Loss = 2.0556087493896484\n",
      "\n",
      "Step 1800 : Loss = 2.118525743484497\n",
      "\n",
      "Step 2000 : Loss = 1.994905710220337\n",
      "\n",
      "Step 2200 : Loss = 2.0748255252838135\n",
      "\n",
      "Step 2400 : Loss = 2.0216121673583984\n",
      "\n",
      "Step 2600 : Loss = 2.06050968170166\n",
      "\n",
      "Step 2800 : Loss = 2.0337655544281006\n",
      "\n",
      "Step 3000 : Loss = 2.0898630619049072\n",
      "\n",
      "Step 3200 : Loss = 2.0707640647888184\n",
      "\n",
      "Step 3400 : Loss = 1.9669071435928345\n",
      "\n",
      "Step 3600 : Loss = 2.066638469696045\n",
      "\n",
      "Step 3800 : Loss = 1.875213384628296\n",
      "\n",
      "Step 4000 : Loss = 1.947573184967041\n",
      "\n",
      "Step 4200 : Loss = 2.0580317974090576\n",
      "\n",
      "Step 4400 : Loss = 1.8738828897476196\n",
      "\n",
      "Step 4600 : Loss = 1.9098337888717651\n",
      "\n",
      "Step 4800 : Loss = 1.839841365814209\n",
      "\n",
      "Step 5000 : Loss = 1.8827605247497559\n",
      "\n",
      "Step 5200 : Loss = 1.8554763793945312\n",
      "\n",
      "Step 5400 : Loss = 1.8774633407592773\n",
      "\n",
      "Step 5600 : Loss = 1.8602049350738525\n",
      "\n",
      "Step 5800 : Loss = 1.842256784439087\n",
      "\n",
      "Step 6000 : Loss = 1.8800287246704102\n",
      "\n",
      "Step 6200 : Loss = 1.8393040895462036\n",
      "\n",
      "Step 6400 : Loss = 1.8484909534454346\n",
      "\n",
      "Step 6600 : Loss = 2.0564992427825928\n",
      "\n",
      "Step 6800 : Loss = 1.8825433254241943\n",
      "\n"
     ]
    }
   ],
   "source": [
    "vocab_size = 10\n",
    "max_sequence_length = 20\n",
    "dataset_size = 100000\n",
    "\n",
    "device = torch.device(\"cuda\")\n",
    "train_dataset = [create_reversed_training_sample(vocab_size, max_sequence_length) for _ in range(int(dataset_size*.7))]\n",
    "\n",
    "model = Transformer(num_decoders=6, maximum_sequence_length=max_sequence_length, vocabulary_size=vocab_size).to(device)\n",
    "loss = F.nll_loss\n",
    "adam_opt = torch.optim.Adam(model.parameters(), betas=(0.9, 0.98), lr=0.001) # parameters from paper. No LR schedule, default 0.001\n",
    "train_loop(dataset=train_dataset, model=model, loss_fn=loss, optimizer=adam_opt, device=device)"
   ]
  },
  {
   "cell_type": "markdown",
   "metadata": {},
   "source": [
    "Accuracy should be 50% ish since the model should only know the second half of the tokens."
   ]
  },
  {
   "cell_type": "code",
   "execution_count": 88,
   "metadata": {},
   "outputs": [
    {
     "name": "stdout",
     "output_type": "stream",
     "text": [
      "Test set samples: 3000\n",
      "Test error: Accuracy: 15.688333333333334, Avg loss: 0.04814612322350343\n",
      "\n"
     ]
    }
   ],
   "source": [
    "test_dataset = [create_reversed_training_sample(vocab_size, max_sequence_length) for _ in range(int(dataset_size*.3))]\n",
    "test_loop(test_dataset, model, loss, device)"
   ]
  },
  {
   "cell_type": "code",
   "execution_count": 91,
   "metadata": {},
   "outputs": [
    {
     "name": "stdout",
     "output_type": "stream",
     "text": [
      "Sample tensor([2, 5, 7, 4, 3, 5, 5, 4, 4, 8, 7, 8, 8, 2, 4, 7, 6, 7, 3, 4, 4, 3, 7, 6,\n",
      "        7, 4, 2, 8, 8, 7, 8, 4, 4, 5, 5, 3, 4, 7, 5, 2], dtype=torch.int32)\n",
      "\n",
      "Total Sample length 40\n",
      "\n",
      "tensor([False, False, False, False, False, False, False, False, False, False,\n",
      "        False, False, False,  True, False, False, False, False, False, False,\n",
      "        False, False, False, False, False, False,  True, False, False, False,\n",
      "        False, False, False, False, False, False, False, False, False,  True,\n",
      "         True], device='cuda:0')\n",
      "tensor([1, 8, 8, 2, 2, 8, 2, 2, 2, 2, 2, 2, 2, 2, 2, 2, 2, 2, 2, 2, 2, 2, 2, 2,\n",
      "        2, 2, 2, 2, 2, 2, 2, 2, 2, 2, 2, 2, 2, 2, 2, 2, 1], device='cuda:0')\n"
     ]
    },
    {
     "name": "stderr",
     "output_type": "stream",
     "text": [
      "/tmp/ipykernel_2067495/407559192.py:28: UserWarning: To copy construct from a tensor, it is recommended to use sourceTensor.clone().detach() or sourceTensor.clone().detach().requires_grad_(True), rather than torch.tensor(sourceTensor).\n",
      "  result = torch.tensor(inference(model, random_sample, device))\n"
     ]
    }
   ],
   "source": [
    "def inference(model, sample, device: torch.device):\n",
    "    model.eval()\n",
    "    print(f\"Sample {sample}\\n\")\n",
    "    input_L = sample.to(device)\n",
    "    result = []\n",
    "    with torch.no_grad():\n",
    "        total_tokens = sample.numel()\n",
    "        print(f\"Total Sample length {total_tokens}\\n\")\n",
    "\n",
    "        \n",
    "        start_input_L = shift_decoder_input_right(input_L, START_TOKEN)\n",
    "        seq_next_token_probabilities_LV = model(start_input_L)\n",
    "\n",
    "        end_input_L = pad_input_right(input_L, END_TOKEN)\n",
    "        palindrome_seq_len = input_L.numel()\n",
    "\n",
    "        result = seq_next_token_probabilities_LV.argmax(dim=1)\n",
    "\n",
    "    print(result == end_input_L)\n",
    "    print(result)\n",
    "    return result\n",
    "\n",
    "random_sample = [create_reversed_training_sample(vocab_size, max_sequence_length) for _ in range(1)][0]\n",
    "random_sample = rearrange(random_sample, \"a len -> (a len)\")\n",
    "# print(random_sample.shape)\n",
    "# print(random_sample)\n",
    "# print(random_sample[:2])\n",
    "result = torch.tensor(inference(model, random_sample, device))\n",
    "        \n",
    "\n"
   ]
  },
  {
   "cell_type": "code",
   "execution_count": null,
   "metadata": {},
   "outputs": [],
   "source": []
  },
  {
   "cell_type": "code",
   "execution_count": null,
   "metadata": {},
   "outputs": [],
   "source": []
  }
 ],
 "metadata": {
  "kernelspec": {
   "display_name": "transformers_torch_kernel",
   "language": "python",
   "name": "transformers_torch_kernel"
  },
  "language_info": {
   "codemirror_mode": {
    "name": "ipython",
    "version": 3
   },
   "file_extension": ".py",
   "mimetype": "text/x-python",
   "name": "python",
   "nbconvert_exporter": "python",
   "pygments_lexer": "ipython3",
   "version": "3.10.12"
  }
 },
 "nbformat": 4,
 "nbformat_minor": 2
}
