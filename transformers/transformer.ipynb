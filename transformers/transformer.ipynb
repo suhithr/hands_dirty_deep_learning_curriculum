{
 "cells": [
  {
   "cell_type": "code",
   "execution_count": 2,
   "metadata": {},
   "outputs": [],
   "source": [
    "import matplotlib.pyplot as plt\n",
    "import numpy as np\n",
    "import torch\n",
    "from einops import rearrange"
   ]
  },
  {
   "cell_type": "markdown",
   "metadata": {},
   "source": [
    "Why do we use sinusoidal positional encodings?\n",
    "\n",
    "Look at the functions. For a dimension (i) the sin/cos function's wave starts out extremely quickly changing values for small i, and slows down a lot up to a wavelength of 10000.2pi."
   ]
  },
  {
   "cell_type": "code",
   "execution_count": 7,
   "metadata": {},
   "outputs": [
    {
     "data": {
      "image/png": "[encoded data removed]",
      "text/plain": [
       "<Figure size 640x480 with 1 Axes>"
      ]
     },
     "metadata": {},
     "output_type": "display_data"
    }
   ],
   "source": [
    "d_model = 512\n",
    "sin_denom = [1000**((2*i)/d_model) for i in range(0, 512, 2)]\n",
    "cos_denom = [1000**(((2*i)+1)/d_model) for i in range(1, 512, 2)]\n",
    "np_sin_denom = np.array(sin_denom, dtype=np.float32)\n",
    "np_cos_denom = np.array(cos_denom, dtype=np.float32)\n",
    "\n",
    "pos_1_sin_x = 1 / np_sin_denom\n",
    "pos_1_sin_y = np.sin(pos_1_sin_x)\n",
    "plt.plot(pos_1_sin_x, pos_1_sin_y)\n",
    "plt.xlabel('pos = 1')\n",
    "plt.ylabel('sin(1/1000**(2i/512))')\n",
    "plt.show()"
   ]
  },
  {
   "cell_type": "markdown",
   "metadata": {},
   "source": [
    "## Sinuoidal Positional Encoding\n",
    "Task is:\n",
    "Given a position $pos$ output a vector $d_{model}$ such that for each location $i$ in the vector the output is $$PE_{pos,2i} = \\sin(pos/10000^{2i/d_{model}})$$ $$PE_{pos,2i+1} = \\cos(pos/10000^{2i/d_{model}})$$\n",
    "for even and odd indices respectively\n",
    "\n",
    "we refactor as $$PE_{pos,2i} = \\sin(pos.w)$$ $$PE_{pos,2i+1} = \\cos(pos.w)$$ where $w=1/(10000^{2i/d_{model}}) for 0 <= 2i <= d_{model}$"
   ]
  },
  {
   "cell_type": "code",
   "execution_count": 94,
   "metadata": {},
   "outputs": [],
   "source": [
    "# output pe -> [d_model]\n",
    "def sinusoidal_position_encoding(pos: int, d_model: int = 512) -> torch.tensor:\n",
    "    # w = 1/10000**(2i/d_model)\n",
    "    w = torch.tensor([1/(10000**(k/d_model)) for k in range(0, d_model, 2)])\n",
    "    x_indices = pos * w \n",
    "    PE_even = torch.sin(x_indices)\n",
    "    PE_odd = torch.cos(x_indices)\n",
    "    PE_even = rearrange(PE_even, \"(new_dim l) -> l new_dim\", new_dim=1)\n",
    "    PE_odd = rearrange(PE_odd, \"(new_dim l) -> l new_dim\", new_dim=1)\n",
    "    interleaved_result = rearrange([PE_even, PE_odd], \"function d_model element -> (d_model element function)\")\n",
    "    assert (interleaved_result.shape == (d_model,))\n",
    "    return interleaved_result"
   ]
  },
  {
   "cell_type": "code",
   "execution_count": 96,
   "metadata": {},
   "outputs": [
    {
     "name": "stdout",
     "output_type": "stream",
     "text": [
      "tensor([0.8415, 0.5403, 0.0100, 0.9999])\n"
     ]
    }
   ],
   "source": [
    "print(sinusoidal_position_encoding(1, 4))"
   ]
  },
  {
   "cell_type": "code",
   "execution_count": 97,
   "metadata": {},
   "outputs": [
    {
     "name": "stdout",
     "output_type": "stream",
     "text": [
      "tensor([ 0.9093, -0.4161,  0.0200,  0.9998])\n"
     ]
    }
   ],
   "source": [
    "print(sinusoidal_position_encoding(2, 4))"
   ]
  },
  {
   "cell_type": "markdown",
   "metadata": {},
   "source": [
    "#### Function that calculates attention (single-headed for now)."
   ]
  },
  {
   "cell_type": "code",
   "execution_count": 33,
   "metadata": {},
   "outputs": [],
   "source": [
    "import torch\n",
    "from torch import nn\n",
    "from einops import rearrange, einsum\n",
    "\n",
    "from typing import Optional\n",
    "import math\n",
    "from collections import OrderedDict"
   ]
  },
  {
   "cell_type": "code",
   "execution_count": null,
   "metadata": {},
   "outputs": [],
   "source": [
    "def scaled_dot_prd_attention(Q, K, V, mask: bool = False):\n",
    "    assert (Q.shape == K.shape)\n",
    "\n",
    "    K_t = rearrange(K, \"dm dk -> dk dm\")\n",
    "\n",
    "    QK_t = einsum(Q, K_t, \"i dk, dk k -> i k\")\n",
    "    scaled_QK_t = QK_t / (math.sqrt(d_model))\n",
    "    # since we want to average the attended keys between the dimension d_k\n",
    "    if mask:\n",
    "        attention_mask = torch.full(scaled_QK_t.shape, False, requires_grad=False)\n",
    "        for dim0 in range(attention_mask.shape[0]):\n",
    "            for dim1 in range(attention_mask.shape[1]):\n",
    "                if dim1 > dim0:\n",
    "                    attention_mask[dim0, dim1] = True\n",
    "        assert (attention_mask.shape == scaled_QK_t.shape)\n",
    "        scaled_QK_t.masked_fill_(attention_mask, float(\"-inf\"))\n",
    "    print(scaled_QK_t)\n",
    "    weighted_keys = torch.softmax(scaled_QK_t, dim=1)\n",
    "    print(weighted_keys)\n",
    "    attention_output = einsum(weighted_keys, V, \"input_len input_len, input_len dv -> input_len dv\")\n",
    "    return attention_output\n"
   ]
  },
  {
   "cell_type": "code",
   "execution_count": 29,
   "metadata": {},
   "outputs": [
    {
     "name": "stdout",
     "output_type": "stream",
     "text": [
      "tensor([[ 0.6263,  1.2587,  1.0444,  ...,  2.2483,  0.9847, -0.5333],\n",
      "        [ 0.0000, -0.4944, -0.2343,  ..., -0.6481, -0.5001,  2.0218],\n",
      "        [ 0.0000,  0.0000, -0.3240,  ..., -2.1367, -0.9365, -1.3077],\n",
      "        ...,\n",
      "        [ 0.0000,  0.0000,  0.0000,  ...,  1.4101, -2.3363, -0.0670],\n",
      "        [ 0.0000,  0.0000,  0.0000,  ...,  0.0000, -1.2210, -0.3642],\n",
      "        [ 0.0000,  0.0000,  0.0000,  ...,  0.0000,  0.0000, -1.1448]])\n",
      "tensor([[ 0.6263,    -inf,    -inf,  ...,    -inf,    -inf,    -inf],\n",
      "        [ 0.0000, -0.4944,    -inf,  ...,    -inf,    -inf,    -inf],\n",
      "        [ 0.0000,  0.0000, -0.3240,  ...,    -inf,    -inf,    -inf],\n",
      "        ...,\n",
      "        [ 0.0000,  0.0000,  0.0000,  ...,  1.4101,    -inf,    -inf],\n",
      "        [ 0.0000,  0.0000,  0.0000,  ...,  0.0000, -1.2210,    -inf],\n",
      "        [ 0.0000,  0.0000,  0.0000,  ...,  0.0000,  0.0000, -1.1448]])\n",
      "tensor([[1.0000e+00, 0.0000e+00, 0.0000e+00,  ..., 0.0000e+00, 0.0000e+00,\n",
      "         0.0000e+00],\n",
      "        [6.2114e-01, 3.7886e-01, 0.0000e+00,  ..., 0.0000e+00, 0.0000e+00,\n",
      "         0.0000e+00],\n",
      "        [3.6721e-01, 3.6721e-01, 2.6558e-01,  ..., 0.0000e+00, 0.0000e+00,\n",
      "         0.0000e+00],\n",
      "        ...,\n",
      "        [1.9490e-03, 1.9490e-03, 1.9490e-03,  ..., 7.9837e-03, 0.0000e+00,\n",
      "         0.0000e+00],\n",
      "        [1.9597e-03, 1.9597e-03, 1.9597e-03,  ..., 1.9597e-03, 5.7798e-04,\n",
      "         0.0000e+00],\n",
      "        [1.9557e-03, 1.9557e-03, 1.9557e-03,  ..., 1.9557e-03, 1.9557e-03,\n",
      "         6.2247e-04]])\n"
     ]
    },
    {
     "data": {
      "text/plain": [
       "tensor([[-1.5476e+00, -8.8049e-01,  3.6044e-01,  ...,  1.5768e-01,\n",
       "          2.6848e-01,  3.4911e-01],\n",
       "        [-5.5044e-01,  6.8291e-02, -7.9834e-01,  ..., -1.7824e-01,\n",
       "         -5.8716e-01, -5.9838e-01],\n",
       "        [-2.2274e-01, -2.7328e-01, -6.5209e-01,  ..., -9.9067e-02,\n",
       "         -6.6150e-02,  6.6993e-02],\n",
       "        ...,\n",
       "        [-2.0917e-03, -2.1781e-03, -1.2657e-02,  ...,  9.8242e-03,\n",
       "          4.5074e-03,  5.5943e-03],\n",
       "        [ 8.8999e-04,  3.1374e-04,  3.2082e-04,  ..., -1.0951e-04,\n",
       "          1.1297e-03, -1.7214e-04],\n",
       "        [-4.2918e-04, -7.0503e-04,  7.9431e-04,  ...,  1.2830e-03,\n",
       "          7.1038e-04, -3.3223e-04]])"
      ]
     },
     "execution_count": 29,
     "metadata": {},
     "output_type": "execute_result"
    }
   ],
   "source": [
    "input_length, d_k, d_v = 512, 512, 512\n",
    "Q = torch.randn([input_length, d_k], dtype=torch.float32)\n",
    "K = torch.randn([input_length, d_k], dtype=torch.float32)\n",
    "V = torch.randn([input_length, d_v], dtype=torch.float32)\n",
    "scaled_dot_prd_attention(Q, K, V, mask=True)"
   ]
  },
  {
   "cell_type": "markdown",
   "metadata": {},
   "source": [
    "#### A Decoder-Only Transformer Language Model\n",
    "\n",
    "For now we are implementing it with single headed attention"
   ]
  },
  {
   "cell_type": "code",
   "execution_count": null,
   "metadata": {},
   "outputs": [],
   "source": [
    "class FeedForward(nn.Module):\n",
    "    def __init__(self, d_ffn: int = 2048):\n",
    "        super().__init__()\n",
    "        self.layers = nn.Sequential(OrderedDict([\n",
    "            (\"linear1\", nn.Linear(d_model, d_ffn)),\n",
    "            (\"relu1\", nn.ReLU),\n",
    "            (\"linear2\", nn.Linear(d_ffn, d_model)),\n",
    "        ]))\n",
    "    \n",
    "    def forward(self, x):\n",
    "        return self.layers.forward(x)\n",
    "\n",
    "class Decoder(nn.Module):\n",
    "    def __init__(self, d_model: int, d_k: int, d_v: int):\n",
    "        super().__init__()\n",
    "        # attention function\n",
    "        self.d_model = d_model\n",
    "        self.d_k = d_k\n",
    "        self.d_v = d_v\n",
    "        self.W_Q = nn.Parameter(torch.randn([self.d_model, self.d_k]), requires_grad=True)\n",
    "        self.W_K = nn.Parameter(torch.randn([self.d_model, self.d_k]), requires_grad=True)\n",
    "        self.W_V = nn.Parameter(torch.randn([self.d_model, self.d_v]), requires_grad=True)\n",
    "        # normalize over the last dimension in shape [N, d_v], so each layer\n",
    "        self.layernorm1 = nn.LayerNorm(self.d_v)\n",
    "        self.feedforward = FeedForward(d_model=self.d_model)\n",
    "        self.layernorm2 = nn.LayerNorm(self.d_model)\n",
    "    \n",
    "    def forward(self, input: torch.Tensor):\n",
    "        # can matmuls change size in torch while training? Or do I need a fixed size that is padded with\n",
    "        # lines of zeros?\n",
    "        assert(input.dim == 2 and input.shape[1] == self.d_model)\n",
    "        input_token_length = input.shape[0]\n",
    "        Q = torch.matmul(input, self.W_Q)\n",
    "        K = torch.matmul(input, self.W_K)\n",
    "        V = torch.matmul(input, self.W_V)\n",
    "\n",
    "        attn_values = scaled_dot_prd_attention(Q, K, V, mask = True)\n",
    "        \n",
    "        normalized_attn_values = self.layernorm1(attn_values + input)\n",
    "        assert(normalized_attn_values.shape == attn_values.shape)\n",
    "        assert(normalized_attn_values.dim() == 2 and normalized_attn_values.shape[1] == self.d_model)\n",
    "\n",
    "        ffn_output = self.feedforward(normalized_attn_values)\n",
    "\n",
    "        normalized_ffn = self.layernorm2(ffn_output + normalized_attn_values)\n",
    "        return normalized_ffn\n",
    "\n",
    "class EmbeddingLayer(nn.Module):\n",
    "    def __init__(self, vector_size: int, vocab_size: int):\n",
    "        super().__init__()\n",
    "        self.d_model = vector_size\n",
    "        self.scaling_factor = math.sqrt(self.d_model) # a detail in the paper\n",
    "        self.lut = nn.Embedding(vocab_size, vector_size)\n",
    "    \n",
    "    def embed(self, input_indices):\n",
    "        return self.lut(input_indices) * self.scaling_factor\n",
    "\n",
    "    def get_weights(self):\n",
    "        return self.lut.weight\n",
    "\n",
    "class Transformer(nn.Module):\n",
    "    def __init__(self, num_decoders: int = 6):\n",
    "\n",
    "        super().__init__()\n",
    "        assert (num_decoders >= 1)\n",
    "        self.d_model = 512\n",
    "        self.d_k, self.d_v = 512, 512\n",
    "        self.embedding = EmbeddingLayer()\n",
    "        self.decoder_stack = nn.Sequential()\n",
    "        for _ in range(num_decoders):\n",
    "            self.decoder_stack.append(Decoder(d_model = self.d_model, d_k = self.d_k, d_v = self.d_v))\n",
    "\n",
    "        self.linear = nn.Linear(self.d_model, self.d_model)\n",
    "        with torch.no_grad:\n",
    "            self.linear.weight = self.embedding.get_weights()\n",
    "        self.softmax = nn.Softmax(dim=1)\n",
    "    \n",
    "    def forward(self, input_tokens: list[str]):\n",
    "        sequence_length = len(input_tokens)\n",
    "        # how do we get from input tokens to indices?\n",
    "        embed_tokens = self.embedding(input_tokens)\n",
    "        assert(embed_tokens.dim() == 2 and embed_tokens.shape == [len(input_tokens), self.d_model])\n",
    "\n",
    "        # Add positional encoding information\n",
    "        pos_enc = torch.zeros_like(embed_tokens)\n",
    "        for position in range(sequence_length):\n",
    "            pos_enc[position, :] += sinusoidal_position_encoding(position, self.d_model)\n",
    "        embed_tokens += pos_enc\n",
    "\n",
    "        decoder_output = self.decoder_stack(embed_tokens)\n",
    "\n",
    "        assert(decoder_output.dim() == 2 and decoder_output.shape == [sequence_length, self.d_model])\n",
    "        linear_output = self.linear(decoder_output)\n",
    "\n",
    "        next_token_probabilities = self.softmax(linear_output)\n"
   ]
  },
  {
   "cell_type": "code",
   "execution_count": null,
   "metadata": {},
   "outputs": [],
   "source": []
  }
 ],
 "metadata": {
  "kernelspec": {
   "display_name": "transformers_torch_kernel",
   "language": "python",
   "name": "transformers_torch_kernel"
  },
  "language_info": {
   "codemirror_mode": {
    "name": "ipython",
    "version": 3
   },
   "file_extension": ".py",
   "mimetype": "text/x-python",
   "name": "python",
   "nbconvert_exporter": "python",
   "pygments_lexer": "ipython3",
   "version": "3.10.12"
  }
 },
 "nbformat": 4,
 "nbformat_minor": 2
}
