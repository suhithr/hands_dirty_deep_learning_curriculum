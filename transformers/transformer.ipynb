{
 "cells": [
  {
   "cell_type": "code",
   "execution_count": 2,
   "metadata": {},
   "outputs": [
    {
     "data": {
      "text/plain": [
       "<torch._C.Generator at 0x7af0140f2130>"
      ]
     },
     "execution_count": 2,
     "metadata": {},
     "output_type": "execute_result"
    }
   ],
   "source": [
    "from typing import Optional\n",
    "import matplotlib.pyplot as plt\n",
    "import numpy as np\n",
    "import torch\n",
    "from torch import nn\n",
    "import torch.nn.functional as F\n",
    "from einops import rearrange, einsum\n",
    "\n",
    "import math\n",
    "from collections import OrderedDict\n",
    "torch.manual_seed(1234)"
   ]
  },
  {
   "cell_type": "markdown",
   "metadata": {},
   "source": [
    "### Sinusoidal Positional Encodings\n",
    "\n",
    "This is used to inject some positional information into the embeddings of the token sequence. Since we compute the next token for every single token in parallel, we want some info about the position of a token within a sequence to be represented as well.\n",
    "1. Unique encoding for each position (across all sequences)\n",
    "2. Generalize to longer sequence than seen in training\n",
    "3. Generated deterministically (so the model can learn it)\n",
    "4. Linear relation between 2 encoded positions (again to help the model learn relationships)\n",
    "\n",
    "\n",
    "Given a position $pos$ output a vector $d_{model}$ such that for each location $i$ in the vector the output is $$PE_{pos,2i} = \\sin(pos/10000^{2i/d_{model}})$$ $$PE_{pos,2i+1} = \\cos(pos/10000^{2i/d_{model}})$$\n",
    "for even and odd indices respectively\n",
    "\n",
    "we refactor as $$PE_{pos,2i} = \\sin(pos.w)$$ $$PE_{pos,2i+1} = \\cos(pos.w)$$ where $w=1/(10000^{2i/d_{model}}) for 0 <= 2i <= d_{model}$\n",
    "\n",
    "![Sinusoidal PE visualization](fleetwood_sinusoidal.png \"https://fleetwood.dev/posts/you-could-have-designed-SOTA-positional-encoding\")\n",
    "Look at the functions. For a dimension $i$ the $sin/cos$ function's wave starts out extremely quickly changing values for small $i$, and slows down a lot up to a wavelength of $10000*2\\pi$.\n",
    "\n",
    "#### Derivation to use tensor ops\n",
    "$$\\frac{1}{10000^{k/d_{model}}} = 10000^{-k/d_{model}} = \\exp(\\log(10000^{-k/d_{model}}))$$\n",
    "$$ = \\exp(-k/d_{model} * \\log(10000))$$\n",
    "this is basically\n",
    "$$torch.exp(k * (-\\frac{1}{d_{model}}) * \\log(10000))$$"
   ]
  },
  {
   "cell_type": "code",
   "execution_count": 4,
   "metadata": {},
   "outputs": [],
   "source": [
    "class SinusoidalPositionalEncoding(nn.Module):\n",
    "    def __init__(self, d_model: int, max_len: int = 5000) -> None:\n",
    "        \"\"\"Construct the entire positional encoding.\"\"\"\n",
    "        super().__init__()\n",
    "        w = torch.exp(torch.arange(0, d_model, 2) * (-1/d_model) * math.log(10000))\n",
    "        PE = torch.zeros([max_len, d_model])\n",
    "        positions = torch.arange(0, max_len)\n",
    "        # We have 2 vectors\n",
    "        assert (positions.shape == (max_len,))\n",
    "        assert (w.shape == (d_model // 2,))\n",
    "        # If we reshape positions into a row of columns [[0], [1], [2], ...] then \n",
    "        # positions @ w -> gives us a matrix of shape [max_len, d_model/2 ]\n",
    "        positions = rearrange(positions, \"(len column) -> len column\", column=1)\n",
    "        PE[:, 0::2] = torch.sin(positions * w)\n",
    "        PE[:, 1::2] = torch.cos(positions * w)\n",
    "        self.register_buffer(\"PE\", PE) # this is not to be a learnable parameter\n",
    "        # However we do want it to be moved along with model.to(device) \n",
    "    \n",
    "    def forward(self):\n",
    "        return self.PE"
   ]
  },
  {
   "cell_type": "code",
   "execution_count": 5,
   "metadata": {},
   "outputs": [],
   "source": [
    "# output pe -> [d_model]\n",
    "def sinusoidal_position_encoding(pos: int, d_model: int = 512) -> torch.Tensor:\n",
    "    # w = 1/10000**(2i/d_model)\n",
    "    w = torch.tensor([1/(10000**(k/d_model)) for k in range(0, d_model, 2)])\n",
    "    x_indices = pos * w \n",
    "    PE_even = torch.sin(x_indices)\n",
    "    PE_odd = torch.cos(x_indices)\n",
    "    PE_even = rearrange(PE_even, \"(new_dim l) -> l new_dim\", new_dim=1)\n",
    "    PE_odd = rearrange(PE_odd, \"(new_dim l) -> l new_dim\", new_dim=1)\n",
    "    interleaved_result = rearrange([PE_even, PE_odd], \"function d_model element -> (d_model element function)\")\n",
    "    assert (interleaved_result.shape == (d_model,))\n",
    "    return interleaved_result"
   ]
  },
  {
   "cell_type": "code",
   "execution_count": 6,
   "metadata": {},
   "outputs": [],
   "source": [
    "def generate_position_encoding(max_len: int = 5000, d_model: int = 512) -> torch.Tensor:\n",
    "    all_positions_encoding = torch.zeros([max_len, d_model], dtype=torch.float32)\n",
    "    print(all_positions_encoding.shape)\n",
    "    for position in range(max_len):\n",
    "        all_positions_encoding[position, :] += sinusoidal_position_encoding(position, d_model)\n",
    "    return all_positions_encoding"
   ]
  },
  {
   "cell_type": "markdown",
   "metadata": {},
   "source": [
    "#### Note below the speed differential of the vectorized pytorch ops. Eye the units 👀"
   ]
  },
  {
   "cell_type": "code",
   "execution_count": 7,
   "metadata": {},
   "outputs": [
    {
     "name": "stdout",
     "output_type": "stream",
     "text": [
      "torch.Size([5000, 512])\n",
      "torch.Size([5000, 512])\n",
      "torch.Size([5000, 512])\n",
      "torch.Size([5000, 512])\n",
      "torch.Size([5000, 512])\n",
      "torch.Size([5000, 512])\n",
      "torch.Size([5000, 512])\n",
      "torch.Size([5000, 512])\n",
      "243 ms ± 4.21 ms per loop (mean ± std. dev. of 7 runs, 1 loop each)\n"
     ]
    }
   ],
   "source": [
    "%%timeit\n",
    "generate_position_encoding()"
   ]
  },
  {
   "cell_type": "code",
   "execution_count": 8,
   "metadata": {},
   "outputs": [
    {
     "name": "stdout",
     "output_type": "stream",
     "text": [
      "338 μs ± 1.77 μs per loop (mean ± std. dev. of 7 runs, 1,000 loops each)\n"
     ]
    }
   ],
   "source": [
    "%%timeit\n",
    "SinusoidalPositionalEncoding(512)"
   ]
  },
  {
   "cell_type": "code",
   "execution_count": 9,
   "metadata": {},
   "outputs": [
    {
     "name": "stdout",
     "output_type": "stream",
     "text": [
      "torch.Size([5000, 512])\n"
     ]
    }
   ],
   "source": [
    "print(SinusoidalPositionalEncoding(d_model=512).PE.shape)"
   ]
  },
  {
   "cell_type": "code",
   "execution_count": 10,
   "metadata": {},
   "outputs": [
    {
     "name": "stdout",
     "output_type": "stream",
     "text": [
      "torch.Size([5000, 512])\n"
     ]
    }
   ],
   "source": [
    "def test_sinusoidal_positional_encoding_class():\n",
    "    max_len = 5000\n",
    "    d_model = 512\n",
    "    pe_class = SinusoidalPositionalEncoding(d_model=d_model, max_len=max_len)\n",
    "    \n",
    "    torch.allclose(pe_class.forward(), generate_position_encoding(max_len=max_len, d_model=d_model))\n",
    "\n",
    "test_sinusoidal_positional_encoding_class()"
   ]
  },
  {
   "cell_type": "markdown",
   "metadata": {},
   "source": [
    "#### Function that calculates attention (single-headed for now)."
   ]
  },
  {
   "cell_type": "markdown",
   "metadata": {},
   "source": [
    "#### A Decoder-Only Transformer Language Model\n",
    "\n",
    "For now we are implementing it with single headed attention"
   ]
  },
  {
   "cell_type": "code",
   "execution_count": null,
   "metadata": {},
   "outputs": [],
   "source": [
    "\"\"\"\n",
    "Dimension key:\n",
    "L: sequence length\n",
    "D: model dimension (d_model)\n",
    "V: vocabulary size\n",
    "F: feed-forward subnetwork's hidden size\n",
    "K: size of each attention key or value (d_k,d_v,d_kv)\n",
    "\"\"\""
   ]
  },
  {
   "cell_type": "code",
   "execution_count": 64,
   "metadata": {},
   "outputs": [],
   "source": [
    "class FeedForward(nn.Module):\n",
    "    def __init__(self, D: int, H: int = 2048):\n",
    "        super().__init__()\n",
    "        self.layers = nn.Sequential(OrderedDict([\n",
    "            (\"linear1\", nn.Linear(D, H)),\n",
    "            (\"relu1\", nn.ReLU()),\n",
    "            (\"linear2\", nn.Linear(H, D)),\n",
    "        ]))\n",
    "    \n",
    "    def forward(self, x):\n",
    "        return self.layers.forward(x)\n",
    "\n",
    "\n",
    "\n",
    "class Decoder(nn.Module):\n",
    "    def __init__(self, d_model: int, d_k: int, d_v: int, P_drop: int):\n",
    "        super().__init__()\n",
    "        # attention function\n",
    "        self.d_model = d_model\n",
    "        self.d_k = d_k\n",
    "        self.d_v = d_v\n",
    "        self.P_drop = P_drop\n",
    "        self.W_query_DK = nn.Parameter(torch.randn([self.d_model, self.d_k]), requires_grad=True)\n",
    "        self.W_key_DK = nn.Parameter(torch.randn([self.d_model, self.d_k]), requires_grad=True)\n",
    "        self.W_value_DK = nn.Parameter(torch.randn([self.d_model, self.d_v]), requires_grad=True)\n",
    "\n",
    "        # normalize over the last dimension in shape [N, d_v], so each layer\n",
    "        self.dropout1 = nn.Dropout(p=self.P_drop)\n",
    "        self.layernorm1 = nn.LayerNorm(self.d_v)\n",
    "        self.feedforward = FeedForward(D=self.d_model)\n",
    "        self.dropout2 = nn.Dropout(p=self.P_drop)\n",
    "        self.layernorm2 = nn.LayerNorm(self.d_model)\n",
    "    \n",
    "    def forward(self, input: torch.Tensor) -> torch.Tensor:\n",
    "        assert(input.dim() == 2 and input.shape[1] == self.d_model)\n",
    "        input_token_length = input.shape[0]\n",
    "        Q = torch.matmul(input, self.W_query_DK)\n",
    "        K = torch.matmul(input, self.W_key_DK)\n",
    "        V = torch.matmul(input, self.W_value_DK)\n",
    "\n",
    "        attn_values = self.scaled_dot_prd_attention(Q, K, V)\n",
    "        reg_attn_values = self.dropout1(attn_values)\n",
    "        normalized_attn_values = self.layernorm1(reg_attn_values + input)\n",
    "        assert(normalized_attn_values.shape == attn_values.shape)\n",
    "        assert(normalized_attn_values.dim() == 2 and normalized_attn_values.shape[1] == self.d_model)\n",
    "\n",
    "        # print(normalized_attn_values.shape)\n",
    "        ffn_output = self.feedforward(normalized_attn_values)\n",
    "        reg_ffn_output = self.dropout1(ffn_output)\n",
    "\n",
    "        normalized_ffn = self.layernorm2(reg_ffn_output + normalized_attn_values)\n",
    "        return normalized_ffn\n",
    "    \n",
    "    def scaled_dot_prd_attention(self, Q, K, V, mask: bool = True) -> torch.Tensor:\n",
    "        assert (Q.shape == K.shape)\n",
    "\n",
    "        K_t = rearrange(K, \"dm dk -> dk dm\")\n",
    "\n",
    "        QK_t = einsum(Q, K_t, \"i dk, dk k -> i k\")\n",
    "        scaled_QK_t = QK_t / math.sqrt(self.d_model)\n",
    "        # since we want to average the attended keys between the dimension d_k\n",
    "        tril_qk = torch.tril(scaled_QK_t)\n",
    "        scaled_QK_t = torch.where(tril_qk == 0, float(\"-inf\"), scaled_QK_t)\n",
    "        # print(scaled_QK_t)\n",
    "        # print(scaled_QK_t.shape)\n",
    "        # raise Exception\n",
    "        weighted_keys = torch.softmax(scaled_QK_t, dim=1)\n",
    "        # print(weighted_keys[:10][:10])\n",
    "        # raise Exception\n",
    "        attention_output = einsum(weighted_keys, V, \"input_len input_len, input_len dv -> input_len dv\")\n",
    "        return attention_output\n",
    "\n"
   ]
  },
  {
   "cell_type": "code",
   "execution_count": 65,
   "metadata": {},
   "outputs": [],
   "source": [
    "\n",
    "class EmbeddingLayer(nn.Module):\n",
    "    def __init__(self, vector_size: int, vocab_size: int):\n",
    "        super().__init__()\n",
    "        self.d_model = vector_size\n",
    "        self.scaling_factor = math.sqrt(self.d_model) # a detail in the paper\n",
    "        self.lut = nn.Embedding(vocab_size, vector_size)\n",
    "    \n",
    "    def forward(self, input_indices: torch.Tensor):\n",
    "        return self.lut(input_indices) # * self.scaling_factor\n",
    "\n",
    "    def get_weights(self):\n",
    "        return self.lut.weight\n"
   ]
  },
  {
   "cell_type": "code",
   "execution_count": 72,
   "metadata": {},
   "outputs": [],
   "source": [
    "class Transformer(nn.Module):\n",
    "    def __init__(self, d_model: int = 512, num_decoders: int = 6, maximum_sequence_length: int = 5000, P_drop: float = 0.1, vocabulary_size: int = 10000):\n",
    "\n",
    "        super().__init__()\n",
    "        assert (num_decoders >= 1)\n",
    "        self.d_model = d_model\n",
    "        self.d_k, self.d_v = d_model, d_model\n",
    "        self.max_sequence_length = maximum_sequence_length\n",
    "        self.vocabulary_size = vocabulary_size\n",
    "\n",
    "        self.P_drop = P_drop\n",
    "\n",
    "        self.positional_encodings = SinusoidalPositionalEncoding(d_model=self.d_model)\n",
    "\n",
    "        self.emb_dropout = nn.Dropout(p = self.P_drop)\n",
    "        self.embedding = EmbeddingLayer(vector_size=self.d_model, vocab_size=self.vocabulary_size)\n",
    "        # print(\"embed info\", self.embedding.get_weights().shape)\n",
    "        self.decoder_stack = nn.Sequential()\n",
    "        for _ in range(num_decoders):\n",
    "            self.decoder_stack.append(Decoder(d_model = self.d_model, d_k = self.d_k, d_v = self.d_v, P_drop = self.P_drop))\n",
    "\n",
    "        self.linear = nn.Linear(self.d_model, self.vocabulary_size)\n",
    "        # make the loss reduce without shared matrixes for now.\n",
    "        # with torch.no_grad():\n",
    "        #     self.linear.weight = self.embedding.get_weights()\n",
    "        self.softmax = nn.LogSoftmax(dim=1) # this is LogSoftmax so we can get the NLLLoss\n",
    "    \n",
    "    def forward(self, input_tokens_L: torch.Tensor):\n",
    "        assert(input_tokens_L.dim() == 1 and input_tokens_L.dtype == torch.int)\n",
    "        L = input_tokens_L.shape[0]\n",
    "        # how do we get from input tokens to indices?\n",
    "        embed_tokens_LD = self.embedding(input_tokens_L)\n",
    "        # print(embed_tokens.dim())\n",
    "        # print(embed_tokens.shape)\n",
    "        # print(sequence_length, self.d_model)\n",
    "        assert(embed_tokens_LD.dim() == 2 and embed_tokens_LD.shape == torch.Size([L, self.d_model]))\n",
    "\n",
    "        # Add positional encoding information\n",
    "        # pos_enc = torch.zeros_like(embed_tokens)\n",
    "        # for position in range(sequence_length):\n",
    "        pos_enc_LD = self.positional_encodings()[:L, ...]\n",
    "        embed_tokens_LD += pos_enc_LD\n",
    "\n",
    "        decoder_output_LD = self.decoder_stack(embed_tokens_LD)\n",
    "\n",
    "        assert(decoder_output_LD.dim() == 2 and decoder_output_LD.shape == torch.Size([L, self.d_model]))\n",
    "        linear_output_LV = self.linear(decoder_output_LD)\n",
    "        next_token_probabilities_LV = self.softmax(linear_output_LV)\n",
    "\n",
    "        return next_token_probabilities_LV # this is of shape [seq_len, vocab_size] (each token has computed a probabilistic next token)\n",
    "        \"\"\"Now we map these back to the words based on the maximum token.\"\"\"\n"
   ]
  },
  {
   "cell_type": "code",
   "execution_count": 73,
   "metadata": {},
   "outputs": [
    {
     "name": "stdout",
     "output_type": "stream",
     "text": [
      "torch.Size([9, 10000])\n"
     ]
    }
   ],
   "source": [
    "def test_transformer_runs():\n",
    "    \"\"\"With a dummy input lets just test if the components of the transformer fit together\"\"\"\n",
    "    input_ints = torch.tensor([1, 2, 3, 4, 3, 6, 5, 7, 8], dtype=torch.int).to(\"cuda\")\n",
    "    model = Transformer(d_model=16).to(\"cuda\")\n",
    "    print(model.forward(input_ints).shape)\n",
    "\n",
    "test_transformer_runs()"
   ]
  },
  {
   "cell_type": "markdown",
   "metadata": {},
   "source": [
    "Dataset sample generation"
   ]
  },
  {
   "cell_type": "code",
   "execution_count": 74,
   "metadata": {},
   "outputs": [
    {
     "name": "stdout",
     "output_type": "stream",
     "text": [
      "torch.Size([2, 20])\n",
      "tensor([[14509, 81570, 56940, 41326, 58356, 50691, 23291, 57432,  6395, 46661,\n",
      "         67340, 88120,  9305, 29989, 92979, 49443, 92894, 64343, 98965, 82685],\n",
      "        [82685, 98965, 64343, 92894, 49443, 92979, 29989,  9305, 88120, 67340,\n",
      "         46661,  6395, 57432, 23291, 50691, 58356, 41326, 56940, 81570, 14509]],\n",
      "       dtype=torch.int32)\n"
     ]
    }
   ],
   "source": [
    "import random\n",
    "def create_random_sequence(vocab_size: int, max_sequence_length) -> torch.Tensor:\n",
    "    # return torch.randint(0, vocab_size-1, (random.randint(10, (max_sequence_length/2)-1),), dtype=torch.int)\n",
    "    return torch.randint(0, vocab_size-1, (max_sequence_length,), dtype=torch.int)\n",
    "\n",
    "def create_reversed_training_sample(vocab_size: int, max_sequence_length):\n",
    "    \"\"\"Generate a palindromic tensor of token indices.\n",
    "    Returns: [A,Rev(A)]\n",
    "    \"\"\"\n",
    "    random_sample = create_random_sequence(vocab_size=vocab_size, max_sequence_length=max_sequence_length)\n",
    "    return torch.stack((random_sample, torch.flip(random_sample, dims=(0,))))\n",
    "\n",
    "sample_training_sample = create_reversed_training_sample(100000, 20)\n",
    "print(sample_training_sample.shape)\n",
    "print(sample_training_sample)\n",
    "# print(rearrange(sample_training_sample, \"s a -> (s a)\", s=2))"
   ]
  },
  {
   "cell_type": "code",
   "execution_count": 75,
   "metadata": {},
   "outputs": [],
   "source": [
    "def train_loop(dataset, model: torch.nn.Module, loss_fn, optimizer, device):\n",
    "    model.train()\n",
    "    for idx, sequence in enumerate(dataset):\n",
    "        # print(sequence.shape)\n",
    "        \"\"\"Given a palindromic sequence of tokens of length L we are training a model to reverse these tokens.\n",
    "            Thus we can train with inputs 0..L/2 -> output L/2+1, 0..L/2+1 -> output L/2+2\n",
    "        \"\"\"\n",
    "        sequence = sequence.to(device)\n",
    "        # prompt, output = sequence[0,...], sequence[1, ...]\n",
    "        # assert prompt.dim() == 1, output.dim() == 1\n",
    "        input = rearrange(sequence, \"sequences seq_len -> (sequences seq_len)\", sequences=2)\n",
    "\n",
    "        # seq_len = int(prompt.shape)\n",
    "        # print(input.dtype)\n",
    "\n",
    "        seq_next_token_probabilities = model(input) # [input_len, V]\n",
    "\n",
    "        # print(seq_next_token_probabilities.shape, seq_next_token_probabilities.dtype)\n",
    "        output = loss_fn(seq_next_token_probabilities, input.to(torch.long))\n",
    "        output.backward()\n",
    "        optimizer.step()\n",
    "        optimizer.zero_grad()\n",
    "        if idx % 200 == 0:\n",
    "            print(f\"Step {idx} : Loss = {output}\\n\")\n",
    "\n"
   ]
  },
  {
   "cell_type": "code",
   "execution_count": 76,
   "metadata": {},
   "outputs": [],
   "source": [
    "def test_loop(dataset, model: torch.nn.Module, loss_fn, device):\n",
    "    size = len(dataset)\n",
    "    print(f\"Test set samples: {size}\")\n",
    "    model.eval()\n",
    "    test_loss, correct = 0, 0\n",
    "    total_tokens = 0\n",
    "    with torch.no_grad():\n",
    "        for idx, sequence in enumerate(dataset):\n",
    "            total_tokens += sequence.numel()\n",
    "            sequence = sequence.to(device)\n",
    "\n",
    "            # Let's test full sequence matching, then test half sequence matching\n",
    "            # if it fully matches the model has just memorized the test data.\n",
    "            input = rearrange(sequence, \"sequences seq_len -> (sequences seq_len)\", sequences=2)\n",
    "            pred = model(input)\n",
    "            test_loss += loss_fn(pred, input.to(torch.long)).item()\n",
    "            correct += (pred.argmax(dim=1) == input).sum().item()\n",
    "    \n",
    "    test_loss /= total_tokens\n",
    "    correct /= total_tokens\n",
    "    print(f\"Test error: Accuracy: {100*correct}, Avg loss: {test_loss}\\n\")"
   ]
  },
  {
   "cell_type": "markdown",
   "metadata": {},
   "source": [
    "### Train loop"
   ]
  },
  {
   "cell_type": "code",
   "execution_count": 78,
   "metadata": {},
   "outputs": [
    {
     "name": "stdout",
     "output_type": "stream",
     "text": [
      "Step 0 : Loss = 4.794222831726074\n",
      "\n",
      "Step 200 : Loss = 0.2318265736103058\n",
      "\n",
      "Step 400 : Loss = 0.10798325389623642\n",
      "\n",
      "Step 600 : Loss = 0.06682287901639938\n",
      "\n",
      "Step 800 : Loss = 0.15197552740573883\n",
      "\n",
      "Step 1000 : Loss = 0.13703179359436035\n",
      "\n",
      "Step 1200 : Loss = 0.08748020231723785\n",
      "\n",
      "Step 1400 : Loss = 0.0799342542886734\n",
      "\n",
      "Step 1600 : Loss = 0.06832216680049896\n",
      "\n",
      "Step 1800 : Loss = 0.043675877153873444\n",
      "\n",
      "Step 2000 : Loss = 0.09032051265239716\n",
      "\n",
      "Step 2200 : Loss = 0.05185873433947563\n",
      "\n",
      "Step 2400 : Loss = 0.5307435989379883\n",
      "\n",
      "Step 2600 : Loss = 0.04221052676439285\n",
      "\n",
      "Step 2800 : Loss = 0.15600234270095825\n",
      "\n",
      "Step 3000 : Loss = 0.09824006259441376\n",
      "\n",
      "Step 3200 : Loss = 0.04663380607962608\n",
      "\n",
      "Step 3400 : Loss = 0.05471770837903023\n",
      "\n",
      "Step 3600 : Loss = 0.11089969426393509\n",
      "\n",
      "Step 3800 : Loss = 0.04336409270763397\n",
      "\n",
      "Step 4000 : Loss = 0.23348098993301392\n",
      "\n",
      "Step 4200 : Loss = 0.04427555203437805\n",
      "\n",
      "Step 4400 : Loss = 0.0527845062315464\n",
      "\n",
      "Step 4600 : Loss = 0.033761076629161835\n",
      "\n",
      "Step 4800 : Loss = 0.037306416779756546\n",
      "\n",
      "Step 5000 : Loss = 0.1088915467262268\n",
      "\n",
      "Step 5200 : Loss = 0.16183553636074066\n",
      "\n",
      "Step 5400 : Loss = 0.12231472879648209\n",
      "\n",
      "Step 5600 : Loss = 0.03903787210583687\n",
      "\n",
      "Step 5800 : Loss = 0.036861494183540344\n",
      "\n",
      "Step 6000 : Loss = 0.03877710923552513\n",
      "\n",
      "Step 6200 : Loss = 0.07029742002487183\n",
      "\n",
      "Step 6400 : Loss = 0.05370200052857399\n",
      "\n",
      "Step 6600 : Loss = 0.040655575692653656\n",
      "\n",
      "Step 6800 : Loss = 0.035128772258758545\n",
      "\n"
     ]
    }
   ],
   "source": [
    "vocab_size = 100\n",
    "max_sequence_length = 50\n",
    "dataset_size = 10000\n",
    "\n",
    "device = torch.device(\"cuda\")\n",
    "train_dataset = [create_reversed_training_sample(vocab_size, max_sequence_length) for _ in range(int(dataset_size*.7))]\n",
    "\n",
    "model = Transformer(num_decoders=6, maximum_sequence_length=max_sequence_length, vocabulary_size=vocab_size).to(device)\n",
    "loss = F.nll_loss\n",
    "adam_opt = torch.optim.Adam(model.parameters(), betas=(0.9, 0.98), lr=0.001) # parameters from paper. No LR schedule, default 0.001\n",
    "train_loop(dataset=train_dataset, model=model, loss_fn=loss, optimizer=adam_opt, device=device)"
   ]
  },
  {
   "cell_type": "markdown",
   "metadata": {},
   "source": [
    "Accuracy should be 50% ish since the model should only know the second half of the tokens."
   ]
  },
  {
   "cell_type": "code",
   "execution_count": 80,
   "metadata": {},
   "outputs": [
    {
     "name": "stdout",
     "output_type": "stream",
     "text": [
      "Test set samples: 3000\n",
      "Test error: Accuracy: 98.98933333333333, Avg loss: 0.00041133413260336965\n",
      "\n"
     ]
    }
   ],
   "source": [
    "test_dataset = [create_reversed_training_sample(vocab_size, max_sequence_length) for _ in range(int(dataset_size*.3))]\n",
    "test_loop(test_dataset, model, loss, device)"
   ]
  },
  {
   "cell_type": "code",
   "execution_count": 81,
   "metadata": {},
   "outputs": [
    {
     "name": "stdout",
     "output_type": "stream",
     "text": [
      "Sample tensor([56, 90, 28, 90, 84, 21, 33, 39, 35, 15, 87, 46, 75, 96, 16, 71, 48, 49,\n",
      "        13, 69, 52, 21, 21, 76, 62, 40, 73, 25, 64, 93, 22, 54, 89, 10, 22, 59,\n",
      "        70,  2,  1, 88, 72, 61, 70, 47, 56, 76,  1, 55, 97, 96, 96, 97, 55,  1,\n",
      "        76, 56, 47, 70, 61, 72, 88,  1,  2, 70, 59, 22, 10, 89, 54, 22, 93, 64,\n",
      "        25, 73, 40, 62, 76, 21, 21, 52, 69, 13, 49, 48, 71, 16, 96, 75, 46, 87,\n",
      "        15, 35, 39, 33, 21, 84, 90, 28, 90, 56], dtype=torch.int32)\n",
      "\n",
      "Total Sample length 100\n",
      "\n"
     ]
    }
   ],
   "source": [
    "def inference(model, sample, device: torch.device):\n",
    "    model.eval()\n",
    "    print(f\"Sample {sample}\\n\")\n",
    "    sample = sample.to(device)\n",
    "    result = []\n",
    "    with torch.no_grad():\n",
    "        total_tokens = sample.numel()\n",
    "        print(f\"Total Sample length {total_tokens}\\n\")\n",
    "        for input_window in range(1, total_tokens+1):\n",
    "            input = sample[:input_window]\n",
    "\n",
    "            # print(input.shape, input.dtype)\n",
    "            # break\n",
    "            all_next_token_preds = model(input)\n",
    "            # print(all_next_token_preds)\n",
    "            # print(all_next_token_preds.shape)\n",
    "            # break\n",
    "            pred_next_token = all_next_token_preds[-1, ...].argmax(0)\n",
    "            result.append(pred_next_token.cpu())\n",
    "            # print(f\"Predicted next token {pred_next_token}, Actual next token {sample[input_window]}\\n\")\n",
    "    \n",
    "\n",
    "\n",
    "    return result\n",
    "\n",
    "random_sample = [create_reversed_training_sample(vocab_size, max_sequence_length) for _ in range(1)][0]\n",
    "random_sample = rearrange(random_sample, \"a len -> (a len)\")\n",
    "# print(random_sample.shape)\n",
    "# print(random_sample)\n",
    "# print(random_sample[:2])\n",
    "result = torch.tensor(inference(model, random_sample, device))\n",
    "        \n",
    "\n"
   ]
  },
  {
   "cell_type": "code",
   "execution_count": 82,
   "metadata": {},
   "outputs": [
    {
     "name": "stdout",
     "output_type": "stream",
     "text": [
      "tensor([False,  True,  True,  True,  True,  True,  True,  True,  True,  True,\n",
      "         True,  True,  True,  True,  True,  True,  True,  True,  True,  True,\n",
      "         True,  True,  True,  True,  True,  True,  True,  True,  True,  True,\n",
      "         True,  True,  True,  True,  True,  True,  True,  True,  True,  True,\n",
      "         True,  True,  True,  True,  True,  True,  True,  True,  True,  True,\n",
      "         True,  True,  True,  True,  True,  True,  True,  True,  True,  True,\n",
      "         True,  True,  True,  True,  True,  True,  True,  True,  True,  True,\n",
      "         True,  True,  True,  True,  True,  True,  True,  True,  True,  True,\n",
      "         True,  True,  True,  True,  True,  True,  True,  True,  True,  True,\n",
      "         True,  True,  True,  True,  True,  True,  True,  True,  True,  True])\n"
     ]
    }
   ],
   "source": [
    "print(result == random_sample)"
   ]
  },
  {
   "cell_type": "code",
   "execution_count": 83,
   "metadata": {},
   "outputs": [
    {
     "data": {
      "text/plain": [
       "tensor([65, 90, 28, 90, 84, 21, 33, 39, 35, 15, 87, 46, 75, 96, 16, 71, 48, 49,\n",
       "        13, 69, 52, 21, 21, 76, 62, 40, 73, 25, 64, 93, 22, 54, 89, 10, 22, 59,\n",
       "        70,  2,  1, 88, 72, 61, 70, 47, 56, 76,  1, 55, 97, 96, 96, 97, 55,  1,\n",
       "        76, 56, 47, 70, 61, 72, 88,  1,  2, 70, 59, 22, 10, 89, 54, 22, 93, 64,\n",
       "        25, 73, 40, 62, 76, 21, 21, 52, 69, 13, 49, 48, 71, 16, 96, 75, 46, 87,\n",
       "        15, 35, 39, 33, 21, 84, 90, 28, 90, 56])"
      ]
     },
     "execution_count": 83,
     "metadata": {},
     "output_type": "execute_result"
    }
   ],
   "source": [
    "result"
   ]
  },
  {
   "cell_type": "code",
   "execution_count": null,
   "metadata": {},
   "outputs": [],
   "source": []
  },
  {
   "cell_type": "code",
   "execution_count": null,
   "metadata": {},
   "outputs": [],
   "source": []
  }
 ],
 "metadata": {
  "kernelspec": {
   "display_name": "transformers_torch_kernel",
   "language": "python",
   "name": "transformers_torch_kernel"
  },
  "language_info": {
   "codemirror_mode": {
    "name": "ipython",
    "version": 3
   },
   "file_extension": ".py",
   "mimetype": "text/x-python",
   "name": "python",
   "nbconvert_exporter": "python",
   "pygments_lexer": "ipython3",
   "version": "3.10.12"
  }
 },
 "nbformat": 4,
 "nbformat_minor": 2
}
